{
 "cells": [
  {
   "cell_type": "markdown",
   "id": "181bbe29-26f4-4c4a-a9e9-0053263bff52",
   "metadata": {},
   "source": [
    "# Assignment: Scalable Processing\n",
    "## Yelp Reviews and Authenticity\n",
    "\n",
    "Large Scale Data Analysis | by Maciej Jalocha | macja@itu.dk | 10.03.2025"
   ]
  },
  {
   "cell_type": "markdown",
   "id": "92690678-bb97-43d7-ab27-4a6f8db87079",
   "metadata": {
    "jp-MarkdownHeadingCollapsed": true,
    "tags": []
   },
   "source": [
    "## Connecting to the Spark Cluster job using the two JobParameters.json\n",
    "\n",
    "To connect this jupyter notebook with your Spark cluster, we need to tell jupyter how it can access the spark cluster. Below code accomplishes that. Do not worry about how it works, just run the cell once to connect. "
   ]
  },
  {
   "cell_type": "code",
   "execution_count": 2,
   "id": "d483a774-a0ca-4873-a2ee-51d2fcd30ead",
   "metadata": {
    "execution": {
     "iopub.execute_input": "2025-05-30T02:09:18.886771Z",
     "iopub.status.busy": "2025-05-30T02:09:18.886105Z",
     "iopub.status.idle": "2025-05-30T02:09:31.435935Z",
     "shell.execute_reply": "2025-05-30T02:09:31.433900Z",
     "shell.execute_reply.started": "2025-05-30T02:09:18.886714Z"
    },
    "tags": []
   },
   "outputs": [
    {
     "data": {
      "application/javascript": [
       "alert(\"Warning: Found these files ['a2'] that should (most likely) be moved inside your Home folder. Make sure your Git repository and notebooks are all saved inside your Home folder and not at the 'root'/top of filesystem. Please move your files to prevent them from disappearing.\")"
      ],
      "text/plain": [
       "<IPython.core.display.Javascript object>"
      ]
     },
     "metadata": {},
     "output_type": "display_data"
    },
    {
     "name": "stdout",
     "output_type": "stream",
     "text": [
      "Cell has not been executed before. Please restart the UCloud jobs if any error message pops up. Running setup cell now.\n",
      "Success!\n"
     ]
    }
   ],
   "source": [
    "#####################################################################\n",
    "# DO NOT CHANGE ANYTHING HERE.\n",
    "# IF YOU HAVE PROBLEMS, CHECK THE ASSIGNMENT GUIDE CAREFULLY\n",
    "#####################################################################\n",
    "import json\n",
    "import os\n",
    "\n",
    "import jupyterlab\n",
    "import pyspark\n",
    "from IPython.display import Javascript, display\n",
    "from py4j.protocol import Py4JJavaError\n",
    "from pyspark.conf import SparkConf\n",
    "from pyspark.sql import SparkSession\n",
    "from pyspark.sql import functions as F\n",
    "\n",
    "\n",
    "def show_popup(message):\n",
    "    display(Javascript(f'alert(\"{message}\")'))\n",
    "\n",
    "\n",
    "def check_correct_file_location():\n",
    "    items = os.listdir(\"/work\")\n",
    "    items_expected = [\"yelp\", \"Home\", \"JobParameters.json\", \"emails\"]\n",
    "    if sorted(items) != sorted(items_expected):\n",
    "        items_to_be_moved = [\n",
    "            item for item in items if item not in items_expected and item[0] != \".\"\n",
    "        ]  # Ignore hidden files starting with .\n",
    "        show_popup(\n",
    "            f\"Warning: Found these files {items_to_be_moved} that should (most likely) be moved inside your Home folder. Make sure your Git repository and notebooks are all saved inside your Home folder and not at the 'root'/top of filesystem. Please move your files to prevent them from disappearing.\"\n",
    "        )\n",
    "    if \"emails\" not in items_expected:\n",
    "        show_popup(\n",
    "            f'Error: the folder \"emails\" does not seem to be accessible - did you remeber to add it to the Spark Cluster job and JupyterLab job?'\n",
    "        )\n",
    "\n",
    "\n",
    "check_correct_file_location()\n",
    "\n",
    "SUPPORTED_SPARK_VERSION = \"3.3.1\"\n",
    "SUPPORTED_JUPYTERLAB_VERSION = \"3.5.1\"\n",
    "if jupyterlab.__version__ != SUPPORTED_JUPYTERLAB_VERSION:\n",
    "    show_popup(\n",
    "        f\"Wrong JupyterLab version :( When starting the UCloud job you selected {jupyterlab.__version__} but it should have been {SUPPORTED_JUPYTERLAB_VERSION}\"\n",
    "    )\n",
    "    show_popup(\n",
    "        \"Please shutdown this JupyterLab job and follow the instructions carefully in the UCloud setup guide PDF on LearnIT\"\n",
    "    )\n",
    "elif \"_EXECUTED_\" in globals():  # Only execute this cell once.\n",
    "    # check if variable '_EXECUTED_' exists in the global variable namespace\n",
    "    print(\"Already been executed once, not running again!\")\n",
    "else:\n",
    "    print(\n",
    "        \"Cell has not been executed before. Please restart the UCloud jobs if any error message pops up. Running setup cell now.\"\n",
    "    )\n",
    "    # Two files are automatically read: JobParameters.json for the Spark Cluster job using a temporary spark instance\n",
    "    # and JobParameters.json for the Jupyter Lab job to extract the hostname of the cluster.\n",
    "\n",
    "    MASTER_HOST_NAME = None\n",
    "\n",
    "    # Open the parameters Jupyter Lab app was launched with\n",
    "    with open(\"/work/JobParameters.json\", \"r\") as file:\n",
    "        JUPYTER_LAB_JOB_PARAMS = json.load(file)\n",
    "        # from pprint import pprint; pprint(JUPYTER_LAB_JOB_PARAMS)\n",
    "        for resource in JUPYTER_LAB_JOB_PARAMS[\"request\"][\"resources\"]:\n",
    "            if \"hostname\" in resource.keys():\n",
    "                MASTER_HOST_NAME = resource[\"hostname\"]\n",
    "\n",
    "    if MASTER_HOST_NAME != \"spark-cluster\":\n",
    "        msg = f\"The JupyterLab job was started using spark hostname {MASTER_HOST_NAME}. This is not recommended, please start it using spark-cluster instead\"\n",
    "        show_popup(msg)\n",
    "        print(msg)\n",
    "    else:\n",
    "        MASTER_HOST = f\"spark://{MASTER_HOST_NAME}:7077\"\n",
    "\n",
    "        conf = SparkConf().setAll(\n",
    "            [\n",
    "                (\"spark.app.name\", \"reading_job_params_app\"),\n",
    "                (\"spark.master\", MASTER_HOST),\n",
    "            ]\n",
    "        )\n",
    "\n",
    "        spark = SparkSession.builder.config(conf=conf).getOrCreate()\n",
    "\n",
    "        if spark.version != SUPPORTED_SPARK_VERSION:\n",
    "            show_popup(\n",
    "                f\"Wrong Spark Cluster version :( When starting the UCloud job you selected {spark.version} but it should have been {SUPPORTED_SPARK_VERSION}\"\n",
    "            )\n",
    "            show_popup(\n",
    "                \"Please shutdown this JupyterLab job, the Spark Cluster and follow the instructions carefully in the UCloud setup guide PDF on LearnIT\"\n",
    "            )\n",
    "\n",
    "        CLUSTER_PARAMETERS_JSON_DF = spark.read.option(\"multiline\", \"true\").json(\n",
    "            \"/work/JobParameters.json\"\n",
    "        )\n",
    "\n",
    "        # Extract cluster info from the specific JobParameters.json\n",
    "        NODES = CLUSTER_PARAMETERS_JSON_DF.select(\"request.replicas\").first()[0]\n",
    "        CPUS_PER_NODE = (\n",
    "            CLUSTER_PARAMETERS_JSON_DF.select(\"machineType.cpu\").first()[0] - 1\n",
    "        )\n",
    "        MEM_PER_NODE = CLUSTER_PARAMETERS_JSON_DF.select(\n",
    "            \"machineType.memoryInGigs\"\n",
    "        ).first()[0]\n",
    "\n",
    "        CLUSTER_CORES_MAX = CPUS_PER_NODE * NODES\n",
    "        CLUSTER_MEMORY_MAX = MEM_PER_NODE * NODES\n",
    "\n",
    "        if CPUS_PER_NODE > 1:\n",
    "            EXECUTOR_CORES = CPUS_PER_NODE - 1  # set cores per executor on worker node\n",
    "        else:\n",
    "            EXECUTOR_CORES = CPUS_PER_NODE\n",
    "\n",
    "        try:\n",
    "            EXECUTOR_MEMORY = int(\n",
    "                MEM_PER_NODE / (CPUS_PER_NODE / EXECUTOR_CORES) * 0.5\n",
    "            )  # set executor memory in GB on each worker node\n",
    "        except ZeroDivisionError:\n",
    "            show_popup(\n",
    "                f\"Please make sure you selected 3 nodes for the Spark Cluster, each with 24 GB of ram. You selected {MEM_PER_NODE} GB ram and {NODES} node(s)\"\n",
    "            )\n",
    "\n",
    "        # Make sure there is a dir for spark logs\n",
    "        if not os.path.exists(\"spark_logs\"):\n",
    "            os.mkdir(\"spark_logs\")\n",
    "        conf = SparkConf().setAll(\n",
    "            [\n",
    "                (\"spark.app.name\", \"spark_assignment\"),  # Change to your liking\n",
    "                (\n",
    "                    \"spark.sql.caseSensitive\",\n",
    "                    False,\n",
    "                ),  # Optional: Make queries strings sensitive to captialization\n",
    "                (\"spark.master\", MASTER_HOST),\n",
    "                (\"spark.cores.max\", CLUSTER_CORES_MAX),\n",
    "                (\"spark.executor.cores\", EXECUTOR_CORES),\n",
    "                (\"spark.executor.memory\", str(EXECUTOR_MEMORY) + \"g\"),\n",
    "                (\"spark.eventLog.enabled\", True),\n",
    "                (\"spark.eventLog.dir\", \"spark_logs\"),\n",
    "                (\"spark.history.fs.logDirectory\", \"spark_logs\"),\n",
    "                (\"spark.deploy.mode\", \"cluster\"),\n",
    "            ]\n",
    "        )\n",
    "\n",
    "        ## check executor memory, taking into accout 10% of memory overhead (minimum 384 MiB)\n",
    "        CHECK = (CLUSTER_CORES_MAX / EXECUTOR_CORES) * (\n",
    "            EXECUTOR_MEMORY + max(EXECUTOR_MEMORY * 0.10, 0.403)\n",
    "        )\n",
    "\n",
    "        assert (\n",
    "            int(CHECK) <= CLUSTER_MEMORY_MAX\n",
    "        ), \"Executor memory larger than cluster total memory!\"\n",
    "\n",
    "        # Stop previous session that was just for loading cluster params\n",
    "        spark.stop()\n",
    "\n",
    "        # Start new session with above config, that has better resource handling\n",
    "        spark = SparkSession.builder.config(conf=conf).getOrCreate()\n",
    "        sc = spark.sparkContext\n",
    "        _EXECUTED_ = True\n",
    "        print(\"Success!\")"
   ]
  },
  {
   "cell_type": "markdown",
   "id": "93bbb4de-8b40-4364-b8d3-2cc488b16cbf",
   "metadata": {},
   "source": [
    "Click on the \"SparkMonitor\" tab at the top in Jupyter Lab to see the status of running code on the cluster."
   ]
  },
  {
   "cell_type": "markdown",
   "id": "b1de3dec-d95c-44b9-a996-12e97cc34c2b",
   "metadata": {
    "jp-MarkdownHeadingCollapsed": true,
    "tags": []
   },
   "source": [
    "## Loading the data\n",
    "Here we specify where the yelp datasets are located on UCloud and read then using the spark session."
   ]
  },
  {
   "cell_type": "code",
   "execution_count": 3,
   "id": "5fa96702-5902-4482-9cd2-77d6f5da0f75",
   "metadata": {
    "execution": {
     "iopub.execute_input": "2025-05-30T02:09:31.484787Z",
     "iopub.status.busy": "2025-05-30T02:09:31.484447Z",
     "iopub.status.idle": "2025-05-30T02:09:47.508641Z",
     "shell.execute_reply": "2025-05-30T02:09:47.506713Z",
     "shell.execute_reply.started": "2025-05-30T02:09:31.484755Z"
    },
    "tags": []
   },
   "outputs": [],
   "source": [
    "# Read in the business and review files\n",
    "# This is the path to the shared datasets provided by adding an the dataset input folder\n",
    "# when submitting the spark cluster job.\n",
    "business = spark.read.json(\n",
    "    \"file:////work/yelp/yelp_academic_dataset_business.json\"\n",
    ")  # Use the file:/// prefix to indicate we want to read from the cluster's filesystem\n",
    "business = business.persist()\n",
    "# Persist 2 commonly used dataframes since they're used for later computations\n",
    "# https://sparkbyexamples.com/spark/spark-difference-between-cache-and-persist/\n",
    "\n",
    "users = spark.read.json(\"file:////work/yelp/yelp_academic_dataset_user.json\")\n",
    "users = users.persist()\n",
    "\n",
    "reviews = spark.read.json(\"file:////work/yelp/yelp_academic_dataset_review.json\")\n",
    "reviews = reviews.persist()\n",
    "\n",
    "# checkin = spark.read.json('file:////work/yelp/yelp_academic_dataset_checkin.json')\n",
    "# tip = spark.read.json('file:////work/yelp/yelp_academic_dataset_tip.json')"
   ]
  },
  {
   "cell_type": "markdown",
   "id": "3a303b5b",
   "metadata": {
    "jp-MarkdownHeadingCollapsed": true,
    "tags": []
   },
   "source": [
    "## PySpark example usage"
   ]
  },
  {
   "cell_type": "code",
   "execution_count": 9,
   "id": "235e5257-1a0e-4189-87fc-075ff2858c54",
   "metadata": {
    "execution": {
     "iopub.execute_input": "2025-05-29T18:31:39.067255Z",
     "iopub.status.busy": "2025-05-29T18:31:39.066531Z",
     "iopub.status.idle": "2025-05-29T18:31:39.076181Z",
     "shell.execute_reply": "2025-05-29T18:31:39.074644Z",
     "shell.execute_reply.started": "2025-05-29T18:31:39.067208Z"
    },
    "tags": []
   },
   "outputs": [
    {
     "data": {
      "text/plain": [
       "['business_id',\n",
       " 'cool',\n",
       " 'date',\n",
       " 'funny',\n",
       " 'review_id',\n",
       " 'stars',\n",
       " 'text',\n",
       " 'useful',\n",
       " 'user_id']"
      ]
     },
     "execution_count": 9,
     "metadata": {},
     "output_type": "execute_result"
    }
   ],
   "source": [
    "# Show PySpark dataframes:\n",
    "reviews.columns"
   ]
  },
  {
   "cell_type": "code",
   "execution_count": null,
   "id": "afd9630e-1dd0-4abf-9952-bd7e252a8061",
   "metadata": {
    "execution": {
     "iopub.execute_input": "2025-05-29T18:25:48.547882Z",
     "iopub.status.busy": "2025-05-29T18:25:48.547226Z"
    },
    "tags": []
   },
   "outputs": [],
   "source": [
    "business.show()"
   ]
  },
  {
   "cell_type": "code",
   "execution_count": null,
   "id": "e89f6184-410e-4a04-a4a1-7b080353dc1f",
   "metadata": {
    "tags": []
   },
   "outputs": [],
   "source": [
    "# Get number of rows with no sampling:\n",
    "reviews.count()"
   ]
  },
  {
   "cell_type": "code",
   "execution_count": null,
   "id": "cc31d1a2-3571-49cd-af5a-98d6d23027de",
   "metadata": {
    "tags": []
   },
   "outputs": [],
   "source": [
    "# OPTIONAL:\n",
    "# Reduce resource usage and make queries run faster\n",
    "# by only using a small sample of the dataframe\n",
    "# and overwriting previous variable \"df\".\n",
    "# Useful while developing, not so much to\n",
    "# provide final answers. Therefore: Remember to\n",
    "# to re-read the df when done developing code using\n",
    "# df = spark.read etc like above.\n",
    "\n",
    "\n",
    "# Get number of rows after sampling:\n",
    "reviews.count()"
   ]
  },
  {
   "cell_type": "code",
   "execution_count": 97,
   "id": "20087cdb-d6f2-4aab-9fe2-bf3f072044db",
   "metadata": {
    "execution": {
     "iopub.execute_input": "2025-04-06T15:36:38.329859Z",
     "iopub.status.busy": "2025-04-06T15:36:38.329174Z",
     "iopub.status.idle": "2025-04-06T15:36:38.975600Z",
     "shell.execute_reply": "2025-04-06T15:36:38.973823Z",
     "shell.execute_reply.started": "2025-04-06T15:36:38.329802Z"
    },
    "tags": []
   },
   "outputs": [
    {
     "name": "stdout",
     "output_type": "stream",
     "text": [
      "+--------------------+--------------------+--------------------+--------------------+--------------+--------------------+-------+-------------+--------------+--------------------+-----------+------------+-----+-----+\n",
      "|             address|          attributes|         business_id|          categories|          city|               hours|is_open|     latitude|     longitude|                name|postal_code|review_count|stars|state|\n",
      "+--------------------+--------------------+--------------------+--------------------+--------------+--------------------+-------+-------------+--------------+--------------------+-----------+------------+-----+-----+\n",
      "|1616 Chapala St, ...|{null, null, null...|Pns2l4eNsfO8kk83d...|Doctors, Traditio...| Santa Barbara|                null|      0|   34.4266787|  -119.7111968|Abby Rappoport, L...|      93101|           7|  5.0|   CA|\n",
      "|87 Grasso Plaza S...|{null, null, null...|mpf3x-BjTdTEA3yCZ...|Shipping Centers,...|        Affton|{8:0-18:30, 0:0-0...|      1|    38.551126|    -90.335695|       The UPS Store|      63123|          15|  3.0|   MO|\n",
      "|5255 E Broadway Blvd|{null, null, null...|tUFrWirKiKi_TAnsV...|Department Stores...|        Tucson|{8:0-23:0, 8:0-22...|      0|    32.223236|   -110.880452|              Target|      85711|          22|  3.5|   AZ|\n",
      "|         935 Race St|{null, null, u'no...|MTSW4McQd7CbVtyjq...|Restaurants, Food...|  Philadelphia|{7:0-21:0, 7:0-20...|      1|   39.9555052|   -75.1555641|  St Honore Pastries|      19107|          80|  4.0|   PA|\n",
      "|       101 Walnut St|{null, null, null...|mWMc6_wTdE0EUBKIG...|Brewpubs, Breweri...|    Green Lane|{12:0-22:0, null,...|      1|   40.3381827|   -75.4716585|Perkiomen Valley ...|      18054|          13|  4.5|   PA|\n",
      "|       615 S Main St|{null, null, u'no...|CF33F8-E6oudUQ46H...|Burgers, Fast Foo...|  Ashland City|{9:0-0:0, 0:0-0:0...|      1|    36.269593|    -87.058943|      Sonic Drive-In|      37015|           6|  2.0|   TN|\n",
      "|8522 Eager Road, ...|{null, null, null...|n_0UpQx1hsNbnPUSl...|Sporting Goods, F...|     Brentwood|{10:0-18:0, 0:0-0...|      1|    38.627695|    -90.340465|     Famous Footwear|      63144|          13|  2.5|   MO|\n",
      "|  400 Pasadena Ave S|                null|qkRM_2X51Yqxk3btl...|Synagogues, Relig...|St. Petersburg|{9:0-17:0, 9:0-17...|      1|     27.76659|    -82.732983|      Temple Beth-El|      33707|           5|  3.5|   FL|\n",
      "|   8025 Mackenzie Rd|{null, null, u'fu...|k0hlBqXX-Bt0vf1op...|Pubs, Restaurants...|        Affton|                null|      0|   38.5651648|   -90.3210868|Tsevi's Pub And G...|      63123|          19|  3.0|   MO|\n",
      "| 2312 Dickerson Pike|{null, null, u'no...|bBDDEgkFA1Otx9Lfe...|Ice Cream & Froze...|     Nashville|{6:0-16:0, 0:0-0:...|      1|   36.2081024|   -86.7681696|      Sonic Drive-In|      37207|          10|  1.5|   TN|\n",
      "|21705 Village Lak...|{null, null, null...|UJsufbvfyfONHeWdv...|Department Stores...| Land O' Lakes|{9:30-21:30, 9:30...|      1|28.1904587953|-82.4573802199|           Marshalls|      34639|           6|  3.5|   FL|\n",
      "|                    |{null, null, 'non...|eEOYSgkmpB90uNA7l...|Vietnamese, Food,...|     Tampa Bay|{11:0-14:0, 11:0-...|      1|   27.9552692|   -82.4563199|Vietnamese Food T...|      33602|          10|  4.0|   FL|\n",
      "|        8901 US 31 S|{null, null, 'non...|il_Ro8jwPlHresjw9...|American (Traditi...|  Indianapolis|{6:0-22:0, 6:0-22...|      1|39.6371332838| -86.127217412|             Denny's|      46227|          28|  2.5|   IN|\n",
      "|   15 N Missouri Ave|{null, null, null...|jaxMSoInw8Poo3XeM...|General Dentistry...|    Clearwater|{null, 7:30-15:30...|      1|    27.966235|    -82.787412|        Adams Dental|      33755|          10|  5.0|   FL|\n",
      "|       2575 E Bay Dr|{null, null, u'no...|0bPLkL0QhhPO5kt1_...|Food, Delis, Ital...|         Largo|{10:0-20:0, 10:0-...|      0|   27.9161159|   -82.7604608|Zio's Italian Market|      33771|         100|  4.5|   FL|\n",
      "|         205 Race St|{null, null, 'ful...|MUTTqe8uqyMdBl186...|Sushi Bars, Resta...|  Philadelphia|{13:30-23:0, null...|      1|    39.953949|   -75.1432262|            Tuna Bar|      19106|         245|  4.0|   PA|\n",
      "|     625 N Stone Ave|{null, null, null...|rBmpy_Y1UbBx8ggHl...|Automotive, Auto ...|        Tucson|{8:0-17:0, 0:0-0:...|      1|   32.2298719|  -110.9723419|Arizona Truck Out...|      85705|          10|  4.5|   AZ|\n",
      "|        712 Adams St|{null, null, null...|M0XSSHqrASOnhgbWD...|Vape Shops, Tobac...|   New Orleans|{10:0-19:0, 10:0-...|      1|29.9414679565| -90.129952757|      Herb Import Co|      70118|           5|  4.0|   LA|\n",
      "|     1241 Airline Dr|                null|8wGISYjYkE2tSqn3c...|Automotive, Car R...|        Kenner|{8:0-17:0, 8:0-17...|      1|    29.981183|   -90.2540123|    Nifty Car Rental|      70062|          14|  3.5|   LA|\n",
      "|       1224 South St|{null, null, u'no...|ROeacJQwBeh05Rqg7...| Korean, Restaurants|  Philadelphia|{11:30-20:30, 11:...|      1|    39.943223|    -75.162568|                 BAP|      19147|         205|  4.5|   PA|\n",
      "+--------------------+--------------------+--------------------+--------------------+--------------+--------------------+-------+-------------+--------------+--------------------+-----------+------------+-----+-----+\n",
      "only showing top 20 rows\n",
      "\n"
     ]
    }
   ],
   "source": [
    "business.show()"
   ]
  },
  {
   "cell_type": "markdown",
   "id": "7d258fa6-1402-4c3a-a252-a9dbfd4a87d9",
   "metadata": {},
   "source": [
    "Example: Say we're only interested in reviews of good mexican restaurants in Arizona. You can delete this when you do your own thing. "
   ]
  },
  {
   "cell_type": "markdown",
   "id": "c1d3071b-2f83-4afe-8a37-fe7356757c0e",
   "metadata": {},
   "source": [
    "### Example"
   ]
  },
  {
   "cell_type": "code",
   "execution_count": 110,
   "id": "07983acb-15d8-45ea-9d12-3bc8759280b4",
   "metadata": {
    "execution": {
     "iopub.execute_input": "2025-03-28T17:25:37.811211Z",
     "iopub.status.busy": "2025-03-28T17:25:37.810288Z",
     "iopub.status.idle": "2025-03-28T17:25:39.775805Z",
     "shell.execute_reply": "2025-03-28T17:25:39.774902Z",
     "shell.execute_reply.started": "2025-03-28T17:25:37.811152Z"
    },
    "tags": []
   },
   "outputs": [
    {
     "name": "stdout",
     "output_type": "stream",
     "text": [
      "+--------------------+--------------------+\n",
      "|                name|                text|\n",
      "+--------------------+--------------------+\n",
      "|Casa Molina Del N...|We've been coming...|\n",
      "|               Penca|Wow. That was inc...|\n",
      "|               Penca|Street Tacos in T...|\n",
      "|               Penca|Last minute decis...|\n",
      "|             Micha's|The best Carne Se...|\n",
      "|Street- Taco and ...|Cool lil spot dow...|\n",
      "|               Penca|A little pricey b...|\n",
      "|Taqueria Pico De ...|LOVE THIS PLACE!\\...|\n",
      "|Casa Molina Del N...|I love the margar...|\n",
      "|      El Charro Cafe|Really happy I fo...|\n",
      "|            BK Tacos|Absolutely love t...|\n",
      "|St Mary's Mexican...|Best tortillas I'...|\n",
      "|Charro Steak & De...|Visiting from out...|\n",
      "|            BK Tacos|Most people go fo...|\n",
      "|             Micha's|We travel to Tucs...|\n",
      "|      El Charro Cafe|Had a great dinne...|\n",
      "|Charro Steak & De...|Excellent night a...|\n",
      "|Street- Taco and ...|This is a fabulou...|\n",
      "|Indian Frybread-M...|I love this place...|\n",
      "|               Penca|It was delicious ...|\n",
      "+--------------------+--------------------+\n",
      "only showing top 20 rows\n",
      "\n"
     ]
    }
   ],
   "source": [
    "# Filter to only Arizona businesses with \"Mexican\" as part of their categories\n",
    "az_mex = (\n",
    "    business.filter(business.state == \"AZ\")\n",
    "    .filter(business.categories.rlike(\"Mexican\"))\n",
    "    .select(\"business_id\", \"name\", \"categories\")\n",
    ")\n",
    "az_mex.toPandas().to_csv(\"az_mex.csv\", header=True, index=False, encoding=\"utf-8\")\n",
    "# Join with the reviews\n",
    "az_mex_rs = reviews.join(az_mex, on=\"business_id\", how=\"inner\")\n",
    "\n",
    "# Filter to only 5 star reviews\n",
    "good_az_mex_rs = az_mex_rs.filter(az_mex_rs.stars == 5).select(\"name\", \"text\")\n",
    "\n",
    "# Print the top 20 rows of the DataFrame\n",
    "good_az_mex_rs.show()\n",
    "\n",
    "# Convert to pandas (local object) and save to local file system\n",
    "good_az_mex_rs.toPandas().to_csv(\n",
    "    \"good_az_reviews.csv\", header=True, index=False, encoding=\"utf-8\"\n",
    ")"
   ]
  },
  {
   "cell_type": "code",
   "execution_count": 99,
   "id": "b50578b7-eda2-4199-891b-3cdd83957a52",
   "metadata": {
    "execution": {
     "iopub.execute_input": "2025-03-28T17:16:40.495122Z",
     "iopub.status.busy": "2025-03-28T17:16:40.494042Z",
     "iopub.status.idle": "2025-03-28T17:16:41.228524Z",
     "shell.execute_reply": "2025-03-28T17:16:41.165113Z",
     "shell.execute_reply.started": "2025-03-28T17:16:40.495055Z"
    },
    "tags": []
   },
   "outputs": [
    {
     "name": "stdout",
     "output_type": "stream",
     "text": [
      "+--------------------+\n",
      "|            category|\n",
      "+--------------------+\n",
      "|          Acai Bowls|\n",
      "|         Accessories|\n",
      "|         Accountants|\n",
      "|         Active Life|\n",
      "|         Acupuncture|\n",
      "|               Adult|\n",
      "|     Adult Education|\n",
      "| Adult Entertainment|\n",
      "|         Advertising|\n",
      "|       Aestheticians|\n",
      "|             African|\n",
      "|   Air Duct Cleaning|\n",
      "|            Airlines|\n",
      "|    Airport Shuttles|\n",
      "|   Airport Terminals|\n",
      "|            Airports|\n",
      "|          Allergists|\n",
      "|Alternative Medicine|\n",
      "|Amateur Sports Teams|\n",
      "|      American (New)|\n",
      "+--------------------+\n",
      "only showing top 20 rows\n",
      "\n"
     ]
    }
   ],
   "source": [
    "business_sam.select(\n",
    "    explode(split(col(\"categories\"), \",\")).alias(\"category\")\n",
    ").withColumn(\"category\", trim(col(\"category\"))).distinct().sort(\"category\").show()"
   ]
  },
  {
   "cell_type": "markdown",
   "id": "0d9d265d-cba4-4ade-851e-dad67771864b",
   "metadata": {},
   "source": [
    "See assignment PDF for task descriptions."
   ]
  },
  {
   "cell_type": "markdown",
   "id": "8a624efd-902b-4b3a-bda4-0af2c2a27fee",
   "metadata": {},
   "source": [
    "### Samplling"
   ]
  },
  {
   "cell_type": "code",
   "execution_count": 12,
   "id": "9884f3ce-cfdc-4617-8ff8-8b0b59185bef",
   "metadata": {
    "execution": {
     "iopub.execute_input": "2025-04-04T15:20:51.242711Z",
     "iopub.status.busy": "2025-04-04T15:20:51.242132Z",
     "iopub.status.idle": "2025-04-04T15:20:51.254272Z",
     "shell.execute_reply": "2025-04-04T15:20:51.252831Z",
     "shell.execute_reply.started": "2025-04-04T15:20:51.242668Z"
    },
    "tags": []
   },
   "outputs": [],
   "source": [
    "reviews = reviews.sample(withReplacement=False, fraction=1 / 50)\n",
    "business = business.sample(withReplacement=False, fraction=1 / 50)"
   ]
  },
  {
   "cell_type": "markdown",
   "id": "1d08a2d0-fba5-402d-bb87-448422312058",
   "metadata": {
    "tags": []
   },
   "source": [
    "# Exercises"
   ]
  },
  {
   "cell_type": "markdown",
   "id": "5b394058",
   "metadata": {
    "jp-MarkdownHeadingCollapsed": true,
    "tags": []
   },
   "source": [
    "### Task 3.1.1:"
   ]
  },
  {
   "cell_type": "code",
   "execution_count": 53,
   "id": "ee564c11",
   "metadata": {
    "execution": {
     "iopub.execute_input": "2025-03-24T15:00:02.788522Z",
     "iopub.status.busy": "2025-03-24T15:00:02.787626Z",
     "iopub.status.idle": "2025-03-24T15:00:03.017043Z",
     "shell.execute_reply": "2025-03-24T15:00:03.015857Z",
     "shell.execute_reply.started": "2025-03-24T15:00:02.788463Z"
    },
    "tags": []
   },
   "outputs": [
    {
     "data": {
      "text/plain": [
       "150346"
      ]
     },
     "execution_count": 53,
     "metadata": {},
     "output_type": "execute_result"
    }
   ],
   "source": [
    "# Write your code here...\n",
    "business.count()"
   ]
  },
  {
   "cell_type": "code",
   "execution_count": null,
   "id": "647cf67c-2499-4c76-9aa9-a2815c322276",
   "metadata": {
    "tags": []
   },
   "outputs": [],
   "source": [
    "business.columns"
   ]
  },
  {
   "cell_type": "markdown",
   "id": "64a546fb",
   "metadata": {
    "jp-MarkdownHeadingCollapsed": true,
    "tags": []
   },
   "source": [
    "### Task 3.1.2:"
   ]
  },
  {
   "cell_type": "code",
   "execution_count": 6,
   "id": "47799cb6-c867-46a1-9db6-ab87693084e9",
   "metadata": {
    "execution": {
     "iopub.execute_input": "2025-05-19T17:19:14.359067Z",
     "iopub.status.busy": "2025-05-19T17:19:14.358368Z",
     "iopub.status.idle": "2025-05-19T17:19:15.700642Z",
     "shell.execute_reply": "2025-05-19T17:19:15.698856Z",
     "shell.execute_reply.started": "2025-05-19T17:19:14.359011Z"
    },
    "tags": []
   },
   "outputs": [
    {
     "name": "stdout",
     "output_type": "stream",
     "text": [
      "+--------------------+--------------------+--------------------+--------------------+-------------+--------------------+-------+----------+------------+--------------------+-----------+------------+-----+-----+\n",
      "|             address|          attributes|         business_id|          categories|         city|               hours|is_open|  latitude|   longitude|                name|postal_code|review_count|stars|state|\n",
      "+--------------------+--------------------+--------------------+--------------------+-------------+--------------------+-------+----------+------------+--------------------+-----------+------------+-----+-----+\n",
      "|1616 Chapala St, ...|{null, null, null...|Pns2l4eNsfO8kk83d...|Doctors, Traditio...|Santa Barbara|                null|      0|34.4266787|-119.7111968|Abby Rappoport, L...|      93101|           7|  5.0|   CA|\n",
      "|87 Grasso Plaza S...|{null, null, null...|mpf3x-BjTdTEA3yCZ...|Shipping Centers,...|       Affton|{8:0-18:30, 0:0-0...|      1| 38.551126|  -90.335695|       The UPS Store|      63123|          15|  3.0|   MO|\n",
      "|5255 E Broadway Blvd|{null, null, null...|tUFrWirKiKi_TAnsV...|Department Stores...|       Tucson|{8:0-23:0, 8:0-22...|      0| 32.223236| -110.880452|              Target|      85711|          22|  3.5|   AZ|\n",
      "|         935 Race St|{null, null, u'no...|MTSW4McQd7CbVtyjq...|Restaurants, Food...| Philadelphia|{7:0-21:0, 7:0-20...|      1|39.9555052| -75.1555641|  St Honore Pastries|      19107|          80|  4.0|   PA|\n",
      "|       101 Walnut St|{null, null, null...|mWMc6_wTdE0EUBKIG...|Brewpubs, Breweri...|   Green Lane|{12:0-22:0, null,...|      1|40.3381827| -75.4716585|Perkiomen Valley ...|      18054|          13|  4.5|   PA|\n",
      "+--------------------+--------------------+--------------------+--------------------+-------------+--------------------+-------+----------+------------+--------------------+-----------+------------+-----+-----+\n",
      "only showing top 5 rows\n",
      "\n"
     ]
    }
   ],
   "source": [
    "business.show(5)"
   ]
  },
  {
   "cell_type": "code",
   "execution_count": 17,
   "id": "c7f064b0-93ad-4267-8c5c-a395db2261cc",
   "metadata": {
    "execution": {
     "iopub.execute_input": "2025-05-19T17:29:36.638881Z",
     "iopub.status.busy": "2025-05-19T17:29:36.638178Z",
     "iopub.status.idle": "2025-05-19T17:29:36.649363Z",
     "shell.execute_reply": "2025-05-19T17:29:36.648051Z",
     "shell.execute_reply.started": "2025-05-19T17:29:36.638826Z"
    },
    "tags": []
   },
   "outputs": [
    {
     "data": {
      "text/plain": [
       "['business_id',\n",
       " 'cool',\n",
       " 'date',\n",
       " 'funny',\n",
       " 'review_id',\n",
       " 'stars',\n",
       " 'text',\n",
       " 'useful',\n",
       " 'user_id']"
      ]
     },
     "execution_count": 17,
     "metadata": {},
     "output_type": "execute_result"
    }
   ],
   "source": [
    "reviews.columns"
   ]
  },
  {
   "cell_type": "code",
   "execution_count": 15,
   "id": "21984861-407a-4899-a749-74b7a2526e12",
   "metadata": {
    "execution": {
     "iopub.execute_input": "2025-05-19T17:28:35.586137Z",
     "iopub.status.busy": "2025-05-19T17:28:35.585422Z",
     "iopub.status.idle": "2025-05-19T17:28:35.783174Z",
     "shell.execute_reply": "2025-05-19T17:28:35.781421Z",
     "shell.execute_reply.started": "2025-05-19T17:28:35.586082Z"
    },
    "tags": []
   },
   "outputs": [
    {
     "data": {
      "text/plain": [
       "9"
      ]
     },
     "execution_count": 15,
     "metadata": {},
     "output_type": "execute_result"
    }
   ],
   "source": [
    "# Write your code here...\n",
    "business.filter((business.stars >= 5) & (business.review_count >= 500)).select(\n",
    "    \"name\", \"stars\", \"review_count\"\n",
    ").count()"
   ]
  },
  {
   "cell_type": "code",
   "execution_count": 37,
   "id": "e6ac1bdb-6206-450f-838d-5d0de289ed2a",
   "metadata": {
    "execution": {
     "iopub.execute_input": "2025-04-06T18:00:09.232744Z",
     "iopub.status.busy": "2025-04-06T18:00:09.231821Z",
     "iopub.status.idle": "2025-04-06T18:00:09.594566Z",
     "shell.execute_reply": "2025-04-06T18:00:09.593503Z",
     "shell.execute_reply.started": "2025-04-06T18:00:09.232682Z"
    },
    "tags": []
   },
   "outputs": [],
   "source": [
    "respected_businesses.toPandas().to_csv(\n",
    "    \"3_1_2_respected_businesses.csv\", header=True, index=False, encoding=\"utf-8\"\n",
    ")"
   ]
  },
  {
   "cell_type": "code",
   "execution_count": 34,
   "id": "51f7eb6e-1358-42db-b494-3956d1409539",
   "metadata": {
    "execution": {
     "iopub.execute_input": "2025-05-19T17:42:23.127126Z",
     "iopub.status.busy": "2025-05-19T17:42:23.126257Z",
     "iopub.status.idle": "2025-05-19T17:42:24.679604Z",
     "shell.execute_reply": "2025-05-19T17:42:24.678360Z",
     "shell.execute_reply.started": "2025-05-19T17:42:23.127035Z"
    },
    "tags": []
   },
   "outputs": [
    {
     "name": "stdout",
     "output_type": "stream",
     "text": [
      "+--------------------+----------------+\n",
      "|                name|unique_reviewers|\n",
      "+--------------------+----------------+\n",
      "|Barracuda Deli Ca...|             521|\n",
      "|    Carlillos Cocina|             799|\n",
      "|  Free Tours By Foot|             769|\n",
      "|Smiling With Hope...|             526|\n",
      "|   SUGARED + BRONZED|             513|\n",
      "|     Blues City Deli|             991|\n",
      "|Nelson's Green Br...|             545|\n",
      "|            Tumerico|             705|\n",
      "|                Yats|             623|\n",
      "+--------------------+----------------+\n",
      "\n"
     ]
    }
   ],
   "source": [
    "from pyspark.sql.functions import col, countDistinct\n",
    "\n",
    "c_name = \"unique_reviewers\"\n",
    "business.filter((business.stars >= 5)).join(\n",
    "    reviews, on=\"business_id\", how=\"inner\"\n",
    ").groupby(\"business_id\", \"name\").agg(countDistinct(\"user_id\").alias(c_name)).filter(\n",
    "    col(c_name) >= 500\n",
    ").select(\n",
    "    \"name\", \"unique_reviewers\"\n",
    ").show()\n",
    "# .show()"
   ]
  },
  {
   "cell_type": "code",
   "execution_count": null,
   "id": "779fd3f9-4b64-4354-821b-56a43686e726",
   "metadata": {},
   "outputs": [],
   "source": [
    "respected_businesses.toPandas().to_csv(\n",
    "    \"3_1_2_respected_businesses.csv\", header=True, index=False, encoding=\"utf-8\"\n",
    ")"
   ]
  },
  {
   "cell_type": "markdown",
   "id": "b39e2a34",
   "metadata": {
    "jp-MarkdownHeadingCollapsed": true,
    "tags": []
   },
   "source": [
    "### Task 3.1.3: "
   ]
  },
  {
   "cell_type": "code",
   "execution_count": 7,
   "id": "54a849fc",
   "metadata": {
    "execution": {
     "iopub.execute_input": "2025-03-28T16:21:11.600434Z",
     "iopub.status.busy": "2025-03-28T16:21:11.599627Z",
     "iopub.status.idle": "2025-03-28T16:21:19.903533Z",
     "shell.execute_reply": "2025-03-28T16:21:19.902469Z",
     "shell.execute_reply.started": "2025-03-28T16:21:11.600385Z"
    },
    "tags": []
   },
   "outputs": [],
   "source": [
    "# Write your code here...\n",
    "influencers = users.filter(users.review_count >= 1000).select(\"user_id\")\n",
    "influencers.toPandas().to_csv(\n",
    "    \"3_1_3_influencers.csv\", header=True, index=False, encoding=\"utf-8\"\n",
    ")"
   ]
  },
  {
   "cell_type": "markdown",
   "id": "a773c064",
   "metadata": {
    "jp-MarkdownHeadingCollapsed": true,
    "tags": []
   },
   "source": [
    "### Task 3.1.4: "
   ]
  },
  {
   "cell_type": "code",
   "execution_count": null,
   "id": "fab0d9d0-e011-4e3a-bdaa-7270dcfe83f7",
   "metadata": {},
   "outputs": [],
   "source": [
    "business"
   ]
  },
  {
   "cell_type": "code",
   "execution_count": 2,
   "id": "cb504f36-b931-45aa-a223-703120717228",
   "metadata": {
    "execution": {
     "iopub.execute_input": "2025-03-31T13:13:30.158379Z",
     "iopub.status.busy": "2025-03-31T13:13:30.157853Z",
     "iopub.status.idle": "2025-03-31T13:13:30.183123Z",
     "shell.execute_reply": "2025-03-31T13:13:30.181877Z",
     "shell.execute_reply.started": "2025-03-31T13:13:30.158348Z"
    },
    "tags": []
   },
   "outputs": [
    {
     "ename": "NameError",
     "evalue": "name 'reviews' is not defined",
     "output_type": "error",
     "traceback": [
      "\u001b[0;31m---------------------------------------------------------------------------\u001b[0m",
      "\u001b[0;31mNameError\u001b[0m                                 Traceback (most recent call last)",
      "Cell \u001b[0;32mIn[2], line 3\u001b[0m\n\u001b[1;32m      1\u001b[0m \u001b[38;5;66;03m# Write your code here...\u001b[39;00m\n\u001b[0;32m----> 3\u001b[0m reviews \u001b[38;5;241m=\u001b[39m \u001b[43mreviews\u001b[49m\u001b[38;5;241m.\u001b[39msample(withReplacement\u001b[38;5;241m=\u001b[39m\u001b[38;5;28;01mFalse\u001b[39;00m, fraction\u001b[38;5;241m=\u001b[39m\u001b[38;5;241m1\u001b[39m\u001b[38;5;241m/\u001b[39m\u001b[38;5;241m50\u001b[39m)\n\u001b[1;32m      4\u001b[0m business_sam \u001b[38;5;241m=\u001b[39m business\u001b[38;5;241m.\u001b[39msample(withReplacement\u001b[38;5;241m=\u001b[39m\u001b[38;5;28;01mFalse\u001b[39;00m, fraction\u001b[38;5;241m=\u001b[39m\u001b[38;5;241m1\u001b[39m\u001b[38;5;241m/\u001b[39m\u001b[38;5;241m50\u001b[39m)\n",
      "\u001b[0;31mNameError\u001b[0m: name 'reviews' is not defined"
     ]
    }
   ],
   "source": [
    "# Write your code here...\n",
    "\n",
    "reviews = reviews.sample(withReplacement=False, fraction=1 / 50)\n",
    "business_sam = business.sample(withReplacement=False, fraction=1 / 50)"
   ]
  },
  {
   "cell_type": "code",
   "execution_count": 9,
   "id": "3e4cdfdb-dbfa-49a7-b64a-c3d4af91416a",
   "metadata": {
    "execution": {
     "iopub.execute_input": "2025-03-28T16:22:01.068618Z",
     "iopub.status.busy": "2025-03-28T16:22:01.067993Z",
     "iopub.status.idle": "2025-03-28T16:22:10.063720Z",
     "shell.execute_reply": "2025-03-28T16:22:10.062999Z",
     "shell.execute_reply.started": "2025-03-28T16:22:01.068576Z"
    },
    "tags": []
   },
   "outputs": [],
   "source": [
    "from pyspark.sql.functions import col\n",
    "\n",
    "counts = (\n",
    "    business.join(reviews, on=\"business_id\", how=\"inner\")\n",
    "    .join(influencers, on=\"user_id\", how=\"inner\")\n",
    "    .select(\"name\", \"user_id\")\n",
    "    .groupBy(\"name\")\n",
    "    .count()\n",
    "    .filter(col(\"count\") >= 5)\n",
    "    .toPandas()\n",
    "    .to_csv(\"3_1_4_occupied_businesses.csv\", header=True, index=False, encoding=\"utf-8\")\n",
    ")"
   ]
  },
  {
   "cell_type": "markdown",
   "id": "8922a694",
   "metadata": {
    "jp-MarkdownHeadingCollapsed": true,
    "tags": []
   },
   "source": [
    "### Task 3.1.5: "
   ]
  },
  {
   "cell_type": "markdown",
   "id": "a28f8cb8-8bb5-42dc-a45e-82cb4100f1d5",
   "metadata": {
    "execution": {
     "iopub.execute_input": "2025-03-24T14:44:50.164801Z",
     "iopub.status.busy": "2025-03-24T14:44:50.164108Z",
     "iopub.status.idle": "2025-03-24T14:44:50.173820Z",
     "shell.execute_reply": "2025-03-24T14:44:50.172216Z",
     "shell.execute_reply.started": "2025-03-24T14:44:50.164714Z"
    },
    "tags": []
   },
   "source": [
    "Find anordered list of users based on the average star counts they have given in all their reviews."
   ]
  },
  {
   "cell_type": "code",
   "execution_count": null,
   "id": "64233be8",
   "metadata": {
    "execution": {
     "iopub.execute_input": "2025-03-24T15:04:06.902651Z",
     "iopub.status.busy": "2025-03-24T15:04:06.901834Z"
    },
    "tags": []
   },
   "outputs": [],
   "source": [
    "# Write your code here...\n",
    "from pyspark.sql.functions import col\n",
    "\n",
    "counts = (\n",
    "    reviews.join(users, on=\"user_id\", how=\"right\")\n",
    "    .select(\"stars\", \"user_id\")\n",
    "    .groupBy(\"user_id\")\n",
    "    .mean()\n",
    "    .sort(col(\"avg(stars)\"), ascending=False)\n",
    "    .show()\n",
    ")\n",
    "# .toPandas().to_csv(\"3_1_5_ordered_users.csv\", header=True, index=False, encoding='utf-8')\n",
    "# too big to save haha.\n",
    "# include all users, including with no corresponding reviews."
   ]
  },
  {
   "cell_type": "markdown",
   "id": "6aa6bec7",
   "metadata": {
    "jp-MarkdownHeadingCollapsed": true,
    "tags": []
   },
   "source": [
    "### Task 3.2.1: Data Exploration"
   ]
  },
  {
   "cell_type": "markdown",
   "id": "bfcd6a12-2be7-4211-bf9e-4bd96fa26656",
   "metadata": {
    "execution": {
     "iopub.execute_input": "2025-03-28T16:33:11.675611Z",
     "iopub.status.busy": "2025-03-28T16:33:11.674749Z",
     "iopub.status.idle": "2025-03-28T16:33:11.685599Z",
     "shell.execute_reply": "2025-03-28T16:33:11.683606Z",
     "shell.execute_reply.started": "2025-03-28T16:33:11.675531Z"
    },
    "tags": []
   },
   "source": [
    " What is the percentage of reviews that contain a variant of the word \"authentic\"?"
   ]
  },
  {
   "cell_type": "markdown",
   "id": "57ac5be3-7870-4630-9cc7-2d3655b2f4dd",
   "metadata": {},
   "source": [
    "##### Total counts"
   ]
  },
  {
   "cell_type": "code",
   "execution_count": 14,
   "id": "016117d1-62dc-4463-a24c-069e75801c7a",
   "metadata": {
    "execution": {
     "iopub.execute_input": "2025-04-07T08:42:22.337875Z",
     "iopub.status.busy": "2025-04-07T08:42:22.337026Z",
     "iopub.status.idle": "2025-04-07T08:42:22.914711Z",
     "shell.execute_reply": "2025-04-07T08:42:22.913336Z",
     "shell.execute_reply.started": "2025-04-07T08:42:22.337818Z"
    },
    "tags": []
   },
   "outputs": [
    {
     "data": {
      "text/plain": [
       "6990280"
      ]
     },
     "execution_count": 14,
     "metadata": {},
     "output_type": "execute_result"
    }
   ],
   "source": [
    "reviews.count()"
   ]
  },
  {
   "cell_type": "code",
   "execution_count": 9,
   "id": "6901b6b1-b1a6-4f86-8395-ae94ae05b619",
   "metadata": {
    "execution": {
     "iopub.execute_input": "2025-04-07T08:27:19.608896Z",
     "iopub.status.busy": "2025-04-07T08:27:19.608440Z",
     "iopub.status.idle": "2025-04-07T08:27:21.659350Z",
     "shell.execute_reply": "2025-04-07T08:27:21.657629Z",
     "shell.execute_reply.started": "2025-04-07T08:27:19.608872Z"
    },
    "tags": []
   },
   "outputs": [
    {
     "data": {
      "text/plain": [
       "150346"
      ]
     },
     "execution_count": 9,
     "metadata": {},
     "output_type": "execute_result"
    }
   ],
   "source": [
    "business.count()"
   ]
  },
  {
   "cell_type": "code",
   "execution_count": 11,
   "id": "e3f5f9b3-6206-477d-b719-6bbcf1a43019",
   "metadata": {
    "execution": {
     "iopub.execute_input": "2025-04-07T08:27:26.308525Z",
     "iopub.status.busy": "2025-04-07T08:27:26.307572Z",
     "iopub.status.idle": "2025-04-07T08:27:29.048184Z",
     "shell.execute_reply": "2025-04-07T08:27:29.047043Z",
     "shell.execute_reply.started": "2025-04-07T08:27:26.308466Z"
    },
    "tags": []
   },
   "outputs": [
    {
     "data": {
      "text/plain": [
       "1987897"
      ]
     },
     "execution_count": 11,
     "metadata": {},
     "output_type": "execute_result"
    }
   ],
   "source": [
    "users.count()"
   ]
  },
  {
   "cell_type": "code",
   "execution_count": 4,
   "id": "43907715-2ed7-4a07-be75-67756be1247d",
   "metadata": {
    "execution": {
     "iopub.execute_input": "2025-04-11T13:09:07.427403Z",
     "iopub.status.busy": "2025-04-11T13:09:07.426710Z",
     "iopub.status.idle": "2025-04-11T13:09:07.438149Z",
     "shell.execute_reply": "2025-04-11T13:09:07.436721Z",
     "shell.execute_reply.started": "2025-04-11T13:09:07.427320Z"
    },
    "tags": []
   },
   "outputs": [
    {
     "data": {
      "text/plain": [
       "['business_id',\n",
       " 'cool',\n",
       " 'date',\n",
       " 'funny',\n",
       " 'review_id',\n",
       " 'stars',\n",
       " 'text',\n",
       " 'useful',\n",
       " 'user_id']"
      ]
     },
     "execution_count": 4,
     "metadata": {},
     "output_type": "execute_result"
    }
   ],
   "source": [
    "reviews.columns"
   ]
  },
  {
   "cell_type": "markdown",
   "id": "fd658c34-7a32-4dd8-8597-9bf09bd33be6",
   "metadata": {
    "jp-MarkdownHeadingCollapsed": true,
    "tags": []
   },
   "source": [
    "### Percentage of authentic and legitimate language"
   ]
  },
  {
   "cell_type": "code",
   "execution_count": 4,
   "id": "11450d6b-1c16-455d-963b-5d1b146bc734",
   "metadata": {
    "execution": {
     "iopub.execute_input": "2025-05-24T16:28:10.497265Z",
     "iopub.status.busy": "2025-05-24T16:28:10.497067Z",
     "iopub.status.idle": "2025-05-24T16:28:10.556270Z",
     "shell.execute_reply": "2025-05-24T16:28:10.554835Z",
     "shell.execute_reply.started": "2025-05-24T16:28:10.497246Z"
    },
    "tags": []
   },
   "outputs": [],
   "source": [
    "# Write your code here...\n",
    "from pyspark.sql.functions import asc, col, desc, lower, when"
   ]
  },
  {
   "cell_type": "code",
   "execution_count": 9,
   "id": "0e77a226-4213-4e86-8930-1b5050bde9b8",
   "metadata": {
    "execution": {
     "iopub.execute_input": "2025-04-07T17:19:36.203200Z",
     "iopub.status.busy": "2025-04-07T17:19:36.202383Z",
     "iopub.status.idle": "2025-04-07T17:19:41.501132Z",
     "shell.execute_reply": "2025-04-07T17:19:41.499523Z",
     "shell.execute_reply.started": "2025-04-07T17:19:36.203139Z"
    },
    "tags": []
   },
   "outputs": [
    {
     "name": "stdout",
     "output_type": "stream",
     "text": [
      "124634\n",
      "0.01782961483660168\n"
     ]
    }
   ],
   "source": [
    "c = lower(col(\"text\"))\n",
    "n_authentic = reviews.filter(c.contains(\"authentic\")).count()\n",
    "total = reviews.count()\n",
    "percentage_authentic = n_authentic / total\n",
    "print(n_authentic)\n",
    "print(percentage_authentic)"
   ]
  },
  {
   "cell_type": "code",
   "execution_count": 14,
   "id": "68cab270-3c60-4d71-a0f8-b83b3fba8cb1",
   "metadata": {
    "execution": {
     "iopub.execute_input": "2025-04-07T17:22:38.565417Z",
     "iopub.status.busy": "2025-04-07T17:22:38.564624Z",
     "iopub.status.idle": "2025-04-07T17:22:43.274191Z",
     "shell.execute_reply": "2025-04-07T17:22:43.273045Z",
     "shell.execute_reply.started": "2025-04-07T17:22:38.565335Z"
    },
    "tags": []
   },
   "outputs": [
    {
     "name": "stdout",
     "output_type": "stream",
     "text": [
      "5066\n",
      "0.000724720612049875\n"
     ]
    }
   ],
   "source": [
    "c = lower(col(\"text\"))\n",
    "n_authentic = reviews.filter(c.contains(\"legitimate\")).count()\n",
    "total = reviews.count()\n",
    "percentage_authentic = n_authentic / total\n",
    "print(n_authentic)\n",
    "print(percentage_authentic)"
   ]
  },
  {
   "cell_type": "code",
   "execution_count": 10,
   "id": "53f6f645-d141-4b72-a0d5-76230e0467f5",
   "metadata": {
    "execution": {
     "iopub.execute_input": "2025-04-07T17:19:41.521843Z",
     "iopub.status.busy": "2025-04-07T17:19:41.521638Z",
     "iopub.status.idle": "2025-04-07T17:19:51.559396Z",
     "shell.execute_reply": "2025-04-07T17:19:51.558752Z",
     "shell.execute_reply.started": "2025-04-07T17:19:41.521823Z"
    },
    "tags": []
   },
   "outputs": [
    {
     "name": "stdout",
     "output_type": "stream",
     "text": [
      "129503\n",
      "0.018526153458802794\n"
     ]
    }
   ],
   "source": [
    "c = lower(col(\"text\"))\n",
    "n_authentic = reviews.filter(c.contains(\"authentic\") | c.contains(\"legitimate\")).count()\n",
    "total = reviews.count()\n",
    "percentage_authentic = n_authentic / total\n",
    "print(n_authentic)\n",
    "print(percentage_authentic)"
   ]
  },
  {
   "cell_type": "code",
   "execution_count": 7,
   "id": "95d17755-3b4e-4933-9570-754b31db6245",
   "metadata": {
    "execution": {
     "iopub.execute_input": "2025-04-07T08:26:27.349576Z",
     "iopub.status.busy": "2025-04-07T08:26:27.349295Z",
     "iopub.status.idle": "2025-04-07T08:26:27.354271Z",
     "shell.execute_reply": "2025-04-07T08:26:27.353444Z",
     "shell.execute_reply.started": "2025-04-07T08:26:27.349551Z"
    },
    "tags": []
   },
   "outputs": [
    {
     "name": "stdout",
     "output_type": "stream",
     "text": [
      "0.018526153458802794\n"
     ]
    }
   ],
   "source": [
    "print(percentage_authentic)"
   ]
  },
  {
   "cell_type": "code",
   "execution_count": 6,
   "id": "9d3c8926-7dd7-4e57-81cc-50623ca1cde8",
   "metadata": {
    "execution": {
     "iopub.execute_input": "2025-04-04T12:51:39.756550Z",
     "iopub.status.busy": "2025-04-04T12:51:39.755795Z",
     "iopub.status.idle": "2025-04-04T12:51:39.766315Z",
     "shell.execute_reply": "2025-04-04T12:51:39.764905Z",
     "shell.execute_reply.started": "2025-04-04T12:51:39.756494Z"
    },
    "tags": []
   },
   "outputs": [
    {
     "data": {
      "text/plain": [
       "124634"
      ]
     },
     "execution_count": 6,
     "metadata": {},
     "output_type": "execute_result"
    }
   ],
   "source": [
    "n_authentic"
   ]
  },
  {
   "cell_type": "markdown",
   "id": "a236a30d-fe8f-404d-bf43-7e72a40bea7d",
   "metadata": {},
   "source": [
    "Grouped by cuisine"
   ]
  },
  {
   "cell_type": "code",
   "execution_count": 4,
   "id": "87b5e2eb-7666-40fd-915c-0cf65a75a8ea",
   "metadata": {
    "execution": {
     "iopub.execute_input": "2025-05-30T01:46:34.778044Z",
     "iopub.status.busy": "2025-05-30T01:46:34.777272Z",
     "iopub.status.idle": "2025-05-30T01:46:34.857355Z",
     "shell.execute_reply": "2025-05-30T01:46:34.855462Z",
     "shell.execute_reply.started": "2025-05-30T01:46:34.777984Z"
    },
    "tags": []
   },
   "outputs": [],
   "source": [
    "# Filter to only Arizona businesses with \"Mexican\" as part of their categories\n",
    "from pyspark.sql.functions import asc, col, desc, lower, when\n",
    "\n",
    "\n",
    "def has(cuisine: str):\n",
    "    c = col(\"categories\")\n",
    "    return c.contains(cuisine) & c.contains(\"Restaurants\")\n",
    "\n",
    "\n",
    "business = business.withColumn(\n",
    "    \"cuisine\",\n",
    "    when(has(\"Mexican\"), \"Mexican\")\n",
    "    .when(has(\"Chinese\"), \"Chinese\")\n",
    "    .when(has(\"Thai\"), \"Thai\")\n",
    "    .when(has(\"Japanese\"), \"Japanese\")\n",
    "    .when(has(\"Indian\"), \"Indian\")\n",
    "    .when(has(\"French\"), \"French\")\n",
    "    .when(has(\"Italian\"), \"Italian\")\n",
    "    .when(has(\"Korean\"), \"Korean\")\n",
    "    .when(has(\"Mediterranean\"), \"Mediterranean\")\n",
    "    .when(has(\"Soul\"), \"Soul\")  # .when(has(\"German\"), \"German\")\\\n",
    "    # .when(has(\"Greek\"), \"Greek\")\\\n",
    "    # .when(has(\"Spanish\"), \"Spanish\")\\\n",
    "    .otherwise(\"non-restaurant\"),\n",
    ")\n",
    "\n",
    "# TODO: OVERLAP BETWEEN DIFFERENT CUSINES! especially French/italian!"
   ]
  },
  {
   "cell_type": "code",
   "execution_count": 16,
   "id": "daf04249-c3b6-4165-9e96-9f0ea67bfa76",
   "metadata": {
    "execution": {
     "iopub.execute_input": "2025-05-29T18:46:04.220598Z",
     "iopub.status.busy": "2025-05-29T18:46:04.219969Z",
     "iopub.status.idle": "2025-05-29T18:46:04.228075Z",
     "shell.execute_reply": "2025-05-29T18:46:04.226935Z",
     "shell.execute_reply.started": "2025-05-29T18:46:04.220560Z"
    },
    "tags": []
   },
   "outputs": [
    {
     "data": {
      "text/plain": [
       "['address',\n",
       " 'attributes',\n",
       " 'business_id',\n",
       " 'categories',\n",
       " 'city',\n",
       " 'hours',\n",
       " 'is_open',\n",
       " 'latitude',\n",
       " 'longitude',\n",
       " 'name',\n",
       " 'postal_code',\n",
       " 'review_count',\n",
       " 'stars',\n",
       " 'state',\n",
       " 'cuisine']"
      ]
     },
     "execution_count": 16,
     "metadata": {},
     "output_type": "execute_result"
    }
   ],
   "source": [
    "business.columns"
   ]
  },
  {
   "cell_type": "markdown",
   "id": "f80e38ad-26c3-4971-8913-82f4bcb58f0e",
   "metadata": {
    "execution": {
     "iopub.execute_input": "2025-05-20T10:04:54.489205Z",
     "iopub.status.busy": "2025-05-20T10:04:54.488395Z",
     "iopub.status.idle": "2025-05-20T10:04:54.495211Z",
     "shell.execute_reply": "2025-05-20T10:04:54.493801Z",
     "shell.execute_reply.started": "2025-05-20T10:04:54.489151Z"
    },
    "jp-MarkdownHeadingCollapsed": true,
    "tags": []
   },
   "source": [
    "### For the final report"
   ]
  },
  {
   "cell_type": "code",
   "execution_count": 9,
   "id": "433a0eef-2da2-4d44-9390-eacc55e81a2e",
   "metadata": {
    "execution": {
     "iopub.execute_input": "2025-05-20T09:54:09.195832Z",
     "iopub.status.busy": "2025-05-20T09:54:09.194992Z",
     "iopub.status.idle": "2025-05-20T09:54:10.211059Z",
     "shell.execute_reply": "2025-05-20T09:54:10.210249Z",
     "shell.execute_reply.started": "2025-05-20T09:54:09.195775Z"
    },
    "tags": []
   },
   "outputs": [],
   "source": [
    "from pyspark.sql.functions import col, rand\n",
    "\n",
    "sample_df = (\n",
    "    (\n",
    "        business.filter(col(\"cuisine\") != \"non-restaurant\")\n",
    "        .orderBy(rand())  # randomize\n",
    "        .limit(100)  # pick 20\n",
    "    )\n",
    "    .toPandas()\n",
    "    .to_csv(\"sample_business_3.csv\", header=True, index=False, encoding=\"utf-8\")\n",
    ")"
   ]
  },
  {
   "cell_type": "code",
   "execution_count": 47,
   "id": "186d25d8-3887-4161-bdb0-6d6b88f1f78b",
   "metadata": {
    "execution": {
     "iopub.execute_input": "2025-05-19T17:59:30.303307Z",
     "iopub.status.busy": "2025-05-19T17:59:30.302528Z",
     "iopub.status.idle": "2025-05-19T17:59:30.314710Z",
     "shell.execute_reply": "2025-05-19T17:59:30.313039Z",
     "shell.execute_reply.started": "2025-05-19T17:59:30.303228Z"
    },
    "tags": []
   },
   "outputs": [
    {
     "data": {
      "text/plain": [
       "['cuisine', 'text', 'review_id', 'state', 'city']"
      ]
     },
     "execution_count": 47,
     "metadata": {},
     "output_type": "execute_result"
    }
   ],
   "source": [
    "reviews_cuisine_text.columns"
   ]
  },
  {
   "cell_type": "code",
   "execution_count": 14,
   "id": "1e3af6f3-4d8c-4dfe-b4e4-e77c3cd44b74",
   "metadata": {
    "execution": {
     "iopub.execute_input": "2025-05-29T18:45:43.165216Z",
     "iopub.status.busy": "2025-05-29T18:45:43.164304Z",
     "iopub.status.idle": "2025-05-29T18:45:43.247028Z",
     "shell.execute_reply": "2025-05-29T18:45:43.245635Z",
     "shell.execute_reply.started": "2025-05-29T18:45:43.165152Z"
    },
    "tags": []
   },
   "outputs": [
    {
     "ename": "AnalysisException",
     "evalue": "Column 'cuisine' does not exist. Did you mean one of the following? [city, hours, is_open, latitude, name, state, address, business_id, longitude, stars, attributes, categories, postal_code, review_count];\n'Filter NOT ('cuisine = non-restaurant)\n+- Relation [address#963,attributes#964,business_id#965,categories#966,city#967,hours#968,is_open#969L,latitude#970,longitude#971,name#972,postal_code#973,review_count#974L,stars#975,state#976] json\n",
     "output_type": "error",
     "traceback": [
      "\u001b[0;31m---------------------------------------------------------------------------\u001b[0m",
      "\u001b[0;31mAnalysisException\u001b[0m                         Traceback (most recent call last)",
      "Cell \u001b[0;32mIn[14], line 6\u001b[0m\n\u001b[1;32m      3\u001b[0m c \u001b[38;5;241m=\u001b[39m lower(col(\u001b[38;5;124m\"\u001b[39m\u001b[38;5;124mtext\u001b[39m\u001b[38;5;124m\"\u001b[39m))\n\u001b[1;32m      4\u001b[0m condition \u001b[38;5;241m=\u001b[39m c\u001b[38;5;241m.\u001b[39mcontains(\u001b[38;5;124m\"\u001b[39m\u001b[38;5;124mlegitimate\u001b[39m\u001b[38;5;124m\"\u001b[39m) \u001b[38;5;241m|\u001b[39m c\u001b[38;5;241m.\u001b[39mcontains(\u001b[38;5;124m\"\u001b[39m\u001b[38;5;124mauthentic\u001b[39m\u001b[38;5;124m\"\u001b[39m)\n\u001b[1;32m      5\u001b[0m reviews_cuisine_text \u001b[38;5;241m=\u001b[39m (\n\u001b[0;32m----> 6\u001b[0m     \u001b[43mbusiness\u001b[49m\u001b[38;5;241;43m.\u001b[39;49m\u001b[43mfilter\u001b[49m\u001b[43m(\u001b[49m\u001b[43mcol\u001b[49m\u001b[43m(\u001b[49m\u001b[38;5;124;43m\"\u001b[39;49m\u001b[38;5;124;43mcuisine\u001b[39;49m\u001b[38;5;124;43m\"\u001b[39;49m\u001b[43m)\u001b[49m\u001b[43m \u001b[49m\u001b[38;5;241;43m!=\u001b[39;49m\u001b[43m \u001b[49m\u001b[38;5;124;43m\"\u001b[39;49m\u001b[38;5;124;43mnon-restaurant\u001b[39;49m\u001b[38;5;124;43m\"\u001b[39;49m\u001b[43m)\u001b[49m\n\u001b[1;32m      7\u001b[0m     \u001b[38;5;241m.\u001b[39mjoin(reviews, on\u001b[38;5;241m=\u001b[39m\u001b[38;5;124m\"\u001b[39m\u001b[38;5;124mbusiness_id\u001b[39m\u001b[38;5;124m\"\u001b[39m, how\u001b[38;5;241m=\u001b[39m\u001b[38;5;124m\"\u001b[39m\u001b[38;5;124minner\u001b[39m\u001b[38;5;124m\"\u001b[39m)\n\u001b[1;32m      8\u001b[0m     \u001b[38;5;241m.\u001b[39mselect(\u001b[38;5;124m\"\u001b[39m\u001b[38;5;124mcuisine\u001b[39m\u001b[38;5;124m\"\u001b[39m, \u001b[38;5;124m\"\u001b[39m\u001b[38;5;124mtext\u001b[39m\u001b[38;5;124m\"\u001b[39m, \u001b[38;5;124m\"\u001b[39m\u001b[38;5;124mreview_id\u001b[39m\u001b[38;5;124m\"\u001b[39m, \u001b[38;5;124m\"\u001b[39m\u001b[38;5;124mstate\u001b[39m\u001b[38;5;124m\"\u001b[39m, \u001b[38;5;124m\"\u001b[39m\u001b[38;5;124mcity\u001b[39m\u001b[38;5;124m\"\u001b[39m)\n\u001b[1;32m      9\u001b[0m     \u001b[38;5;241m.\u001b[39mcache()\n\u001b[1;32m     10\u001b[0m )\n\u001b[1;32m     12\u001b[0m review_mentions_authentic \u001b[38;5;241m=\u001b[39m reviews_cuisine_text\u001b[38;5;241m.\u001b[39mwithColumn(\n\u001b[1;32m     13\u001b[0m     \u001b[38;5;124m\"\u001b[39m\u001b[38;5;124mmentions_authentic\u001b[39m\u001b[38;5;124m\"\u001b[39m, condition\n\u001b[1;32m     14\u001b[0m )\u001b[38;5;241m.\u001b[39mcache()\n\u001b[1;32m     16\u001b[0m review_mentions_authentic\u001b[38;5;241m.\u001b[39mfilter(col(\u001b[38;5;124m\"\u001b[39m\u001b[38;5;124mmentions_authentic\u001b[39m\u001b[38;5;124m\"\u001b[39m) \u001b[38;5;241m==\u001b[39m \u001b[38;5;28;01mTrue\u001b[39;00m)\u001b[38;5;241m.\u001b[39mgroupBy(\n\u001b[1;32m     17\u001b[0m     \u001b[38;5;124m\"\u001b[39m\u001b[38;5;124mcuisine\u001b[39m\u001b[38;5;124m\"\u001b[39m\n\u001b[1;32m     18\u001b[0m )\u001b[38;5;241m.\u001b[39mcount()\u001b[38;5;241m.\u001b[39mwithColumnRenamed(\u001b[38;5;124m\"\u001b[39m\u001b[38;5;124mcount\u001b[39m\u001b[38;5;124m\"\u001b[39m, \u001b[38;5;124m\"\u001b[39m\u001b[38;5;124mmentions_count\u001b[39m\u001b[38;5;124m\"\u001b[39m)\u001b[38;5;241m.\u001b[39mshow()\n",
      "File \u001b[0;32m/usr/local/spark/python/pyspark/sql/dataframe.py:2079\u001b[0m, in \u001b[0;36mDataFrame.filter\u001b[0;34m(self, condition)\u001b[0m\n\u001b[1;32m   2077\u001b[0m     jdf \u001b[38;5;241m=\u001b[39m \u001b[38;5;28mself\u001b[39m\u001b[38;5;241m.\u001b[39m_jdf\u001b[38;5;241m.\u001b[39mfilter(condition)\n\u001b[1;32m   2078\u001b[0m \u001b[38;5;28;01melif\u001b[39;00m \u001b[38;5;28misinstance\u001b[39m(condition, Column):\n\u001b[0;32m-> 2079\u001b[0m     jdf \u001b[38;5;241m=\u001b[39m \u001b[38;5;28;43mself\u001b[39;49m\u001b[38;5;241;43m.\u001b[39;49m\u001b[43m_jdf\u001b[49m\u001b[38;5;241;43m.\u001b[39;49m\u001b[43mfilter\u001b[49m\u001b[43m(\u001b[49m\u001b[43mcondition\u001b[49m\u001b[38;5;241;43m.\u001b[39;49m\u001b[43m_jc\u001b[49m\u001b[43m)\u001b[49m\n\u001b[1;32m   2080\u001b[0m \u001b[38;5;28;01melse\u001b[39;00m:\n\u001b[1;32m   2081\u001b[0m     \u001b[38;5;28;01mraise\u001b[39;00m \u001b[38;5;167;01mTypeError\u001b[39;00m(\u001b[38;5;124m\"\u001b[39m\u001b[38;5;124mcondition should be string or Column\u001b[39m\u001b[38;5;124m\"\u001b[39m)\n",
      "File \u001b[0;32m/usr/local/spark/python/lib/py4j-0.10.9.5-src.zip/py4j/java_gateway.py:1321\u001b[0m, in \u001b[0;36mJavaMember.__call__\u001b[0;34m(self, *args)\u001b[0m\n\u001b[1;32m   1315\u001b[0m command \u001b[38;5;241m=\u001b[39m proto\u001b[38;5;241m.\u001b[39mCALL_COMMAND_NAME \u001b[38;5;241m+\u001b[39m\\\n\u001b[1;32m   1316\u001b[0m     \u001b[38;5;28mself\u001b[39m\u001b[38;5;241m.\u001b[39mcommand_header \u001b[38;5;241m+\u001b[39m\\\n\u001b[1;32m   1317\u001b[0m     args_command \u001b[38;5;241m+\u001b[39m\\\n\u001b[1;32m   1318\u001b[0m     proto\u001b[38;5;241m.\u001b[39mEND_COMMAND_PART\n\u001b[1;32m   1320\u001b[0m answer \u001b[38;5;241m=\u001b[39m \u001b[38;5;28mself\u001b[39m\u001b[38;5;241m.\u001b[39mgateway_client\u001b[38;5;241m.\u001b[39msend_command(command)\n\u001b[0;32m-> 1321\u001b[0m return_value \u001b[38;5;241m=\u001b[39m \u001b[43mget_return_value\u001b[49m\u001b[43m(\u001b[49m\n\u001b[1;32m   1322\u001b[0m \u001b[43m    \u001b[49m\u001b[43manswer\u001b[49m\u001b[43m,\u001b[49m\u001b[43m \u001b[49m\u001b[38;5;28;43mself\u001b[39;49m\u001b[38;5;241;43m.\u001b[39;49m\u001b[43mgateway_client\u001b[49m\u001b[43m,\u001b[49m\u001b[43m \u001b[49m\u001b[38;5;28;43mself\u001b[39;49m\u001b[38;5;241;43m.\u001b[39;49m\u001b[43mtarget_id\u001b[49m\u001b[43m,\u001b[49m\u001b[43m \u001b[49m\u001b[38;5;28;43mself\u001b[39;49m\u001b[38;5;241;43m.\u001b[39;49m\u001b[43mname\u001b[49m\u001b[43m)\u001b[49m\n\u001b[1;32m   1324\u001b[0m \u001b[38;5;28;01mfor\u001b[39;00m temp_arg \u001b[38;5;129;01min\u001b[39;00m temp_args:\n\u001b[1;32m   1325\u001b[0m     temp_arg\u001b[38;5;241m.\u001b[39m_detach()\n",
      "File \u001b[0;32m/usr/local/spark/python/pyspark/sql/utils.py:196\u001b[0m, in \u001b[0;36mcapture_sql_exception.<locals>.deco\u001b[0;34m(*a, **kw)\u001b[0m\n\u001b[1;32m    192\u001b[0m converted \u001b[38;5;241m=\u001b[39m convert_exception(e\u001b[38;5;241m.\u001b[39mjava_exception)\n\u001b[1;32m    193\u001b[0m \u001b[38;5;28;01mif\u001b[39;00m \u001b[38;5;129;01mnot\u001b[39;00m \u001b[38;5;28misinstance\u001b[39m(converted, UnknownException):\n\u001b[1;32m    194\u001b[0m     \u001b[38;5;66;03m# Hide where the exception came from that shows a non-Pythonic\u001b[39;00m\n\u001b[1;32m    195\u001b[0m     \u001b[38;5;66;03m# JVM exception message.\u001b[39;00m\n\u001b[0;32m--> 196\u001b[0m     \u001b[38;5;28;01mraise\u001b[39;00m converted \u001b[38;5;28;01mfrom\u001b[39;00m \u001b[38;5;28mNone\u001b[39m\n\u001b[1;32m    197\u001b[0m \u001b[38;5;28;01melse\u001b[39;00m:\n\u001b[1;32m    198\u001b[0m     \u001b[38;5;28;01mraise\u001b[39;00m\n",
      "\u001b[0;31mAnalysisException\u001b[0m: Column 'cuisine' does not exist. Did you mean one of the following? [city, hours, is_open, latitude, name, state, address, business_id, longitude, stars, attributes, categories, postal_code, review_count];\n'Filter NOT ('cuisine = non-restaurant)\n+- Relation [address#963,attributes#964,business_id#965,categories#966,city#967,hours#968,is_open#969L,latitude#970,longitude#971,name#972,postal_code#973,review_count#974L,stars#975,state#976] json\n"
     ]
    }
   ],
   "source": [
    "from pyspark.sql.functions import round\n",
    "\n",
    "c = lower(col(\"text\"))\n",
    "condition = c.contains(\"legitimate\") | c.contains(\"authentic\")\n",
    "reviews_cuisine_text = (\n",
    "    business.filter(col(\"cuisine\") != \"non-restaurant\")\n",
    "    .join(reviews, on=\"business_id\", how=\"inner\")\n",
    "    .select(\"cuisine\", \"text\", \"review_id\", \"state\", \"city\")\n",
    "    .cache()\n",
    ")\n",
    "\n",
    "review_mentions_authentic = reviews_cuisine_text.withColumn(\n",
    "    \"mentions_authentic\", condition\n",
    ").cache()\n",
    "\n",
    "review_mentions_authentic.filter(col(\"mentions_authentic\") == True).groupBy(\n",
    "    \"cuisine\"\n",
    ").count().withColumnRenamed(\"count\", \"mentions_count\").show()"
   ]
  },
  {
   "cell_type": "markdown",
   "id": "644a29ff-6a5e-4adc-ae94-3e22ac891685",
   "metadata": {
    "jp-MarkdownHeadingCollapsed": true,
    "tags": []
   },
   "source": [
    "### Comeback"
   ]
  },
  {
   "cell_type": "code",
   "execution_count": 5,
   "id": "10b75b6f-8133-42d7-afec-7a79108fc729",
   "metadata": {
    "execution": {
     "iopub.execute_input": "2025-05-30T01:46:50.328836Z",
     "iopub.status.busy": "2025-05-30T01:46:50.327857Z",
     "iopub.status.idle": "2025-05-30T01:46:50.337671Z",
     "shell.execute_reply": "2025-05-30T01:46:50.335814Z",
     "shell.execute_reply.started": "2025-05-30T01:46:50.328773Z"
    },
    "tags": []
   },
   "outputs": [],
   "source": [
    "from pyspark.sql.functions import round\n",
    "\n",
    "\n",
    "def a_l():\n",
    "    c = lower(col(\"text\"))\n",
    "    return c.contains(\"legitimate\") | c.contains(\"authentic\")"
   ]
  },
  {
   "cell_type": "code",
   "execution_count": 42,
   "id": "a9ea9f39-28fa-4ab6-82f9-5615754a2bae",
   "metadata": {
    "execution": {
     "iopub.execute_input": "2025-05-20T10:20:37.697433Z",
     "iopub.status.busy": "2025-05-20T10:20:37.696651Z",
     "iopub.status.idle": "2025-05-20T10:20:50.287170Z",
     "shell.execute_reply": "2025-05-20T10:20:50.285202Z",
     "shell.execute_reply.started": "2025-05-20T10:20:37.697377Z"
    },
    "tags": []
   },
   "outputs": [],
   "source": [
    "reviews_cuisine_text = (\n",
    "    business.filter(col(\"cuisine\") != \"non-restaurant\")\n",
    "    .join(reviews, on=\"business_id\", how=\"inner\")\n",
    "    .select(\"cuisine\", \"text\", \"review_id\", \"state\", \"city\")\n",
    "    .cache()\n",
    ")\n",
    "\n",
    "review_mentions_authentic = reviews_cuisine_text.withColumn(\n",
    "    \"mentions_authentic\", a_l()\n",
    ").cache()"
   ]
  },
  {
   "cell_type": "code",
   "execution_count": 42,
   "id": "a09581bc-9115-4f85-ae8a-830c8e9cecfd",
   "metadata": {
    "execution": {
     "iopub.execute_input": "2025-05-20T10:20:37.697433Z",
     "iopub.status.busy": "2025-05-20T10:20:37.696651Z",
     "iopub.status.idle": "2025-05-20T10:20:50.287170Z",
     "shell.execute_reply": "2025-05-20T10:20:50.285202Z",
     "shell.execute_reply.started": "2025-05-20T10:20:37.697377Z"
    },
    "tags": []
   },
   "outputs": [
    {
     "name": "stdout",
     "output_type": "stream",
     "text": [
      "+-------------+--------------+-----------+-----+\n",
      "|      cuisine|mentions_count|total_count|ratio|\n",
      "+-------------+--------------+-----------+-----+\n",
      "|      Mexican|         34175|     432248| 0.08|\n",
      "|         Thai|          6031|      93006| 0.06|\n",
      "|       Indian|          5502|      75821| 0.07|\n",
      "|      Chinese|         12640|     220481| 0.06|\n",
      "|     Japanese|          4688|     177474| 0.03|\n",
      "|      Italian|         12097|     424605| 0.03|\n",
      "|       Korean|          2271|      30851| 0.07|\n",
      "|       French|          1427|      89780| 0.02|\n",
      "|         Soul|          1144|      63684| 0.02|\n",
      "|Mediterranean|          4883|     108168| 0.05|\n",
      "+-------------+--------------+-----------+-----+\n",
      "\n"
     ]
    }
   ],
   "source": [
    "review_mentions_authentic.filter(col(\"mentions_authentic\") == True).groupBy(\n",
    "    \"cuisine\"\n",
    ").count().withColumnRenamed(\"count\", \"mentions_count\").join(\n",
    "    reviews_cuisine_text.groupBy(\"cuisine\")\n",
    "    .count()\n",
    "    .withColumnRenamed(\"count\", \"total_count\"),\n",
    "    on=\"cuisine\",\n",
    ").withColumn(\n",
    "    \"ratio\", round(col(\"mentions_count\") / col(\"total_count\"), 2)\n",
    ").show()"
   ]
  },
  {
   "cell_type": "code",
   "execution_count": 110,
   "id": "0b57970e-35bd-4e02-9a09-ccbdf10aa205",
   "metadata": {
    "execution": {
     "iopub.execute_input": "2025-04-11T12:07:44.437199Z",
     "iopub.status.busy": "2025-04-11T12:07:44.436350Z",
     "iopub.status.idle": "2025-04-11T12:07:44.472805Z",
     "shell.execute_reply": "2025-04-11T12:07:44.471872Z",
     "shell.execute_reply.started": "2025-04-11T12:07:44.437144Z"
    },
    "tags": []
   },
   "outputs": [
    {
     "ename": "NameError",
     "evalue": "name 'Window' is not defined",
     "output_type": "error",
     "traceback": [
      "\u001b[0;31m---------------------------------------------------------------------------\u001b[0m",
      "\u001b[0;31mNameError\u001b[0m                                 Traceback (most recent call last)",
      "Cell \u001b[0;32mIn[110], line 4\u001b[0m\n\u001b[1;32m      1\u001b[0m \u001b[38;5;28;01mfrom\u001b[39;00m \u001b[38;5;21;01mpyspark\u001b[39;00m\u001b[38;5;21;01m.\u001b[39;00m\u001b[38;5;21;01msql\u001b[39;00m\u001b[38;5;21;01m.\u001b[39;00m\u001b[38;5;21;01mfunctions\u001b[39;00m \u001b[38;5;28;01mimport\u001b[39;00m max_by, struct\n\u001b[1;32m      3\u001b[0m restaurant_reviews_on_business \u001b[38;5;241m=\u001b[39m reviews_cuisine_text\n\u001b[0;32m----> 4\u001b[0m window \u001b[38;5;241m=\u001b[39m \u001b[43mWindow\u001b[49m\u001b[38;5;241m.\u001b[39mpartitionBy(\u001b[38;5;124m\"\u001b[39m\u001b[38;5;124mstate\u001b[39m\u001b[38;5;124m\"\u001b[39m)\u001b[38;5;241m.\u001b[39morderBy(col(\u001b[38;5;124m\"\u001b[39m\u001b[38;5;124mcount\u001b[39m\u001b[38;5;124m\"\u001b[39m)\u001b[38;5;241m.\u001b[39mdesc())\n\u001b[1;32m      6\u001b[0m totals \u001b[38;5;241m=\u001b[39m restaurant_reviews_on_business\\\n\u001b[1;32m      7\u001b[0m \u001b[38;5;241m.\u001b[39mrollup(\u001b[38;5;124m'\u001b[39m\u001b[38;5;124mstate\u001b[39m\u001b[38;5;124m'\u001b[39m, \u001b[38;5;124m'\u001b[39m\u001b[38;5;124mcity\u001b[39m\u001b[38;5;124m'\u001b[39m)\\\n\u001b[1;32m      8\u001b[0m \u001b[38;5;241m.\u001b[39mcount()\\\n\u001b[0;32m   (...)\u001b[0m\n\u001b[1;32m     11\u001b[0m \u001b[38;5;241m.\u001b[39mfilter(col(\u001b[38;5;124m'\u001b[39m\u001b[38;5;124mrank\u001b[39m\u001b[38;5;124m'\u001b[39m) \u001b[38;5;241m<\u001b[39m\u001b[38;5;241m=\u001b[39m \u001b[38;5;241m2\u001b[39m)\\\n\u001b[1;32m     12\u001b[0m \u001b[38;5;241m.\u001b[39mselect(\u001b[38;5;124m'\u001b[39m\u001b[38;5;124mstate\u001b[39m\u001b[38;5;124m'\u001b[39m, \u001b[38;5;124m'\u001b[39m\u001b[38;5;124mcity\u001b[39m\u001b[38;5;124m'\u001b[39m, \u001b[38;5;124m'\u001b[39m\u001b[38;5;124mcount\u001b[39m\u001b[38;5;124m'\u001b[39m)\n\u001b[1;32m     14\u001b[0m city_df \u001b[38;5;241m=\u001b[39m totals\u001b[38;5;241m.\u001b[39mfilter(col(\u001b[38;5;124m'\u001b[39m\u001b[38;5;124mcity\u001b[39m\u001b[38;5;124m'\u001b[39m)\u001b[38;5;241m.\u001b[39misNotNull())\u001b[38;5;241m.\u001b[39mselect(\u001b[38;5;124m'\u001b[39m\u001b[38;5;124mstate\u001b[39m\u001b[38;5;124m'\u001b[39m, \u001b[38;5;124m'\u001b[39m\u001b[38;5;124mcity\u001b[39m\u001b[38;5;124m'\u001b[39m, col(\u001b[38;5;124m'\u001b[39m\u001b[38;5;124mcount\u001b[39m\u001b[38;5;124m'\u001b[39m)\u001b[38;5;241m.\u001b[39malias(\u001b[38;5;124m'\u001b[39m\u001b[38;5;124mcity_count\u001b[39m\u001b[38;5;124m'\u001b[39m))\n",
      "\u001b[0;31mNameError\u001b[0m: name 'Window' is not defined"
     ]
    }
   ],
   "source": [
    "from pyspark.sql.functions import max_by, struct\n",
    "\n",
    "restaurant_reviews_on_business = reviews_cuisine_text\n",
    "window = Window.partitionBy(\"state\").orderBy(col(\"count\").desc())\n",
    "\n",
    "totals = (\n",
    "    restaurant_reviews_on_business.rollup(\"state\", \"city\")\n",
    "    .count()\n",
    "    .filter(col(\"state\").isNotNull())\n",
    "    .withColumn(\"rank\", row_number().over(window))\n",
    "    .filter(col(\"rank\") <= 2)\n",
    "    .select(\"state\", \"city\", \"count\")\n",
    ")\n",
    "\n",
    "city_df = totals.filter(col(\"city\").isNotNull()).select(\n",
    "    \"state\", \"city\", col(\"count\").alias(\"city_count\")\n",
    ")\n",
    "state_df = totals.filter(col(\"city\").isNull()).select(\n",
    "    \"state\", col(\"count\").alias(\"state_count\")\n",
    ")\n",
    "totals = city_df.join(state_df, on=\"state\")\n",
    "\n",
    "auth_totals = (\n",
    "    restaurant_reviews_on_business.filter(a_l())\n",
    "    .rollup(\"state\", \"city\")\n",
    "    .count()\n",
    "    .filter(col(\"state\").isNotNull())\n",
    "    .select(\"state\", \"city\", \"count\")\n",
    ")\n",
    "\n",
    "auth_city_df = auth_totals.filter(col(\"city\").isNotNull()).select(\n",
    "    \"state\", \"city\", col(\"count\").alias(\"auth_city_count\")\n",
    ")\n",
    "auth_state_df = auth_totals.filter(col(\"city\").isNull()).select(\n",
    "    \"state\", col(\"count\").alias(\"auth_state_count\")\n",
    ")\n",
    "auth_totals = auth_city_df.join(auth_state_df, on=\"state\")\n",
    "\n",
    "combined = totals.join(auth_totals, on=[\"state\", \"city\"], how=\"left\")\n",
    "combined = combined.withColumn(\n",
    "    \"city_auth_ratio\", round(col(\"auth_city_count\") / col(\"city_count\"), 2)\n",
    ").withColumn(\n",
    "    \"state_auth_ratio\", round(col(\"auth_state_count\") / col(\"state_count\"), 2)\n",
    ")  # .select('state', 'state_auth_ratio', 'city', 'city_auth_ratio')\n",
    "\n",
    "combined.show()"
   ]
  },
  {
   "cell_type": "markdown",
   "id": "8517b579",
   "metadata": {
    "jp-MarkdownHeadingCollapsed": true,
    "tags": []
   },
   "source": [
    "### Task 3.2.2: Hypothesis Testing"
   ]
  },
  {
   "cell_type": "code",
   "execution_count": 3,
   "id": "a7a4d448-b452-4f86-8d6d-de362fbcef62",
   "metadata": {
    "execution": {
     "iopub.execute_input": "2025-05-30T01:46:14.444743Z",
     "iopub.status.busy": "2025-05-30T01:46:14.443751Z",
     "iopub.status.idle": "2025-05-30T01:46:14.454018Z",
     "shell.execute_reply": "2025-05-30T01:46:14.452364Z",
     "shell.execute_reply.started": "2025-05-30T01:46:14.444677Z"
    },
    "tags": []
   },
   "outputs": [],
   "source": [
    "def l_l():\n",
    "    c = lower(col(\"text\"))\n",
    "    return (\n",
    "        c.contains(\"dirty\")\n",
    "        | c.contains(\"kitsch\")\n",
    "        | c.contains(\"cheap\")\n",
    "        | c.contains(\"rude\")\n",
    "        | c.contains(\"simple\")\n",
    "    )"
   ]
  },
  {
   "cell_type": "code",
   "execution_count": 9,
   "id": "45d5795d-e271-46c8-9241-0d2acdfc125f",
   "metadata": {
    "execution": {
     "iopub.execute_input": "2025-05-21T10:06:52.751118Z",
     "iopub.status.busy": "2025-05-21T10:06:52.750597Z",
     "iopub.status.idle": "2025-05-21T10:06:52.772483Z",
     "shell.execute_reply": "2025-05-21T10:06:52.771664Z",
     "shell.execute_reply.started": "2025-05-21T10:06:52.751092Z"
    },
    "tags": []
   },
   "outputs": [
    {
     "ename": "NameError",
     "evalue": "name 'reviews_cuisine_text' is not defined",
     "output_type": "error",
     "traceback": [
      "\u001b[0;31m---------------------------------------------------------------------------\u001b[0m",
      "\u001b[0;31mNameError\u001b[0m                                 Traceback (most recent call last)",
      "Cell \u001b[0;32mIn[9], line 4\u001b[0m\n\u001b[1;32m      2\u001b[0m     c\u001b[38;5;241m=\u001b[39mlower(col(\u001b[38;5;124m'\u001b[39m\u001b[38;5;124mtext\u001b[39m\u001b[38;5;124m'\u001b[39m))\n\u001b[1;32m      3\u001b[0m     \u001b[38;5;28;01mreturn\u001b[39;00m c\u001b[38;5;241m.\u001b[39mcontains(\u001b[38;5;124m'\u001b[39m\u001b[38;5;124mdirty\u001b[39m\u001b[38;5;124m'\u001b[39m) \u001b[38;5;241m|\u001b[39m c\u001b[38;5;241m.\u001b[39mcontains(\u001b[38;5;124m'\u001b[39m\u001b[38;5;124mkitsch\u001b[39m\u001b[38;5;124m'\u001b[39m) \u001b[38;5;241m|\u001b[39m c\u001b[38;5;241m.\u001b[39mcontains(\u001b[38;5;124m'\u001b[39m\u001b[38;5;124mcheap\u001b[39m\u001b[38;5;124m'\u001b[39m) \u001b[38;5;241m|\u001b[39m c\u001b[38;5;241m.\u001b[39mcontains(\u001b[38;5;124m'\u001b[39m\u001b[38;5;124mrude\u001b[39m\u001b[38;5;124m'\u001b[39m) \u001b[38;5;241m|\u001b[39m c\u001b[38;5;241m.\u001b[39mcontains(\u001b[38;5;124m'\u001b[39m\u001b[38;5;124msimple\u001b[39m\u001b[38;5;124m'\u001b[39m)\n\u001b[0;32m----> 4\u001b[0m review_mentions_dirty\u001b[38;5;241m=\u001b[39m\u001b[43mreviews_cuisine_text\u001b[49m\\\n\u001b[1;32m      5\u001b[0m \u001b[38;5;241m.\u001b[39mwithColumn(\u001b[38;5;124m'\u001b[39m\u001b[38;5;124mmentions_dirty\u001b[39m\u001b[38;5;124m'\u001b[39m, l_l())\\\n\u001b[1;32m      6\u001b[0m \u001b[38;5;241m.\u001b[39mcache()\n",
      "\u001b[0;31mNameError\u001b[0m: name 'reviews_cuisine_text' is not defined"
     ]
    }
   ],
   "source": [
    "review_mentions_dirty = reviews_cuisine_text.withColumn(\"mentions_dirty\", l_l()).cache()"
   ]
  },
  {
   "cell_type": "code",
   "execution_count": 8,
   "id": "ccf49f7a-9083-4531-882f-cf1769a151fe",
   "metadata": {
    "execution": {
     "iopub.execute_input": "2025-05-21T10:06:50.672912Z",
     "iopub.status.busy": "2025-05-21T10:06:50.672400Z",
     "iopub.status.idle": "2025-05-21T10:06:50.691602Z",
     "shell.execute_reply": "2025-05-21T10:06:50.690581Z",
     "shell.execute_reply.started": "2025-05-21T10:06:50.672886Z"
    },
    "tags": []
   },
   "outputs": [
    {
     "ename": "NameError",
     "evalue": "name 'review_mentions_dirty' is not defined",
     "output_type": "error",
     "traceback": [
      "\u001b[0;31m---------------------------------------------------------------------------\u001b[0m",
      "\u001b[0;31mNameError\u001b[0m                                 Traceback (most recent call last)",
      "Cell \u001b[0;32mIn[8], line 1\u001b[0m\n\u001b[0;32m----> 1\u001b[0m \u001b[43mreview_mentions_dirty\u001b[49m\u001b[38;5;241m.\u001b[39mcolumns\n",
      "\u001b[0;31mNameError\u001b[0m: name 'review_mentions_dirty' is not defined"
     ]
    }
   ],
   "source": [
    "review_mentions_dirty.columns"
   ]
  },
  {
   "cell_type": "code",
   "execution_count": 55,
   "id": "0a996e19-8fa4-4b0d-ba07-363620aafb0f",
   "metadata": {
    "execution": {
     "iopub.execute_input": "2025-05-20T10:37:35.852455Z",
     "iopub.status.busy": "2025-05-20T10:37:35.851636Z",
     "iopub.status.idle": "2025-05-20T10:37:36.001682Z",
     "shell.execute_reply": "2025-05-20T10:37:36.000124Z",
     "shell.execute_reply.started": "2025-05-20T10:37:35.852388Z"
    },
    "tags": []
   },
   "outputs": [
    {
     "name": "stdout",
     "output_type": "stream",
     "text": [
      "+--------------------+--------------+-------------+--------------------+-----+---------------+------------------+------------------------+\n",
      "|           review_id|mentions_dirty|      cuisine|                text|state|           city|mentions_authentic|mentions_authentic_dirty|\n",
      "+--------------------+--------------+-------------+--------------------+-----+---------------+------------------+------------------------+\n",
      "|-GehB4C8_DeDOjToM...|         false|Mediterranean|The wife and I ag...|   IN|   Indianapolis|              true|                   false|\n",
      "|-LcqwMWUQXjVjE21F...|         false|      Mexican|Taco Bus man o ma...|   FL|Treasure Island|              true|                   false|\n",
      "|-WN9tM07OQF8BjyiV...|         false|      Italian|By far the best a...|   PA|   Philadelphia|              true|                   false|\n",
      "|0AHkb3ZVcGY-bXNNL...|         false|Mediterranean|Tried this place ...|   PA|   Philadelphia|              true|                   false|\n",
      "|0CrvG-_VaGmFbKLJU...|         false|      Mexican|Classic.\\nUnique....|   IN|   Indianapolis|              true|                   false|\n",
      "+--------------------+--------------+-------------+--------------------+-----+---------------+------------------+------------------------+\n",
      "only showing top 5 rows\n",
      "\n"
     ]
    }
   ],
   "source": [
    "# now it contains cuisine and boolean variable if two conditions are fulfilled. We can easily operate on it!\n",
    "review_mentions_authentic_or_dirty = (\n",
    "    review_mentions_dirty.select(\"review_id\", \"mentions_dirty\")\n",
    "    .join(review_mentions_authentic, on=\"review_id\", how=\"inner\")\n",
    "    .withColumn(\n",
    "        \"mentions_authentic_dirty\", col(\"mentions_dirty\") & col(\"mentions_authentic\")\n",
    "    )\n",
    "    .cache()\n",
    ")\n",
    "authentic_review_mentions_dirty = review_mentions_authentic_or_dirty.filter(\n",
    "    col(\"mentions_authentic\")\n",
    ")\n",
    "authentic_review_mentions_dirty.show(n=5)"
   ]
  },
  {
   "cell_type": "markdown",
   "id": "734a8aea-9635-4870-835f-a4faf3ab4bfd",
   "metadata": {},
   "source": [
    "For the 2x2 contigency table we need:\n",
    "- to merge them into European and South America + Asian + Soul (SAAS)\n",
    "- get total\n",
    "- get margin counts for European\n",
    "- get margin counts for SAAS\n",
    "- get margin for 'authenticity + dirty' language\n",
    "- get margin for non 'authenticity + dirty' language"
   ]
  },
  {
   "cell_type": "markdown",
   "id": "abf0eabf-e185-4e1d-8b29-7f6ae4bb0429",
   "metadata": {
    "tags": []
   },
   "source": [
    "##### Total"
   ]
  },
  {
   "cell_type": "code",
   "execution_count": 56,
   "id": "ced91813-fe6c-42c2-bfd6-d77b10185bd3",
   "metadata": {
    "execution": {
     "iopub.execute_input": "2025-05-20T10:37:41.359482Z",
     "iopub.status.busy": "2025-05-20T10:37:41.358689Z",
     "iopub.status.idle": "2025-05-20T10:37:41.938334Z",
     "shell.execute_reply": "2025-05-20T10:37:41.936770Z",
     "shell.execute_reply.started": "2025-05-20T10:37:41.359426Z"
    },
    "tags": []
   },
   "outputs": [
    {
     "data": {
      "text/plain": [
       "84858"
      ]
     },
     "execution_count": 56,
     "metadata": {},
     "output_type": "execute_result"
    }
   ],
   "source": [
    "total = authentic_review_mentions_dirty.count()\n",
    "total"
   ]
  },
  {
   "cell_type": "markdown",
   "id": "ef79eb10-eef2-4d34-a5b4-93bd0bd8acd7",
   "metadata": {
    "tags": []
   },
   "source": [
    "##### Merge"
   ]
  },
  {
   "cell_type": "code",
   "execution_count": 58,
   "id": "10fc0e55",
   "metadata": {
    "execution": {
     "iopub.execute_input": "2025-05-20T10:38:35.688720Z",
     "iopub.status.busy": "2025-05-20T10:38:35.687914Z",
     "iopub.status.idle": "2025-05-20T10:38:35.863002Z",
     "shell.execute_reply": "2025-05-20T10:38:35.861269Z",
     "shell.execute_reply.started": "2025-05-20T10:38:35.688664Z"
    },
    "tags": []
   },
   "outputs": [
    {
     "name": "stdout",
     "output_type": "stream",
     "text": [
      "+------------------------+--------------------+\n",
      "|mentions_authentic_dirty|      global_cuisine|\n",
      "+------------------------+--------------------+\n",
      "|                   false|            european|\n",
      "|                   false|asian_or_south_am...|\n",
      "|                   false|            european|\n",
      "|                   false|            european|\n",
      "|                   false|asian_or_south_am...|\n",
      "+------------------------+--------------------+\n",
      "only showing top 5 rows\n",
      "\n"
     ]
    }
   ],
   "source": [
    "# Write your code here...\n",
    "def c_c():\n",
    "    c = col(\"cuisine\")\n",
    "    return (\n",
    "        c.contains(\"Italian\") | c.contains(\"French\") | c.contains(\"Mediterranean\")\n",
    "    )  # already filtered - no need to check for restaurant\n",
    "\n",
    "\n",
    "european_saas_review_mentions_authentic_dirty = (\n",
    "    authentic_review_mentions_dirty.withColumn(\n",
    "        \"global_cuisine\", when(c_c(), \"european\").otherwise(\"asian_or_south_american\")\n",
    "    )\n",
    "    .select(\"mentions_authentic_dirty\", \"global_cuisine\")\n",
    "    .cache()\n",
    ")\n",
    "\n",
    "european_saas_review_mentions_authentic_dirty.show(n=5)"
   ]
  },
  {
   "cell_type": "markdown",
   "id": "34b2b0a3-5944-4c2b-921b-c7bea5e1beef",
   "metadata": {},
   "source": [
    "##### Cell Counts"
   ]
  },
  {
   "cell_type": "code",
   "execution_count": 59,
   "id": "37de3824-1a11-43e9-b6b4-6ad407c2be50",
   "metadata": {
    "execution": {
     "iopub.execute_input": "2025-05-20T10:38:42.665410Z",
     "iopub.status.busy": "2025-05-20T10:38:42.664624Z",
     "iopub.status.idle": "2025-05-20T10:38:45.533611Z",
     "shell.execute_reply": "2025-05-20T10:38:45.531839Z",
     "shell.execute_reply.started": "2025-05-20T10:38:42.665355Z"
    },
    "tags": []
   },
   "outputs": [
    {
     "name": "stdout",
     "output_type": "stream",
     "text": [
      "+--------------------+------------------------+-----+\n",
      "|      global_cuisine|mentions_authentic_dirty|count|\n",
      "+--------------------+------------------------+-----+\n",
      "|            european|                    true| 1319|\n",
      "|asian_or_south_am...|                   false|60845|\n",
      "|asian_or_south_am...|                    true| 5606|\n",
      "|            european|                   false|17088|\n",
      "+--------------------+------------------------+-----+\n",
      "\n",
      "[Row(global_cuisine='european', mentions_authentic_dirty=True, count=1319), Row(global_cuisine='asian_or_south_american', mentions_authentic_dirty=False, count=60845), Row(global_cuisine='asian_or_south_american', mentions_authentic_dirty=True, count=5606), Row(global_cuisine='european', mentions_authentic_dirty=False, count=17088)]\n"
     ]
    }
   ],
   "source": [
    "tmp = european_saas_review_mentions_authentic_dirty.groupby(\n",
    "    \"global_cuisine\", \"mentions_authentic_dirty\"\n",
    ").count()\n",
    "tmp.show()\n",
    "tmp = tmp.collect()\n",
    "print(tmp)\n",
    "\n",
    "# i = 0\n",
    "i = 0\n",
    "european_true = tmp[i][-1]\n",
    "assert tmp[i][0] == \"european\" and tmp[i][1] == True\n",
    "\n",
    "# i = 1\n",
    "i = 1\n",
    "asian_or_south_american_false = tmp[i][-1]\n",
    "assert tmp[i][0] == \"asian_or_south_american\" and tmp[i][1] == False\n",
    "\n",
    "# i = 2\n",
    "i = 2\n",
    "asian_or_south_american_true = tmp[i][-1]\n",
    "assert tmp[i][0] == \"asian_or_south_american\" and tmp[i][1] == True\n",
    "\n",
    "# i = 3\n",
    "i = 3\n",
    "european_false = tmp[i][-1]\n",
    "assert tmp[i][0] == \"european\" and tmp[i][1] == False"
   ]
  },
  {
   "cell_type": "code",
   "execution_count": 60,
   "id": "e7962da5-c408-46a7-ac2b-c94b5bedc2fb",
   "metadata": {
    "execution": {
     "iopub.execute_input": "2025-05-20T10:38:45.942953Z",
     "iopub.status.busy": "2025-05-20T10:38:45.942144Z",
     "iopub.status.idle": "2025-05-20T10:39:06.695866Z",
     "shell.execute_reply": "2025-05-20T10:39:06.692593Z",
     "shell.execute_reply.started": "2025-05-20T10:38:45.942899Z"
    },
    "tags": []
   },
   "outputs": [
    {
     "name": "stdout",
     "output_type": "stream",
     "text": [
      "Collecting scipy\n",
      "  Downloading scipy-1.15.3-cp310-cp310-manylinux_2_17_x86_64.manylinux2014_x86_64.whl (37.7 MB)\n",
      "\u001b[2K     \u001b[90m━━━━━━━━━━━━━━━━━━━━━━━━━━━━━━━━━━━━━━━━\u001b[0m \u001b[32m37.7/37.7 MB\u001b[0m \u001b[31m37.8 MB/s\u001b[0m eta \u001b[36m0:00:00\u001b[0m00:01\u001b[0m00:01\u001b[0m\n",
      "\u001b[?25hRequirement already satisfied: numpy<2.5,>=1.23.5 in /opt/conda/lib/python3.10/site-packages (from scipy) (1.23.5)\n",
      "Installing collected packages: scipy\n",
      "Successfully installed scipy-1.15.3\n"
     ]
    }
   ],
   "source": [
    "!pip install scipy"
   ]
  },
  {
   "cell_type": "markdown",
   "id": "15268b8f-5315-4c57-8255-ff8940aabacc",
   "metadata": {
    "tags": []
   },
   "source": [
    "#### Proper Tests"
   ]
  },
  {
   "cell_type": "markdown",
   "id": "2ccd9c35-7ea2-46a9-b509-5a1201f604cb",
   "metadata": {
    "tags": []
   },
   "source": [
    "#### test for independnce\n",
    "This is just test for independence"
   ]
  },
  {
   "cell_type": "markdown",
   "id": "1cfe607c-2f77-4a5d-b9db-a3cd5c5d220e",
   "metadata": {},
   "source": [
    "$H_0$: The two variables are independent\n",
    "i.e.\n",
    "$H_0: (\\forall i, j)[p_{ij} = p_i \\cdot q_j]$"
   ]
  },
  {
   "cell_type": "code",
   "execution_count": 62,
   "id": "1202aa2e-b1f7-4492-841b-073df7b0435b",
   "metadata": {
    "execution": {
     "iopub.execute_input": "2025-05-20T10:39:31.659746Z",
     "iopub.status.busy": "2025-05-20T10:39:31.658855Z",
     "iopub.status.idle": "2025-05-20T10:39:31.672154Z",
     "shell.execute_reply": "2025-05-20T10:39:31.671395Z",
     "shell.execute_reply.started": "2025-05-20T10:39:31.659687Z"
    },
    "tags": []
   },
   "outputs": [
    {
     "name": "stdout",
     "output_type": "stream",
     "text": [
      "Chi-square statistic: 30.877183496580166\n",
      "p-value: 2.748846254431418e-08\n",
      "Degrees of freedom: 1\n",
      "Expected frequencies:\n",
      "[[ 1502.13857267 16904.86142733]\n",
      " [ 5422.86142733 61028.13857267]]\n",
      "Observed frequencies:\n",
      "[[ 1319 17088]\n",
      " [ 5606 60845]]\n"
     ]
    }
   ],
   "source": [
    "import numpy as np\n",
    "from scipy.stats import chi2_contingency\n",
    "\n",
    "table = np.array(\n",
    "    [\n",
    "        [european_true, european_false],\n",
    "        [asian_or_south_american_true, asian_or_south_american_false],\n",
    "    ]\n",
    ")\n",
    "chi2, p, dof, expected = chi2_contingency(table)\n",
    "\n",
    "print(\"Chi-square statistic:\", chi2)\n",
    "print(\"p-value:\", p)\n",
    "print(\"Degrees of freedom:\", dof)\n",
    "print(\"Expected frequencies:\")\n",
    "print(expected)\n",
    "print(\"Observed frequencies:\")\n",
    "print(table)"
   ]
  },
  {
   "cell_type": "markdown",
   "id": "7fb28d21-0d99-498e-8957-f5a634e63751",
   "metadata": {
    "execution": {
     "iopub.execute_input": "2025-04-04T16:50:26.922268Z",
     "iopub.status.busy": "2025-04-04T16:50:26.921476Z",
     "iopub.status.idle": "2025-04-04T16:50:26.932081Z",
     "shell.execute_reply": "2025-04-04T16:50:26.929827Z",
     "shell.execute_reply.started": "2025-04-04T16:50:26.922209Z"
    },
    "tags": []
   },
   "source": [
    "Conclusion, is that we reject $H_0$ in favour of $H_1$ so actually these are dependent."
   ]
  },
  {
   "cell_type": "markdown",
   "id": "5fede793-cf67-4cf6-8c59-4a9ed4b86a99",
   "metadata": {},
   "source": [
    "##### Directional test\n",
    "So here, I treat european and asian_or_south_american as population (for 2x2 it's fine), and start with hypothesis that:\n",
    "\n",
    "Probability of Authenticity+Dirty language in SAAS is higher than in European restaurant i.e. \n",
    "\n",
    "$H_0: p_{11} = p_{21}$ vs $H_A:p_{11}<p_{21}$"
   ]
  },
  {
   "cell_type": "code",
   "execution_count": 63,
   "id": "25033be2-b1d2-428c-86c2-a1fccdb1768f",
   "metadata": {
    "execution": {
     "iopub.execute_input": "2025-05-20T10:39:34.984463Z",
     "iopub.status.busy": "2025-05-20T10:39:34.983675Z",
     "iopub.status.idle": "2025-05-20T10:39:34.994168Z",
     "shell.execute_reply": "2025-05-20T10:39:34.992954Z",
     "shell.execute_reply.started": "2025-05-20T10:39:34.984406Z"
    },
    "tags": []
   },
   "outputs": [
    {
     "data": {
      "text/plain": [
       "array([[0.07165752, 0.92834248],\n",
       "       [0.08436291, 0.91563709]])"
      ]
     },
     "execution_count": 63,
     "metadata": {},
     "output_type": "execute_result"
    }
   ],
   "source": [
    "probs = table / table.sum(axis=1)[:, np.newaxis]\n",
    "(p_11, p_12), (p_21, p_22) = probs\n",
    "probs"
   ]
  },
  {
   "cell_type": "markdown",
   "id": "d2ad6523-fb7b-4b6e-b024-837cb41eb24a",
   "metadata": {
    "execution": {
     "iopub.execute_input": "2025-04-04T17:25:34.934085Z",
     "iopub.status.busy": "2025-04-04T17:25:34.933275Z",
     "iopub.status.idle": "2025-04-04T17:25:34.950327Z",
     "shell.execute_reply": "2025-04-04T17:25:34.948619Z",
     "shell.execute_reply.started": "2025-04-04T17:25:34.934023Z"
    },
    "tags": []
   },
   "source": [
    "1 check: if indeed the prob for SAAS is higher"
   ]
  },
  {
   "cell_type": "code",
   "execution_count": 64,
   "id": "18c8c0f8-26a4-4661-b74a-8526b8185ab3",
   "metadata": {
    "execution": {
     "iopub.execute_input": "2025-05-20T10:39:36.529591Z",
     "iopub.status.busy": "2025-05-20T10:39:36.528777Z",
     "iopub.status.idle": "2025-05-20T10:39:36.536297Z",
     "shell.execute_reply": "2025-05-20T10:39:36.534950Z",
     "shell.execute_reply.started": "2025-05-20T10:39:36.529509Z"
    },
    "tags": []
   },
   "outputs": [],
   "source": [
    "assert p_11 < p_21, \"H_A is rejected\""
   ]
  },
  {
   "cell_type": "markdown",
   "id": "1c44a741-0e5b-45b4-92b7-68f7cb8672d0",
   "metadata": {
    "execution": {
     "iopub.execute_input": "2025-04-04T17:25:54.652736Z",
     "iopub.status.busy": "2025-04-04T17:25:54.652084Z",
     "iopub.status.idle": "2025-04-04T17:25:54.659691Z",
     "shell.execute_reply": "2025-04-04T17:25:54.658209Z",
     "shell.execute_reply.started": "2025-04-04T17:25:54.652697Z"
    },
    "tags": []
   },
   "source": [
    "2nd check: divide $p$ value by half and get info"
   ]
  },
  {
   "cell_type": "code",
   "execution_count": 65,
   "id": "0b683a4d-d1e5-42fb-aa0d-b02413177563",
   "metadata": {
    "execution": {
     "iopub.execute_input": "2025-05-20T10:39:37.842036Z",
     "iopub.status.busy": "2025-05-20T10:39:37.841203Z",
     "iopub.status.idle": "2025-05-20T10:39:37.849167Z",
     "shell.execute_reply": "2025-05-20T10:39:37.847836Z",
     "shell.execute_reply.started": "2025-05-20T10:39:37.841977Z"
    },
    "tags": []
   },
   "outputs": [
    {
     "name": "stdout",
     "output_type": "stream",
     "text": [
      "1.374423127215709e-08\n"
     ]
    }
   ],
   "source": [
    "print(p / 2)"
   ]
  },
  {
   "cell_type": "code",
   "execution_count": 66,
   "id": "a27bc4e9-39d8-4697-9ba9-168b170dd7a9",
   "metadata": {
    "execution": {
     "iopub.execute_input": "2025-05-20T10:39:38.555649Z",
     "iopub.status.busy": "2025-05-20T10:39:38.554959Z",
     "iopub.status.idle": "2025-05-20T10:39:38.565501Z",
     "shell.execute_reply": "2025-05-20T10:39:38.564234Z",
     "shell.execute_reply.started": "2025-05-20T10:39:38.555579Z"
    },
    "tags": []
   },
   "outputs": [
    {
     "data": {
      "text/plain": [
       "0.07165752159504536"
      ]
     },
     "execution_count": 66,
     "metadata": {},
     "output_type": "execute_result"
    }
   ],
   "source": [
    "p_11"
   ]
  },
  {
   "cell_type": "code",
   "execution_count": 68,
   "id": "38085218-452a-4819-9950-71b9e89e7f0d",
   "metadata": {
    "execution": {
     "iopub.execute_input": "2025-05-20T10:40:22.552847Z",
     "iopub.status.busy": "2025-05-20T10:40:22.552164Z",
     "iopub.status.idle": "2025-05-20T10:40:22.566910Z",
     "shell.execute_reply": "2025-05-20T10:40:22.566115Z",
     "shell.execute_reply.started": "2025-05-20T10:40:22.552791Z"
    },
    "tags": []
   },
   "outputs": [
    {
     "name": "stdout",
     "output_type": "stream",
     "text": [
      "Group 1 (European):\n",
      "  n = 18407 ; p1 = 0.07165752159504536\n",
      "Group 2 (Asian/South American):\n",
      "  n = 66451 ; p2 = 0.08436291402687694\n",
      "Difference in proportions (p1 - p2): 0.01270539243183158\n",
      "Unpooled Standard Error: 0.0021855063725427235\n",
      "95% Confidence Interval for the difference: (0.0084, 0.0170)\n"
     ]
    }
   ],
   "source": [
    "from scipy.stats import norm\n",
    "\n",
    "# Compute sample sizes for each group\n",
    "n1 = european_true + european_false\n",
    "n2 = asian_or_south_american_true + asian_or_south_american_false\n",
    "p2 = p_21\n",
    "p1 = p_11\n",
    "diff = p2 - p1\n",
    "SE_unpooled = np.sqrt(p1 * (1 - p1) / n1 + p2 * (1 - p2) / n2)\n",
    "z_star = norm.ppf(1 - 0.05 / 2)\n",
    "margin = z_star * SE_unpooled\n",
    "CI_lower = diff - margin\n",
    "CI_upper = diff + margin\n",
    "print(\"Group 1 (European):\")\n",
    "print(\"  n =\", n1, \"; p1 =\", p1)\n",
    "print(\"Group 2 (Asian/South American):\")\n",
    "print(\"  n =\", n2, \"; p2 =\", p2)\n",
    "print(\"Difference in proportions (p1 - p2):\", diff)\n",
    "print(\"Unpooled Standard Error:\", SE_unpooled)\n",
    "print(\n",
    "    \"95% Confidence Interval for the difference: ({:.4f}, {:.4f})\".format(\n",
    "        CI_lower, CI_upper\n",
    "    )\n",
    ")"
   ]
  },
  {
   "cell_type": "markdown",
   "id": "10a5f6fc-9449-4844-8779-9f97bf9f3487",
   "metadata": {},
   "source": [
    "As we see, we have enough info to accept H_A in favour of H_0"
   ]
  },
  {
   "cell_type": "markdown",
   "id": "f7e7c1d5",
   "metadata": {
    "jp-MarkdownHeadingCollapsed": true,
    "tags": []
   },
   "source": [
    "### Task 3.3: Building a Rating Prediction Model"
   ]
  },
  {
   "cell_type": "markdown",
   "id": "864e66f7-824f-42e7-9911-9abe551c2ceb",
   "metadata": {
    "tags": []
   },
   "source": [
    "### Let's recall fields again"
   ]
  },
  {
   "cell_type": "code",
   "execution_count": 39,
   "id": "64bc32e2-67c4-4edd-87f1-c8a6bd8ed56a",
   "metadata": {
    "execution": {
     "iopub.execute_input": "2025-04-06T18:19:36.623020Z",
     "iopub.status.busy": "2025-04-06T18:19:36.622076Z",
     "iopub.status.idle": "2025-04-06T18:19:36.633849Z",
     "shell.execute_reply": "2025-04-06T18:19:36.632375Z",
     "shell.execute_reply.started": "2025-04-06T18:19:36.622958Z"
    },
    "tags": []
   },
   "outputs": [
    {
     "data": {
      "text/plain": [
       "['average_stars',\n",
       " 'compliment_cool',\n",
       " 'compliment_cute',\n",
       " 'compliment_funny',\n",
       " 'compliment_hot',\n",
       " 'compliment_list',\n",
       " 'compliment_more',\n",
       " 'compliment_note',\n",
       " 'compliment_photos',\n",
       " 'compliment_plain',\n",
       " 'compliment_profile',\n",
       " 'compliment_writer',\n",
       " 'cool',\n",
       " 'elite',\n",
       " 'fans',\n",
       " 'friends',\n",
       " 'funny',\n",
       " 'name',\n",
       " 'review_count',\n",
       " 'useful',\n",
       " 'user_id',\n",
       " 'yelping_since']"
      ]
     },
     "execution_count": 39,
     "metadata": {},
     "output_type": "execute_result"
    }
   ],
   "source": [
    "users.columns"
   ]
  },
  {
   "cell_type": "code",
   "execution_count": 5,
   "id": "569abb52-3ba3-49c2-b423-1bf0c95e896d",
   "metadata": {
    "execution": {
     "iopub.execute_input": "2025-04-06T14:48:14.283822Z",
     "iopub.status.busy": "2025-04-06T14:48:14.282945Z",
     "iopub.status.idle": "2025-04-06T14:48:14.292511Z",
     "shell.execute_reply": "2025-04-06T14:48:14.291318Z",
     "shell.execute_reply.started": "2025-04-06T14:48:14.283745Z"
    },
    "tags": []
   },
   "outputs": [
    {
     "data": {
      "text/plain": [
       "['business_id',\n",
       " 'cool',\n",
       " 'date',\n",
       " 'funny',\n",
       " 'review_id',\n",
       " 'stars',\n",
       " 'text',\n",
       " 'useful',\n",
       " 'user_id']"
      ]
     },
     "execution_count": 5,
     "metadata": {},
     "output_type": "execute_result"
    }
   ],
   "source": [
    "reviews.columns"
   ]
  },
  {
   "cell_type": "code",
   "execution_count": 73,
   "id": "3ce41d72-10d2-481d-9da8-5149ea6aaf52",
   "metadata": {
    "execution": {
     "iopub.execute_input": "2025-04-11T11:39:02.556106Z",
     "iopub.status.busy": "2025-04-11T11:39:02.555453Z",
     "iopub.status.idle": "2025-04-11T11:39:02.566143Z",
     "shell.execute_reply": "2025-04-11T11:39:02.565307Z",
     "shell.execute_reply.started": "2025-04-11T11:39:02.556052Z"
    },
    "tags": []
   },
   "outputs": [
    {
     "data": {
      "text/plain": [
       "['address',\n",
       " 'attributes',\n",
       " 'business_id',\n",
       " 'categories',\n",
       " 'city',\n",
       " 'hours',\n",
       " 'is_open',\n",
       " 'latitude',\n",
       " 'longitude',\n",
       " 'name',\n",
       " 'postal_code',\n",
       " 'review_count',\n",
       " 'stars',\n",
       " 'state',\n",
       " 'cuisine']"
      ]
     },
     "execution_count": 73,
     "metadata": {},
     "output_type": "execute_result"
    }
   ],
   "source": [
    "business.columns"
   ]
  },
  {
   "cell_type": "markdown",
   "id": "7d0fb3a9-9a6a-42ff-bd93-145dc8d25838",
   "metadata": {
    "tags": []
   },
   "source": [
    "### Model Training"
   ]
  },
  {
   "cell_type": "code",
   "execution_count": 4,
   "id": "ee871117-ffe6-4072-ab28-b1d2c7d82f8a",
   "metadata": {
    "execution": {
     "iopub.execute_input": "2025-05-30T02:09:47.533494Z",
     "iopub.status.busy": "2025-05-30T02:09:47.533224Z",
     "iopub.status.idle": "2025-05-30T02:09:47.538229Z",
     "shell.execute_reply": "2025-05-30T02:09:47.537609Z",
     "shell.execute_reply.started": "2025-05-30T02:09:47.533475Z"
    },
    "tags": []
   },
   "outputs": [],
   "source": [
    "from pyspark.sql.functions import udf\n",
    "\n",
    "\n",
    "def zero_center_stars(star):\n",
    "    return star - 1\n",
    "\n",
    "\n",
    "zero_center_stars_udf = udf(zero_center_stars)"
   ]
  },
  {
   "cell_type": "code",
   "execution_count": 5,
   "id": "5600ccce-9007-4bd2-9e15-d417cfa71271",
   "metadata": {
    "execution": {
     "iopub.execute_input": "2025-05-30T02:09:47.539272Z",
     "iopub.status.busy": "2025-05-30T02:09:47.539027Z",
     "iopub.status.idle": "2025-05-30T02:09:47.869828Z",
     "shell.execute_reply": "2025-05-30T02:09:47.868676Z",
     "shell.execute_reply.started": "2025-05-30T02:09:47.539249Z"
    },
    "tags": []
   },
   "outputs": [],
   "source": [
    "import tempfile\n",
    "\n",
    "from pyspark.ml import Pipeline\n",
    "from pyspark.ml.classification import LinearSVC, LogisticRegression, OneVsRest\n",
    "from pyspark.ml.evaluation import MulticlassClassificationEvaluator, RegressionEvaluator\n",
    "from pyspark.ml.feature import (\n",
    "    HashingTF,\n",
    "    OneHotEncoder,\n",
    "    StringIndexer,\n",
    "    Tokenizer,\n",
    "    VectorAssembler,\n",
    "    IDF,\n",
    "    StopWordsRemover\n",
    ")\n",
    "from pyspark.ml.regression import LinearRegression\n",
    "from pyspark.sql import functions as f\n",
    "from pyspark.sql.functions import asc, col, desc, lower, when, udf"
   ]
  },
  {
   "cell_type": "code",
   "execution_count": 6,
   "id": "b425ac16-49f7-47f3-be6b-9ee9478e3e8e",
   "metadata": {
    "execution": {
     "iopub.execute_input": "2025-05-30T02:09:47.871017Z",
     "iopub.status.busy": "2025-05-30T02:09:47.870725Z",
     "iopub.status.idle": "2025-05-30T02:09:48.254623Z",
     "shell.execute_reply": "2025-05-30T02:09:48.252819Z",
     "shell.execute_reply.started": "2025-05-30T02:09:47.870997Z"
    },
    "tags": []
   },
   "outputs": [],
   "source": [
    "def l_l():\n",
    "    c = lower(col(\"text\"))\n",
    "    return (\n",
    "        c.contains(\"dirty\")\n",
    "        | c.contains(\"kitsch\")\n",
    "        | c.contains(\"cheap\")\n",
    "        | c.contains(\"rude\")\n",
    "        | c.contains(\"simple\")\n",
    "    )\n",
    "\n",
    "def a_l():\n",
    "    c = lower(col(\"text\"))\n",
    "    return c.contains(\"legitimate\") | c.contains(\"authentic\")\n",
    "def has(cuisine: str):\n",
    "    c = col(\"categories\")\n",
    "    return c.contains(cuisine) & c.contains(\"Restaurants\")\n",
    "\n",
    "\n",
    "business = business.withColumn(\n",
    "    \"cuisine\",\n",
    "    when(has(\"Mexican\"), \"Mexican\")\n",
    "    .when(has(\"Chinese\"), \"Chinese\")\n",
    "    .when(has(\"Thai\"), \"Thai\")\n",
    "    .when(has(\"Japanese\"), \"Japanese\")\n",
    "    .when(has(\"Indian\"), \"Indian\")\n",
    "    .when(has(\"French\"), \"French\")\n",
    "    .when(has(\"Italian\"), \"Italian\")\n",
    "    .when(has(\"Korean\"), \"Korean\")\n",
    "    .when(has(\"Mediterranean\"), \"Mediterranean\")\n",
    "    .when(has(\"Soul\"), \"Soul\")  # .when(has(\"German\"), \"German\")\\\n",
    "    # .when(has(\"Greek\"), \"Greek\")\\\n",
    "    # .when(has(\"Spanish\"), \"Spanish\")\\\n",
    "    .otherwise(\"non-restaurant\"),\n",
    ")\n",
    "\n",
    "\n",
    "\n",
    "data = (\n",
    "    business.filter(col(\"cuisine\") != \"non-restaurant\")\n",
    "    .select(\"business_id\", \"state\")\n",
    "    .join(reviews, on=\"business_id\", how=\"inner\")\n",
    "    .withColumn(\"mentions_dirty\", (l_l()).cast(\"integer\"))\n",
    "    .withColumn(\"mentions_authentic\", (a_l()).cast(\"integer\"))\n",
    "    .select(\n",
    "        \"text\", \"stars\", \"state\", \"mentions_dirty\", \"mentions_authentic\", \"review_id\"\n",
    "    )\n",
    "    .cache()\n",
    ")\n",
    "\n",
    "\n",
    "def stratified_train_test_split(df, frac, label, join_on, seed=42):\n",
    "    \"\"\"stratfied split of a dataframe in train and test set.\"\"\"\n",
    "    fractions = (\n",
    "        df.select(label)\n",
    "        .distinct()\n",
    "        .withColumn(\"fraction\", f.lit(frac))\n",
    "        .rdd.collectAsMap()\n",
    "    )\n",
    "    df_frac = df.stat.sampleBy(label, fractions, seed)\n",
    "    df_remaining = df.join(df_frac, on=join_on, how=\"left_anti\")\n",
    "    return df_frac, df_remaining\n",
    "\n"
   ]
  },
  {
   "cell_type": "code",
   "execution_count": 7,
   "id": "c2fdb218-b66b-4146-b28a-d39d74d5cfdb",
   "metadata": {
    "execution": {
     "iopub.execute_input": "2025-05-30T02:09:48.258401Z",
     "iopub.status.busy": "2025-05-30T02:09:48.257980Z",
     "iopub.status.idle": "2025-05-30T02:10:12.253153Z",
     "shell.execute_reply": "2025-05-30T02:10:12.251424Z",
     "shell.execute_reply.started": "2025-05-30T02:09:48.258375Z"
    },
    "tags": []
   },
   "outputs": [],
   "source": [
    "# reviews_sam = data.sample(withReplacement=False, fraction=1/100)\n",
    "# reviews_sam = reviews_sam.withColumn('stars', zero_center_stars(reviews_sam['stars']))\n",
    "# reviews_sam.count()\n",
    "\n",
    "raw_train_valid, raw_test = stratified_train_test_split(\n",
    "    data, 0.8, label=\"stars\", join_on=\"review_id\"\n",
    ")\n",
    "raw_train, raw_valid = stratified_train_test_split(\n",
    "    raw_train_valid, 0.75, label=\"stars\", join_on=\"review_id\"\n",
    ")"
   ]
  },
  {
   "cell_type": "code",
   "execution_count": 8,
   "id": "3033c362-eef5-4694-b6bd-1f5ce1726ef4",
   "metadata": {
    "execution": {
     "iopub.execute_input": "2025-05-30T02:10:12.255995Z",
     "iopub.status.busy": "2025-05-30T02:10:12.255240Z",
     "iopub.status.idle": "2025-05-30T02:10:29.030600Z",
     "shell.execute_reply": "2025-05-30T02:10:29.016395Z",
     "shell.execute_reply.started": "2025-05-30T02:10:12.255939Z"
    },
    "tags": []
   },
   "outputs": [
    {
     "name": "stdout",
     "output_type": "stream",
     "text": [
      "1371571 344547 1028658 342913\n"
     ]
    }
   ],
   "source": [
    "raw_train_valid=raw_train_valid.cache()\n",
    "raw_test=raw_test.cache()\n",
    "raw_train=raw_train.cache()\n",
    "raw_valid=raw_valid.cache()\n",
    "\n",
    "print(\n",
    "    raw_train_valid.count(),\n",
    "    raw_test.count(),\n",
    "    raw_train.count(),\n",
    "    raw_valid.count()\n",
    ")"
   ]
  },
  {
   "cell_type": "code",
   "execution_count": 21,
   "id": "bf9b70d0-9e51-4790-a8c5-289562a280a0",
   "metadata": {
    "tags": []
   },
   "outputs": [],
   "source": [
    "# text\n",
    "tokenizer = Tokenizer(inputCol =  \"text\", outputCol=\"words\")\n",
    "remover = StopWordsRemover(inputCol=tokenizer.getOutputCol(), outputCol=\"clean_text\")\n",
    "\n",
    "hashingtf = HashingTF(\n",
    "    numFeatures=2**14, inputCol=remover.getOutputCol(), outputCol=\"rawTextFeatures\"\n",
    ")\n",
    "idf = IDF(inputCol = hashingtf.getOutputCol(), outputCol=\"textFeatures\")\n",
    "\n",
    "feats = {\"featuresCol\": \"allFeatures\", \"labelCol\": \"stars\"}"
   ]
  },
  {
   "cell_type": "markdown",
   "id": "00e2c0ac-212c-45a8-a9df-e6a2db7054f6",
   "metadata": {
    "jp-MarkdownHeadingCollapsed": true,
    "tags": []
   },
   "source": [
    "### Old approach"
   ]
  },
  {
   "cell_type": "code",
   "execution_count": null,
   "id": "4aeb2984-aae0-478e-b875-11d730e93246",
   "metadata": {},
   "outputs": [],
   "source": [
    "# combine\n",
    "assembler = VectorAssembler(inputCols=[\"textFeatures\"], outputCol=\"allFeatures\")"
   ]
  },
  {
   "cell_type": "code",
   "execution_count": 17,
   "id": "7eb2d0cb-d9c5-46e4-81f9-d74ac5d73112",
   "metadata": {
    "execution": {
     "iopub.execute_input": "2025-05-21T10:25:20.888181Z",
     "iopub.status.busy": "2025-05-21T10:25:20.887333Z",
     "iopub.status.idle": "2025-05-21T10:25:20.947742Z",
     "shell.execute_reply": "2025-05-21T10:25:20.946063Z",
     "shell.execute_reply.started": "2025-05-21T10:25:20.888123Z"
    },
    "tags": []
   },
   "outputs": [],
   "source": [
    "lsvc = LinearSVC(maxIter=10, regParam=0.1, **feats)\n",
    "ovr = OneVsRest(classifier=lsvc, **feats)\n",
    "revaluator = RegressionEvaluator(predictionCol=\"prediction\", labelCol=\"stars\")"
   ]
  },
  {
   "cell_type": "markdown",
   "id": "3ca6d2fb-5612-4bbb-b307-6b34241159c0",
   "metadata": {
    "jp-MarkdownHeadingCollapsed": true,
    "tags": []
   },
   "source": [
    "### Optional params"
   ]
  },
  {
   "cell_type": "code",
   "execution_count": 44,
   "id": "9f373202-f0c2-4309-a9e1-d7be7f601d2a",
   "metadata": {
    "execution": {
     "iopub.execute_input": "2025-05-24T16:57:31.051356Z",
     "iopub.status.busy": "2025-05-24T16:57:31.050524Z",
     "iopub.status.idle": "2025-05-24T16:57:31.686283Z",
     "shell.execute_reply": "2025-05-24T16:57:31.684613Z",
     "shell.execute_reply.started": "2025-05-24T16:57:31.051297Z"
    },
    "tags": []
   },
   "outputs": [],
   "source": [
    "state_indexer = StringIndexer(\n",
    "    inputCol=\"state\", outputCol=\"stateIndex\", handleInvalid=\"keep\"\n",
    ")\n",
    "state_encoder = OneHotEncoder(inputCols=[\"stateIndex\"], outputCols=[\"stateVec\"])"
   ]
  },
  {
   "cell_type": "markdown",
   "id": "363ff121-268b-401f-9a0f-2948f24e1ba7",
   "metadata": {
    "tags": []
   },
   "source": [
    "### New"
   ]
  },
  {
   "cell_type": "code",
   "execution_count": 10,
   "id": "f37bd6ba-d910-401c-9a82-fd8483903ebd",
   "metadata": {
    "execution": {
     "iopub.execute_input": "2025-05-24T13:37:38.425068Z",
     "iopub.status.busy": "2025-05-24T13:37:38.424375Z",
     "iopub.status.idle": "2025-05-24T13:37:38.451233Z",
     "shell.execute_reply": "2025-05-24T13:37:38.449784Z",
     "shell.execute_reply.started": "2025-05-24T13:37:38.425017Z"
    },
    "tags": []
   },
   "outputs": [
    {
     "ename": "NameError",
     "evalue": "name 'test_lr' is not defined",
     "output_type": "error",
     "traceback": [
      "\u001b[0;31m---------------------------------------------------------------------------\u001b[0m",
      "\u001b[0;31mNameError\u001b[0m                                 Traceback (most recent call last)",
      "Cell \u001b[0;32mIn[10], line 1\u001b[0m\n\u001b[0;32m----> 1\u001b[0m \u001b[43mtest_lr\u001b[49m\u001b[38;5;241m.\u001b[39mdtypes\n",
      "\u001b[0;31mNameError\u001b[0m: name 'test_lr' is not defined"
     ]
    }
   ],
   "source": [
    "test_lr.dtypes"
   ]
  },
  {
   "cell_type": "code",
   "execution_count": 23,
   "id": "8d74a61c-0363-41a2-9f61-49f844fd7a51",
   "metadata": {
    "execution": {
     "iopub.execute_input": "2025-05-30T02:27:44.239714Z",
     "iopub.status.busy": "2025-05-30T02:27:44.239042Z",
     "iopub.status.idle": "2025-05-30T02:27:44.492000Z",
     "shell.execute_reply": "2025-05-30T02:27:44.490894Z",
     "shell.execute_reply.started": "2025-05-30T02:27:44.239658Z"
    },
    "tags": []
   },
   "outputs": [
    {
     "ename": "IllegalArgumentException",
     "evalue": "requirement failed: Column textFeatures already exists.",
     "output_type": "error",
     "traceback": [
      "\u001b[0;31m---------------------------------------------------------------------------\u001b[0m",
      "\u001b[0;31mIllegalArgumentException\u001b[0m                  Traceback (most recent call last)",
      "Cell \u001b[0;32mIn[23], line 28\u001b[0m\n\u001b[1;32m     25\u001b[0m pipe_lr \u001b[38;5;241m=\u001b[39m Pipeline(stages\u001b[38;5;241m=\u001b[39m[tokenizer, remover, hashingtf, idf, assembler, lr])\n\u001b[1;32m     27\u001b[0m \u001b[38;5;66;03m# Fit\u001b[39;00m\n\u001b[0;32m---> 28\u001b[0m trained_mlr \u001b[38;5;241m=\u001b[39m \u001b[43mpipe_mlr\u001b[49m\u001b[38;5;241;43m.\u001b[39;49m\u001b[43mfit\u001b[49m\u001b[43m(\u001b[49m\u001b[43mraw_train\u001b[49m\u001b[43m)\u001b[49m\n\u001b[1;32m     29\u001b[0m trained_lr \u001b[38;5;241m=\u001b[39m pipe_lr\u001b[38;5;241m.\u001b[39mfit(raw_train)\n",
      "File \u001b[0;32m/usr/local/spark/python/pyspark/ml/base.py:205\u001b[0m, in \u001b[0;36mEstimator.fit\u001b[0;34m(self, dataset, params)\u001b[0m\n\u001b[1;32m    203\u001b[0m         \u001b[38;5;28;01mreturn\u001b[39;00m \u001b[38;5;28mself\u001b[39m\u001b[38;5;241m.\u001b[39mcopy(params)\u001b[38;5;241m.\u001b[39m_fit(dataset)\n\u001b[1;32m    204\u001b[0m     \u001b[38;5;28;01melse\u001b[39;00m:\n\u001b[0;32m--> 205\u001b[0m         \u001b[38;5;28;01mreturn\u001b[39;00m \u001b[38;5;28;43mself\u001b[39;49m\u001b[38;5;241;43m.\u001b[39;49m\u001b[43m_fit\u001b[49m\u001b[43m(\u001b[49m\u001b[43mdataset\u001b[49m\u001b[43m)\u001b[49m\n\u001b[1;32m    206\u001b[0m \u001b[38;5;28;01melse\u001b[39;00m:\n\u001b[1;32m    207\u001b[0m     \u001b[38;5;28;01mraise\u001b[39;00m \u001b[38;5;167;01mTypeError\u001b[39;00m(\n\u001b[1;32m    208\u001b[0m         \u001b[38;5;124m\"\u001b[39m\u001b[38;5;124mParams must be either a param map or a list/tuple of param maps, \u001b[39m\u001b[38;5;124m\"\u001b[39m\n\u001b[1;32m    209\u001b[0m         \u001b[38;5;124m\"\u001b[39m\u001b[38;5;124mbut got \u001b[39m\u001b[38;5;132;01m%s\u001b[39;00m\u001b[38;5;124m.\u001b[39m\u001b[38;5;124m\"\u001b[39m \u001b[38;5;241m%\u001b[39m \u001b[38;5;28mtype\u001b[39m(params)\n\u001b[1;32m    210\u001b[0m     )\n",
      "File \u001b[0;32m/usr/local/spark/python/pyspark/ml/pipeline.py:134\u001b[0m, in \u001b[0;36mPipeline._fit\u001b[0;34m(self, dataset)\u001b[0m\n\u001b[1;32m    132\u001b[0m     dataset \u001b[38;5;241m=\u001b[39m stage\u001b[38;5;241m.\u001b[39mtransform(dataset)\n\u001b[1;32m    133\u001b[0m \u001b[38;5;28;01melse\u001b[39;00m:  \u001b[38;5;66;03m# must be an Estimator\u001b[39;00m\n\u001b[0;32m--> 134\u001b[0m     model \u001b[38;5;241m=\u001b[39m \u001b[43mstage\u001b[49m\u001b[38;5;241;43m.\u001b[39;49m\u001b[43mfit\u001b[49m\u001b[43m(\u001b[49m\u001b[43mdataset\u001b[49m\u001b[43m)\u001b[49m\n\u001b[1;32m    135\u001b[0m     transformers\u001b[38;5;241m.\u001b[39mappend(model)\n\u001b[1;32m    136\u001b[0m     \u001b[38;5;28;01mif\u001b[39;00m i \u001b[38;5;241m<\u001b[39m indexOfLastEstimator:\n",
      "File \u001b[0;32m/usr/local/spark/python/pyspark/ml/base.py:205\u001b[0m, in \u001b[0;36mEstimator.fit\u001b[0;34m(self, dataset, params)\u001b[0m\n\u001b[1;32m    203\u001b[0m         \u001b[38;5;28;01mreturn\u001b[39;00m \u001b[38;5;28mself\u001b[39m\u001b[38;5;241m.\u001b[39mcopy(params)\u001b[38;5;241m.\u001b[39m_fit(dataset)\n\u001b[1;32m    204\u001b[0m     \u001b[38;5;28;01melse\u001b[39;00m:\n\u001b[0;32m--> 205\u001b[0m         \u001b[38;5;28;01mreturn\u001b[39;00m \u001b[38;5;28;43mself\u001b[39;49m\u001b[38;5;241;43m.\u001b[39;49m\u001b[43m_fit\u001b[49m\u001b[43m(\u001b[49m\u001b[43mdataset\u001b[49m\u001b[43m)\u001b[49m\n\u001b[1;32m    206\u001b[0m \u001b[38;5;28;01melse\u001b[39;00m:\n\u001b[1;32m    207\u001b[0m     \u001b[38;5;28;01mraise\u001b[39;00m \u001b[38;5;167;01mTypeError\u001b[39;00m(\n\u001b[1;32m    208\u001b[0m         \u001b[38;5;124m\"\u001b[39m\u001b[38;5;124mParams must be either a param map or a list/tuple of param maps, \u001b[39m\u001b[38;5;124m\"\u001b[39m\n\u001b[1;32m    209\u001b[0m         \u001b[38;5;124m\"\u001b[39m\u001b[38;5;124mbut got \u001b[39m\u001b[38;5;132;01m%s\u001b[39;00m\u001b[38;5;124m.\u001b[39m\u001b[38;5;124m\"\u001b[39m \u001b[38;5;241m%\u001b[39m \u001b[38;5;28mtype\u001b[39m(params)\n\u001b[1;32m    210\u001b[0m     )\n",
      "File \u001b[0;32m/usr/local/spark/python/pyspark/ml/wrapper.py:383\u001b[0m, in \u001b[0;36mJavaEstimator._fit\u001b[0;34m(self, dataset)\u001b[0m\n\u001b[1;32m    382\u001b[0m \u001b[38;5;28;01mdef\u001b[39;00m \u001b[38;5;21m_fit\u001b[39m(\u001b[38;5;28mself\u001b[39m, dataset: DataFrame) \u001b[38;5;241m-\u001b[39m\u001b[38;5;241m>\u001b[39m JM:\n\u001b[0;32m--> 383\u001b[0m     java_model \u001b[38;5;241m=\u001b[39m \u001b[38;5;28;43mself\u001b[39;49m\u001b[38;5;241;43m.\u001b[39;49m\u001b[43m_fit_java\u001b[49m\u001b[43m(\u001b[49m\u001b[43mdataset\u001b[49m\u001b[43m)\u001b[49m\n\u001b[1;32m    384\u001b[0m     model \u001b[38;5;241m=\u001b[39m \u001b[38;5;28mself\u001b[39m\u001b[38;5;241m.\u001b[39m_create_model(java_model)\n\u001b[1;32m    385\u001b[0m     \u001b[38;5;28;01mreturn\u001b[39;00m \u001b[38;5;28mself\u001b[39m\u001b[38;5;241m.\u001b[39m_copyValues(model)\n",
      "File \u001b[0;32m/usr/local/spark/python/pyspark/ml/wrapper.py:380\u001b[0m, in \u001b[0;36mJavaEstimator._fit_java\u001b[0;34m(self, dataset)\u001b[0m\n\u001b[1;32m    377\u001b[0m \u001b[38;5;28;01massert\u001b[39;00m \u001b[38;5;28mself\u001b[39m\u001b[38;5;241m.\u001b[39m_java_obj \u001b[38;5;129;01mis\u001b[39;00m \u001b[38;5;129;01mnot\u001b[39;00m \u001b[38;5;28;01mNone\u001b[39;00m\n\u001b[1;32m    379\u001b[0m \u001b[38;5;28mself\u001b[39m\u001b[38;5;241m.\u001b[39m_transfer_params_to_java()\n\u001b[0;32m--> 380\u001b[0m \u001b[38;5;28;01mreturn\u001b[39;00m \u001b[38;5;28;43mself\u001b[39;49m\u001b[38;5;241;43m.\u001b[39;49m\u001b[43m_java_obj\u001b[49m\u001b[38;5;241;43m.\u001b[39;49m\u001b[43mfit\u001b[49m\u001b[43m(\u001b[49m\u001b[43mdataset\u001b[49m\u001b[38;5;241;43m.\u001b[39;49m\u001b[43m_jdf\u001b[49m\u001b[43m)\u001b[49m\n",
      "File \u001b[0;32m/usr/local/spark/python/lib/py4j-0.10.9.5-src.zip/py4j/java_gateway.py:1321\u001b[0m, in \u001b[0;36mJavaMember.__call__\u001b[0;34m(self, *args)\u001b[0m\n\u001b[1;32m   1315\u001b[0m command \u001b[38;5;241m=\u001b[39m proto\u001b[38;5;241m.\u001b[39mCALL_COMMAND_NAME \u001b[38;5;241m+\u001b[39m\\\n\u001b[1;32m   1316\u001b[0m     \u001b[38;5;28mself\u001b[39m\u001b[38;5;241m.\u001b[39mcommand_header \u001b[38;5;241m+\u001b[39m\\\n\u001b[1;32m   1317\u001b[0m     args_command \u001b[38;5;241m+\u001b[39m\\\n\u001b[1;32m   1318\u001b[0m     proto\u001b[38;5;241m.\u001b[39mEND_COMMAND_PART\n\u001b[1;32m   1320\u001b[0m answer \u001b[38;5;241m=\u001b[39m \u001b[38;5;28mself\u001b[39m\u001b[38;5;241m.\u001b[39mgateway_client\u001b[38;5;241m.\u001b[39msend_command(command)\n\u001b[0;32m-> 1321\u001b[0m return_value \u001b[38;5;241m=\u001b[39m \u001b[43mget_return_value\u001b[49m\u001b[43m(\u001b[49m\n\u001b[1;32m   1322\u001b[0m \u001b[43m    \u001b[49m\u001b[43manswer\u001b[49m\u001b[43m,\u001b[49m\u001b[43m \u001b[49m\u001b[38;5;28;43mself\u001b[39;49m\u001b[38;5;241;43m.\u001b[39;49m\u001b[43mgateway_client\u001b[49m\u001b[43m,\u001b[49m\u001b[43m \u001b[49m\u001b[38;5;28;43mself\u001b[39;49m\u001b[38;5;241;43m.\u001b[39;49m\u001b[43mtarget_id\u001b[49m\u001b[43m,\u001b[49m\u001b[43m \u001b[49m\u001b[38;5;28;43mself\u001b[39;49m\u001b[38;5;241;43m.\u001b[39;49m\u001b[43mname\u001b[49m\u001b[43m)\u001b[49m\n\u001b[1;32m   1324\u001b[0m \u001b[38;5;28;01mfor\u001b[39;00m temp_arg \u001b[38;5;129;01min\u001b[39;00m temp_args:\n\u001b[1;32m   1325\u001b[0m     temp_arg\u001b[38;5;241m.\u001b[39m_detach()\n",
      "File \u001b[0;32m/usr/local/spark/python/pyspark/sql/utils.py:196\u001b[0m, in \u001b[0;36mcapture_sql_exception.<locals>.deco\u001b[0;34m(*a, **kw)\u001b[0m\n\u001b[1;32m    192\u001b[0m converted \u001b[38;5;241m=\u001b[39m convert_exception(e\u001b[38;5;241m.\u001b[39mjava_exception)\n\u001b[1;32m    193\u001b[0m \u001b[38;5;28;01mif\u001b[39;00m \u001b[38;5;129;01mnot\u001b[39;00m \u001b[38;5;28misinstance\u001b[39m(converted, UnknownException):\n\u001b[1;32m    194\u001b[0m     \u001b[38;5;66;03m# Hide where the exception came from that shows a non-Pythonic\u001b[39;00m\n\u001b[1;32m    195\u001b[0m     \u001b[38;5;66;03m# JVM exception message.\u001b[39;00m\n\u001b[0;32m--> 196\u001b[0m     \u001b[38;5;28;01mraise\u001b[39;00m converted \u001b[38;5;28;01mfrom\u001b[39;00m \u001b[38;5;28mNone\u001b[39m\n\u001b[1;32m    197\u001b[0m \u001b[38;5;28;01melse\u001b[39;00m:\n\u001b[1;32m    198\u001b[0m     \u001b[38;5;28;01mraise\u001b[39;00m\n",
      "\u001b[0;31mIllegalArgumentException\u001b[0m: requirement failed: Column textFeatures already exists."
     ]
    }
   ],
   "source": [
    "import math\n",
    "\n",
    "from pyspark.sql.types import DoubleType\n",
    "\n",
    "# Models\\# -- **Multinomial Logistic Regression** --\n",
    "\n",
    "assembler = VectorAssembler(inputCols=[\"textFeatures\"], outputCol=\"allFeatures\")\n",
    "\n",
    "mlr = LogisticRegression(\n",
    "    family=\"multinomial\",\n",
    "    featuresCol=\"allFeatures\",\n",
    "    labelCol=\"stars\",\n",
    ")\n",
    "# -- **Linear Regression (with sigmoid head)** --\n",
    "lr = LinearRegression(\n",
    "    featuresCol=\"allFeatures\",\n",
    "    labelCol=\"stars\",\n",
    ")\n",
    "def squash(z):\n",
    "    size = 4\n",
    "    s = float(1 / (1 + math.exp(-z)) * size) + 1\n",
    "    return s\n",
    "squash_udf = udf(squash, DoubleType())\n",
    "pipe_mlr = Pipeline(stages=[tokenizer, remover, hashingtf, idf, assembler, mlr])\n",
    "pipe_lr = Pipeline(stages=[tokenizer, remover, hashingtf, idf, assembler, lr])\n",
    "\n",
    "# Fit\n",
    "trained_mlr = pipe_mlr.fit(raw_train)\n",
    "trained_lr = pipe_lr.fit(raw_train)"
   ]
  },
  {
   "cell_type": "code",
   "execution_count": null,
   "id": "8ad818de-56fc-4c89-a2ec-d8163fdd5c43",
   "metadata": {
    "execution": {
     "iopub.status.busy": "2025-05-29T20:09:20.566655Z",
     "iopub.status.idle": "2025-05-29T20:09:20.566920Z",
     "shell.execute_reply": "2025-05-29T20:09:20.566794Z",
     "shell.execute_reply.started": "2025-05-29T20:09:20.566780Z"
    },
    "tags": []
   },
   "outputs": [],
   "source": [
    "# Predict\n",
    "mlr_valid_preds = trained_mlr.transform(raw_valid)\n",
    "\n",
    "# Post-process lr prediction\n",
    "lr_valid_preds = trained_lr.transform(raw_valid)\n",
    "# lr_valid_preds = lr_valid_preds.withColumn(\"prediction\", squash_udf(col(\"prediction\")))"
   ]
  },
  {
   "cell_type": "code",
   "execution_count": null,
   "id": "235169aa-25c6-44a5-bafa-261517ee089b",
   "metadata": {
    "execution": {
     "iopub.status.busy": "2025-05-29T20:09:20.567778Z",
     "iopub.status.idle": "2025-05-29T20:09:20.568044Z",
     "shell.execute_reply": "2025-05-29T20:09:20.567926Z",
     "shell.execute_reply.started": "2025-05-29T20:09:20.567912Z"
    },
    "tags": []
   },
   "outputs": [],
   "source": [
    "# Evaluators\n",
    "eval_mae = RegressionEvaluator(\n",
    "    predictionCol=\"prediction\", labelCol=\"stars\", metricName=\"mae\"\n",
    ")\n",
    "eval_rmse = RegressionEvaluator(\n",
    "    predictionCol=\"prediction\", labelCol=\"stars\", metricName=\"rmse\"\n",
    ")\n",
    "eval_acc = MulticlassClassificationEvaluator(\n",
    "    predictionCol=\"prediction\", labelCol=\"stars\", metricName=\"accuracy\"\n",
    ")"
   ]
  },
  {
   "cell_type": "code",
   "execution_count": null,
   "id": "f8488aaa-3191-4f1e-afea-2192acda05fe",
   "metadata": {
    "execution": {
     "iopub.status.busy": "2025-05-29T20:09:20.568620Z",
     "iopub.status.idle": "2025-05-29T20:09:20.568871Z",
     "shell.execute_reply": "2025-05-29T20:09:20.568756Z",
     "shell.execute_reply.started": "2025-05-29T20:09:20.568743Z"
    },
    "tags": []
   },
   "outputs": [],
   "source": [
    "# Evaluate\n",
    "metrics = {\n",
    "    \"MLR\": {\n",
    "        \"MAE\": eval_mae.evaluate(mlr_valid_preds),\n",
    "        \"RMSE\": eval_rmse.evaluate(mlr_valid_preds),\n",
    "        \"Acc\": eval_acc.evaluate(mlr_valid_preds),\n",
    "    },\n",
    "    \"LR\": {\"MAE\": eval_mae.evaluate(lr_valid_preds), \n",
    "           \"RMSE\": eval_rmse.evaluate(lr_valid_preds)},\n",
    "}\n",
    "\n",
    "print(metrics)"
   ]
  },
  {
   "cell_type": "code",
   "execution_count": null,
   "id": "0653a38f-8c6c-49f5-92ea-924360a8b6ee",
   "metadata": {
    "execution": {
     "iopub.status.busy": "2025-05-29T20:09:20.569559Z",
     "iopub.status.idle": "2025-05-29T20:09:20.569805Z",
     "shell.execute_reply": "2025-05-29T20:09:20.569691Z",
     "shell.execute_reply.started": "2025-05-29T20:09:20.569677Z"
    },
    "tags": []
   },
   "outputs": [],
   "source": [
    "lr_valid_preds = trained_lr.transform(raw_valid)\n",
    "lr_valid_preds = lr_valid_preds.withColumn(\"prediction\", squash_udf(col(\"prediction\")))"
   ]
  },
  {
   "cell_type": "code",
   "execution_count": null,
   "id": "6a0e675b-0f06-4a5a-8e95-7cd8f83b7759",
   "metadata": {
    "execution": {
     "iopub.status.busy": "2025-05-29T20:09:20.570457Z",
     "iopub.status.idle": "2025-05-29T20:09:20.570708Z",
     "shell.execute_reply": "2025-05-29T20:09:20.570593Z",
     "shell.execute_reply.started": "2025-05-29T20:09:20.570579Z"
    },
    "tags": []
   },
   "outputs": [],
   "source": [
    "eval_mae.evaluate(lr_valid_preds) "
   ]
  },
  {
   "cell_type": "code",
   "execution_count": null,
   "id": "c089fd14-6928-410b-9dc9-ba072522b662",
   "metadata": {
    "execution": {
     "iopub.status.busy": "2025-05-29T20:09:20.571262Z",
     "iopub.status.idle": "2025-05-29T20:09:20.571510Z",
     "shell.execute_reply": "2025-05-29T20:09:20.571395Z",
     "shell.execute_reply.started": "2025-05-29T20:09:20.571382Z"
    },
    "tags": []
   },
   "outputs": [],
   "source": [
    "eval_rmse.evaluate(lr_valid_preds)"
   ]
  },
  {
   "cell_type": "markdown",
   "id": "ea19e4fb-aa8d-42e6-91f1-4e9f83b2080a",
   "metadata": {
    "tags": []
   },
   "source": [
    "#### Baseline (val)"
   ]
  },
  {
   "cell_type": "code",
   "execution_count": 33,
   "id": "95ae46a9-24c5-4b9e-a1b9-b91ec7c05e91",
   "metadata": {
    "execution": {
     "iopub.execute_input": "2025-05-29T19:12:59.179531Z",
     "iopub.status.busy": "2025-05-29T19:12:59.178813Z",
     "iopub.status.idle": "2025-05-29T19:12:59.778249Z",
     "shell.execute_reply": "2025-05-29T19:12:59.776477Z",
     "shell.execute_reply.started": "2025-05-29T19:12:59.179474Z"
    },
    "tags": []
   },
   "outputs": [],
   "source": [
    "mean_star = float(raw_valid.agg({\"stars\": \"avg\"}).first()[0])"
   ]
  },
  {
   "cell_type": "code",
   "execution_count": 34,
   "id": "6709e062-53a6-4a8d-a816-b8a731a417a8",
   "metadata": {
    "execution": {
     "iopub.execute_input": "2025-05-29T19:13:00.243307Z",
     "iopub.status.busy": "2025-05-29T19:13:00.242420Z",
     "iopub.status.idle": "2025-05-29T19:13:00.681133Z",
     "shell.execute_reply": "2025-05-29T19:13:00.679417Z",
     "shell.execute_reply.started": "2025-05-29T19:13:00.243246Z"
    },
    "tags": []
   },
   "outputs": [
    {
     "data": {
      "text/plain": [
       "1.1408135381241062"
      ]
     },
     "execution_count": 34,
     "metadata": {},
     "output_type": "execute_result"
    }
   ],
   "source": [
    "eval_mae.evaluate(raw_valid.withColumn(\"prediction\", f.lit(mean_star)))"
   ]
  },
  {
   "cell_type": "code",
   "execution_count": 35,
   "id": "71425dba-4f5b-4b16-8ead-dd4f1ce29bac",
   "metadata": {
    "execution": {
     "iopub.execute_input": "2025-05-29T19:13:01.031140Z",
     "iopub.status.busy": "2025-05-29T19:13:01.030272Z",
     "iopub.status.idle": "2025-05-29T19:13:01.453317Z",
     "shell.execute_reply": "2025-05-29T19:13:01.451623Z",
     "shell.execute_reply.started": "2025-05-29T19:13:01.031079Z"
    },
    "tags": []
   },
   "outputs": [
    {
     "data": {
      "text/plain": [
       "1.379874173289605"
      ]
     },
     "execution_count": 35,
     "metadata": {},
     "output_type": "execute_result"
    }
   ],
   "source": [
    "eval_rmse.evaluate(raw_valid.withColumn(\"prediction\", f.lit(mean_star)))"
   ]
  },
  {
   "cell_type": "markdown",
   "id": "673eafa1-73ae-4418-8f4e-6f39e910c82d",
   "metadata": {
    "tags": []
   },
   "source": [
    "### Below I compute four model for the four different setups."
   ]
  },
  {
   "cell_type": "code",
   "execution_count": 40,
   "id": "754f2485-def5-4b8c-ab53-57ce2d436ecf",
   "metadata": {
    "execution": {
     "iopub.execute_input": "2025-05-24T16:52:47.964785Z",
     "iopub.status.busy": "2025-05-24T16:52:47.964129Z",
     "iopub.status.idle": "2025-05-24T16:52:47.974287Z",
     "shell.execute_reply": "2025-05-24T16:52:47.972680Z",
     "shell.execute_reply.started": "2025-05-24T16:52:47.964728Z"
    },
    "tags": []
   },
   "outputs": [],
   "source": [
    "def train_and_eval(pipeline, train, test):\n",
    "    trained_model_pipeline = pipeline.fit(train)\n",
    "    preds = trained_model_pipeline.transform(test)\n",
    "\n",
    "    metrics = {\n",
    "        \"MLR\": {\n",
    "            \"MAE\": eval_mae.evaluate(preds),\n",
    "            \"RMSE\": eval_rmse.evaluate(preds),\n",
    "            \"accuracy\": eval_acc.evaluate(preds),\n",
    "        }\n",
    "    }\n",
    "    print(metrics)\n",
    "    return pipeline, metrics"
   ]
  },
  {
   "cell_type": "code",
   "execution_count": 41,
   "id": "ac034815-a9ef-4210-8719-cb30f7254910",
   "metadata": {
    "execution": {
     "iopub.execute_input": "2025-05-24T16:52:49.159018Z",
     "iopub.status.busy": "2025-05-24T16:52:49.158359Z",
     "iopub.status.idle": "2025-05-24T16:54:23.846299Z",
     "shell.execute_reply": "2025-05-24T16:54:23.844465Z",
     "shell.execute_reply.started": "2025-05-24T16:52:49.158960Z"
    },
    "tags": []
   },
   "outputs": [
    {
     "name": "stdout",
     "output_type": "stream",
     "text": [
      "{'MLR': {'MAE': 0.41020608725828417, 'RMSE': 0.7899612334498372, 'accuracy': 0.6659969146693184}}\n"
     ]
    }
   ],
   "source": [
    "# combine\n",
    "assembler = VectorAssembler(inputCols=[\"textFeatures\"], outputCol=\"allFeatures\")\n",
    "\n",
    "pipeline = Pipeline(stages=[tokenizer, hashingtf, assembler, mlr])\n",
    "\n",
    "pipeline,metrics=train_and_eval(pipeline, raw_train, raw_valid)"
   ]
  },
  {
   "cell_type": "code",
   "execution_count": 42,
   "id": "a9eb432b-205f-403e-a188-adcd5bc35842",
   "metadata": {
    "execution": {
     "iopub.execute_input": "2025-05-24T16:54:23.873955Z",
     "iopub.status.busy": "2025-05-24T16:54:23.873756Z",
     "iopub.status.idle": "2025-05-24T16:56:08.249601Z",
     "shell.execute_reply": "2025-05-24T16:56:08.247629Z",
     "shell.execute_reply.started": "2025-05-24T16:54:23.873936Z"
    },
    "tags": []
   },
   "outputs": [
    {
     "name": "stdout",
     "output_type": "stream",
     "text": [
      "{'MLR': {'MAE': 0.41021483583299556, 'RMSE': 0.7898929365841179, 'accuracy': 0.6659590041789025}}\n"
     ]
    }
   ],
   "source": [
    "assembler = VectorAssembler(\n",
    "    inputCols=[\"textFeatures\", \"mentions_dirty\", \"mentions_authentic\"],\n",
    "    outputCol=\"allFeatures\",\n",
    ")\n",
    "\n",
    "pipeline = Pipeline(stages=[tokenizer, hashingtf, assembler, mlr])\n",
    "\n",
    "pipeline,metrics=train_and_eval(pipeline, raw_train, raw_valid)"
   ]
  },
  {
   "cell_type": "code",
   "execution_count": 45,
   "id": "8aa3e3e2-210c-4d84-a093-7da2ee810825",
   "metadata": {
    "execution": {
     "iopub.execute_input": "2025-05-24T16:57:35.978282Z",
     "iopub.status.busy": "2025-05-24T16:57:35.977474Z",
     "iopub.status.idle": "2025-05-24T16:59:26.962991Z",
     "shell.execute_reply": "2025-05-24T16:59:26.961007Z",
     "shell.execute_reply.started": "2025-05-24T16:57:35.978226Z"
    },
    "tags": []
   },
   "outputs": [
    {
     "name": "stdout",
     "output_type": "stream",
     "text": [
      "{'MLR': {'MAE': 0.4101535958100159, 'RMSE': 0.7898873987415991, 'accuracy': 0.6660173280103117}}\n"
     ]
    }
   ],
   "source": [
    "assembler = VectorAssembler(\n",
    "    inputCols=[\"textFeatures\", \"stateVec\"], outputCol=\"allFeatures\"\n",
    ")\n",
    "\n",
    "pipeline = Pipeline(\n",
    "    stages=[tokenizer, hashingtf, state_indexer, state_encoder, assembler, mlr]\n",
    ")\n",
    "\n",
    "pipeline,metrics=train_and_eval(pipeline, raw_train, raw_valid)"
   ]
  },
  {
   "cell_type": "code",
   "execution_count": 46,
   "id": "341c45a9-03b1-4eac-8049-2f52e6372703",
   "metadata": {
    "execution": {
     "iopub.execute_input": "2025-05-24T16:59:26.993224Z",
     "iopub.status.busy": "2025-05-24T16:59:26.992972Z",
     "iopub.status.idle": "2025-05-24T17:01:12.554052Z",
     "shell.execute_reply": "2025-05-24T17:01:12.552156Z",
     "shell.execute_reply.started": "2025-05-24T16:59:26.993199Z"
    },
    "tags": []
   },
   "outputs": [
    {
     "name": "stdout",
     "output_type": "stream",
     "text": [
      "{'MLR': {'MAE': 0.4101215177027409, 'RMSE': 0.7897674026184484, 'accuracy': 0.6660056632440299}}\n"
     ]
    }
   ],
   "source": [
    "assembler = VectorAssembler(\n",
    "    inputCols=[\"textFeatures\", \"stateVec\", \"mentions_dirty\", \"mentions_authentic\"],\n",
    "    outputCol=\"allFeatures\",\n",
    ")\n",
    "\n",
    "\n",
    "pipeline = Pipeline(\n",
    "    stages=[tokenizer, hashingtf, state_indexer, state_encoder, assembler, mlr]\n",
    ")\n",
    "\n",
    "pipeline,metrics=train_and_eval(pipeline, raw_train, raw_valid)"
   ]
  },
  {
   "cell_type": "code",
   "execution_count": 47,
   "id": "f1eb3f6d-8aeb-4a95-97de-342e48b9d85e",
   "metadata": {
    "execution": {
     "iopub.execute_input": "2025-05-24T17:01:12.558577Z",
     "iopub.status.busy": "2025-05-24T17:01:12.557904Z",
     "iopub.status.idle": "2025-05-24T17:01:19.752999Z",
     "shell.execute_reply": "2025-05-24T17:01:19.751700Z",
     "shell.execute_reply.started": "2025-05-24T17:01:12.558490Z"
    },
    "tags": []
   },
   "outputs": [
    {
     "name": "stdout",
     "output_type": "stream",
     "text": [
      "{'MLR': {'MAE': 1.1616182530262777, 'RMSE': 1.7993792950109329, 'accuracy': 0.4568243257036041}}\n"
     ]
    }
   ],
   "source": [
    "assembler = VectorAssembler(\n",
    "    inputCols=[\"stateVec\", \"mentions_dirty\", \"mentions_authentic\"],\n",
    "    outputCol=\"allFeatures\",\n",
    ")\n",
    "\n",
    "\n",
    "pipeline = Pipeline(stages=[state_indexer, state_encoder, assembler, mlr])\n",
    "\n",
    "pipeline,metrics=train_and_eval(pipeline, raw_train, raw_valid)"
   ]
  },
  {
   "cell_type": "markdown",
   "id": "066771e2-101f-4dae-84a3-be8c57efa8c8",
   "metadata": {},
   "source": [
    "### Cross Val"
   ]
  },
  {
   "cell_type": "code",
   "execution_count": 51,
   "id": "7b53fa2d-c7d6-4325-857a-a4895d47e3db",
   "metadata": {
    "execution": {
     "iopub.execute_input": "2025-05-29T19:48:26.983958Z",
     "iopub.status.busy": "2025-05-29T19:48:26.983090Z",
     "iopub.status.idle": "2025-05-29T19:48:26.994485Z",
     "shell.execute_reply": "2025-05-29T19:48:26.993228Z",
     "shell.execute_reply.started": "2025-05-29T19:48:26.983855Z"
    },
    "tags": []
   },
   "outputs": [],
   "source": [
    "import math\n",
    "\n",
    "from pyspark.ml import Pipeline\n",
    "from pyspark.ml.classification import LogisticRegression\n",
    "from pyspark.ml.evaluation import MulticlassClassificationEvaluator, RegressionEvaluator\n",
    "from pyspark.ml.feature import HashingTF, Tokenizer, VectorAssembler\n",
    "from pyspark.ml.tuning import CrossValidator, ParamGridBuilder\n",
    "from pyspark.sql.functions import avg, col, explode, expr, lit, udf\n",
    "from pyspark.sql.types import DoubleType"
   ]
  },
  {
   "cell_type": "code",
   "execution_count": 85,
   "id": "6949c419-6f1c-474c-b9cd-3b5fb22f0d60",
   "metadata": {
    "execution": {
     "iopub.execute_input": "2025-05-30T00:05:10.091694Z",
     "iopub.status.busy": "2025-05-30T00:05:10.090741Z",
     "iopub.status.idle": "2025-05-30T00:05:10.565580Z",
     "shell.execute_reply": "2025-05-30T00:05:10.562547Z",
     "shell.execute_reply.started": "2025-05-30T00:05:10.091632Z"
    },
    "tags": []
   },
   "outputs": [
    {
     "ename": "IllegalArgumentException",
     "evalue": "clean_text does not exist. Available: text, stars, state, mentions_dirty, mentions_authentic, review_id, CrossValidator_4e62581a6a7b_rand, words",
     "output_type": "error",
     "traceback": [
      "\u001b[0;31m---------------------------------------------------------------------------\u001b[0m",
      "\u001b[0;31mIllegalArgumentException\u001b[0m                  Traceback (most recent call last)",
      "Cell \u001b[0;32mIn[85], line 19\u001b[0m\n\u001b[1;32m      8\u001b[0m cv \u001b[38;5;241m=\u001b[39m CrossValidator(\n\u001b[1;32m      9\u001b[0m     estimator\u001b[38;5;241m=\u001b[39mpipeline,\n\u001b[1;32m     10\u001b[0m     estimatorParamMaps\u001b[38;5;241m=\u001b[39mparamGrid,\n\u001b[0;32m   (...)\u001b[0m\n\u001b[1;32m     15\u001b[0m     parallelism\u001b[38;5;241m=\u001b[39m\u001b[38;5;241m1\u001b[39m,\n\u001b[1;32m     16\u001b[0m )\n\u001b[1;32m     18\u001b[0m \u001b[38;5;66;03m# Fit CV model and select best\u001b[39;00m\n\u001b[0;32m---> 19\u001b[0m cv_model \u001b[38;5;241m=\u001b[39m \u001b[43mcv\u001b[49m\u001b[38;5;241;43m.\u001b[39;49m\u001b[43mfit\u001b[49m\u001b[43m(\u001b[49m\u001b[43mraw_train_valid\u001b[49m\u001b[43m)\u001b[49m\n\u001b[1;32m     20\u001b[0m best_model \u001b[38;5;241m=\u001b[39m cv_model\u001b[38;5;241m.\u001b[39mbestModel\n",
      "File \u001b[0;32m/usr/local/spark/python/pyspark/ml/base.py:205\u001b[0m, in \u001b[0;36mEstimator.fit\u001b[0;34m(self, dataset, params)\u001b[0m\n\u001b[1;32m    203\u001b[0m         \u001b[38;5;28;01mreturn\u001b[39;00m \u001b[38;5;28mself\u001b[39m\u001b[38;5;241m.\u001b[39mcopy(params)\u001b[38;5;241m.\u001b[39m_fit(dataset)\n\u001b[1;32m    204\u001b[0m     \u001b[38;5;28;01melse\u001b[39;00m:\n\u001b[0;32m--> 205\u001b[0m         \u001b[38;5;28;01mreturn\u001b[39;00m \u001b[38;5;28;43mself\u001b[39;49m\u001b[38;5;241;43m.\u001b[39;49m\u001b[43m_fit\u001b[49m\u001b[43m(\u001b[49m\u001b[43mdataset\u001b[49m\u001b[43m)\u001b[49m\n\u001b[1;32m    206\u001b[0m \u001b[38;5;28;01melse\u001b[39;00m:\n\u001b[1;32m    207\u001b[0m     \u001b[38;5;28;01mraise\u001b[39;00m \u001b[38;5;167;01mTypeError\u001b[39;00m(\n\u001b[1;32m    208\u001b[0m         \u001b[38;5;124m\"\u001b[39m\u001b[38;5;124mParams must be either a param map or a list/tuple of param maps, \u001b[39m\u001b[38;5;124m\"\u001b[39m\n\u001b[1;32m    209\u001b[0m         \u001b[38;5;124m\"\u001b[39m\u001b[38;5;124mbut got \u001b[39m\u001b[38;5;132;01m%s\u001b[39;00m\u001b[38;5;124m.\u001b[39m\u001b[38;5;124m\"\u001b[39m \u001b[38;5;241m%\u001b[39m \u001b[38;5;28mtype\u001b[39m(params)\n\u001b[1;32m    210\u001b[0m     )\n",
      "File \u001b[0;32m/usr/local/spark/python/pyspark/ml/tuning.py:847\u001b[0m, in \u001b[0;36mCrossValidator._fit\u001b[0;34m(self, dataset)\u001b[0m\n\u001b[1;32m    841\u001b[0m train \u001b[38;5;241m=\u001b[39m datasets[i][\u001b[38;5;241m0\u001b[39m]\u001b[38;5;241m.\u001b[39mcache()\n\u001b[1;32m    843\u001b[0m tasks \u001b[38;5;241m=\u001b[39m \u001b[38;5;28mmap\u001b[39m(\n\u001b[1;32m    844\u001b[0m     inheritable_thread_target,\n\u001b[1;32m    845\u001b[0m     _parallelFitTasks(est, train, eva, validation, epm, collectSubModelsParam),\n\u001b[1;32m    846\u001b[0m )\n\u001b[0;32m--> 847\u001b[0m \u001b[38;5;28;01mfor\u001b[39;00m j, metric, subModel \u001b[38;5;129;01min\u001b[39;00m pool\u001b[38;5;241m.\u001b[39mimap_unordered(\u001b[38;5;28;01mlambda\u001b[39;00m f: f(), tasks):\n\u001b[1;32m    848\u001b[0m     metrics_all[i][j] \u001b[38;5;241m=\u001b[39m metric\n\u001b[1;32m    849\u001b[0m     \u001b[38;5;28;01mif\u001b[39;00m collectSubModelsParam:\n",
      "File \u001b[0;32m/opt/conda/lib/python3.10/multiprocessing/pool.py:873\u001b[0m, in \u001b[0;36mIMapIterator.next\u001b[0;34m(self, timeout)\u001b[0m\n\u001b[1;32m    871\u001b[0m \u001b[38;5;28;01mif\u001b[39;00m success:\n\u001b[1;32m    872\u001b[0m     \u001b[38;5;28;01mreturn\u001b[39;00m value\n\u001b[0;32m--> 873\u001b[0m \u001b[38;5;28;01mraise\u001b[39;00m value\n",
      "File \u001b[0;32m/opt/conda/lib/python3.10/multiprocessing/pool.py:125\u001b[0m, in \u001b[0;36mworker\u001b[0;34m(inqueue, outqueue, initializer, initargs, maxtasks, wrap_exception)\u001b[0m\n\u001b[1;32m    123\u001b[0m job, i, func, args, kwds \u001b[38;5;241m=\u001b[39m task\n\u001b[1;32m    124\u001b[0m \u001b[38;5;28;01mtry\u001b[39;00m:\n\u001b[0;32m--> 125\u001b[0m     result \u001b[38;5;241m=\u001b[39m (\u001b[38;5;28;01mTrue\u001b[39;00m, \u001b[43mfunc\u001b[49m\u001b[43m(\u001b[49m\u001b[38;5;241;43m*\u001b[39;49m\u001b[43margs\u001b[49m\u001b[43m,\u001b[49m\u001b[43m \u001b[49m\u001b[38;5;241;43m*\u001b[39;49m\u001b[38;5;241;43m*\u001b[39;49m\u001b[43mkwds\u001b[49m\u001b[43m)\u001b[49m)\n\u001b[1;32m    126\u001b[0m \u001b[38;5;28;01mexcept\u001b[39;00m \u001b[38;5;167;01mException\u001b[39;00m \u001b[38;5;28;01mas\u001b[39;00m e:\n\u001b[1;32m    127\u001b[0m     \u001b[38;5;28;01mif\u001b[39;00m wrap_exception \u001b[38;5;129;01mand\u001b[39;00m func \u001b[38;5;129;01mis\u001b[39;00m \u001b[38;5;129;01mnot\u001b[39;00m _helper_reraises_exception:\n",
      "File \u001b[0;32m/usr/local/spark/python/pyspark/ml/tuning.py:847\u001b[0m, in \u001b[0;36mCrossValidator._fit.<locals>.<lambda>\u001b[0;34m(f)\u001b[0m\n\u001b[1;32m    841\u001b[0m train \u001b[38;5;241m=\u001b[39m datasets[i][\u001b[38;5;241m0\u001b[39m]\u001b[38;5;241m.\u001b[39mcache()\n\u001b[1;32m    843\u001b[0m tasks \u001b[38;5;241m=\u001b[39m \u001b[38;5;28mmap\u001b[39m(\n\u001b[1;32m    844\u001b[0m     inheritable_thread_target,\n\u001b[1;32m    845\u001b[0m     _parallelFitTasks(est, train, eva, validation, epm, collectSubModelsParam),\n\u001b[1;32m    846\u001b[0m )\n\u001b[0;32m--> 847\u001b[0m \u001b[38;5;28;01mfor\u001b[39;00m j, metric, subModel \u001b[38;5;129;01min\u001b[39;00m pool\u001b[38;5;241m.\u001b[39mimap_unordered(\u001b[38;5;28;01mlambda\u001b[39;00m f: \u001b[43mf\u001b[49m\u001b[43m(\u001b[49m\u001b[43m)\u001b[49m, tasks):\n\u001b[1;32m    848\u001b[0m     metrics_all[i][j] \u001b[38;5;241m=\u001b[39m metric\n\u001b[1;32m    849\u001b[0m     \u001b[38;5;28;01mif\u001b[39;00m collectSubModelsParam:\n",
      "File \u001b[0;32m/usr/local/spark/python/pyspark/util.py:337\u001b[0m, in \u001b[0;36minheritable_thread_target.<locals>.wrapped\u001b[0;34m(*args, **kwargs)\u001b[0m\n\u001b[1;32m    335\u001b[0m \u001b[38;5;28;01massert\u001b[39;00m SparkContext\u001b[38;5;241m.\u001b[39m_active_spark_context \u001b[38;5;129;01mis\u001b[39;00m \u001b[38;5;129;01mnot\u001b[39;00m \u001b[38;5;28;01mNone\u001b[39;00m\n\u001b[1;32m    336\u001b[0m SparkContext\u001b[38;5;241m.\u001b[39m_active_spark_context\u001b[38;5;241m.\u001b[39m_jsc\u001b[38;5;241m.\u001b[39msc()\u001b[38;5;241m.\u001b[39msetLocalProperties(properties)\n\u001b[0;32m--> 337\u001b[0m \u001b[38;5;28;01mreturn\u001b[39;00m \u001b[43mf\u001b[49m\u001b[43m(\u001b[49m\u001b[38;5;241;43m*\u001b[39;49m\u001b[43margs\u001b[49m\u001b[43m,\u001b[49m\u001b[43m \u001b[49m\u001b[38;5;241;43m*\u001b[39;49m\u001b[38;5;241;43m*\u001b[39;49m\u001b[43mkwargs\u001b[49m\u001b[43m)\u001b[49m\n",
      "File \u001b[0;32m/usr/local/spark/python/pyspark/ml/tuning.py:113\u001b[0m, in \u001b[0;36m_parallelFitTasks.<locals>.singleTask\u001b[0;34m()\u001b[0m\n\u001b[1;32m    112\u001b[0m \u001b[38;5;28;01mdef\u001b[39;00m \u001b[38;5;21msingleTask\u001b[39m() \u001b[38;5;241m-\u001b[39m\u001b[38;5;241m>\u001b[39m Tuple[\u001b[38;5;28mint\u001b[39m, \u001b[38;5;28mfloat\u001b[39m, Transformer]:\n\u001b[0;32m--> 113\u001b[0m     index, model \u001b[38;5;241m=\u001b[39m \u001b[38;5;28;43mnext\u001b[39;49m\u001b[43m(\u001b[49m\u001b[43mmodelIter\u001b[49m\u001b[43m)\u001b[49m\n\u001b[1;32m    114\u001b[0m     \u001b[38;5;66;03m# TODO: duplicate evaluator to take extra params from input\u001b[39;00m\n\u001b[1;32m    115\u001b[0m     \u001b[38;5;66;03m#  Note: Supporting tuning params in evaluator need update method\u001b[39;00m\n\u001b[1;32m    116\u001b[0m     \u001b[38;5;66;03m#  `MetaAlgorithmReadWrite.getAllNestedStages`, make it return\u001b[39;00m\n\u001b[1;32m    117\u001b[0m     \u001b[38;5;66;03m#  all nested stages and evaluators\u001b[39;00m\n\u001b[1;32m    118\u001b[0m     metric \u001b[38;5;241m=\u001b[39m eva\u001b[38;5;241m.\u001b[39mevaluate(model\u001b[38;5;241m.\u001b[39mtransform(validation, epm[index]))\n",
      "File \u001b[0;32m/usr/local/spark/python/pyspark/ml/base.py:98\u001b[0m, in \u001b[0;36m_FitMultipleIterator.__next__\u001b[0;34m(self)\u001b[0m\n\u001b[1;32m     96\u001b[0m         \u001b[38;5;28;01mraise\u001b[39;00m \u001b[38;5;167;01mStopIteration\u001b[39;00m(\u001b[38;5;124m\"\u001b[39m\u001b[38;5;124mNo models remaining.\u001b[39m\u001b[38;5;124m\"\u001b[39m)\n\u001b[1;32m     97\u001b[0m     \u001b[38;5;28mself\u001b[39m\u001b[38;5;241m.\u001b[39mcounter \u001b[38;5;241m+\u001b[39m\u001b[38;5;241m=\u001b[39m \u001b[38;5;241m1\u001b[39m\n\u001b[0;32m---> 98\u001b[0m \u001b[38;5;28;01mreturn\u001b[39;00m index, \u001b[38;5;28;43mself\u001b[39;49m\u001b[38;5;241;43m.\u001b[39;49m\u001b[43mfitSingleModel\u001b[49m\u001b[43m(\u001b[49m\u001b[43mindex\u001b[49m\u001b[43m)\u001b[49m\n",
      "File \u001b[0;32m/usr/local/spark/python/pyspark/ml/base.py:156\u001b[0m, in \u001b[0;36mEstimator.fitMultiple.<locals>.fitSingleModel\u001b[0;34m(index)\u001b[0m\n\u001b[1;32m    155\u001b[0m \u001b[38;5;28;01mdef\u001b[39;00m \u001b[38;5;21mfitSingleModel\u001b[39m(index: \u001b[38;5;28mint\u001b[39m) \u001b[38;5;241m-\u001b[39m\u001b[38;5;241m>\u001b[39m M:\n\u001b[0;32m--> 156\u001b[0m     \u001b[38;5;28;01mreturn\u001b[39;00m \u001b[43mestimator\u001b[49m\u001b[38;5;241;43m.\u001b[39;49m\u001b[43mfit\u001b[49m\u001b[43m(\u001b[49m\u001b[43mdataset\u001b[49m\u001b[43m,\u001b[49m\u001b[43m \u001b[49m\u001b[43mparamMaps\u001b[49m\u001b[43m[\u001b[49m\u001b[43mindex\u001b[49m\u001b[43m]\u001b[49m\u001b[43m)\u001b[49m\n",
      "File \u001b[0;32m/usr/local/spark/python/pyspark/ml/base.py:203\u001b[0m, in \u001b[0;36mEstimator.fit\u001b[0;34m(self, dataset, params)\u001b[0m\n\u001b[1;32m    201\u001b[0m \u001b[38;5;28;01melif\u001b[39;00m \u001b[38;5;28misinstance\u001b[39m(params, \u001b[38;5;28mdict\u001b[39m):\n\u001b[1;32m    202\u001b[0m     \u001b[38;5;28;01mif\u001b[39;00m params:\n\u001b[0;32m--> 203\u001b[0m         \u001b[38;5;28;01mreturn\u001b[39;00m \u001b[38;5;28;43mself\u001b[39;49m\u001b[38;5;241;43m.\u001b[39;49m\u001b[43mcopy\u001b[49m\u001b[43m(\u001b[49m\u001b[43mparams\u001b[49m\u001b[43m)\u001b[49m\u001b[38;5;241;43m.\u001b[39;49m\u001b[43m_fit\u001b[49m\u001b[43m(\u001b[49m\u001b[43mdataset\u001b[49m\u001b[43m)\u001b[49m\n\u001b[1;32m    204\u001b[0m     \u001b[38;5;28;01melse\u001b[39;00m:\n\u001b[1;32m    205\u001b[0m         \u001b[38;5;28;01mreturn\u001b[39;00m \u001b[38;5;28mself\u001b[39m\u001b[38;5;241m.\u001b[39m_fit(dataset)\n",
      "File \u001b[0;32m/usr/local/spark/python/pyspark/ml/pipeline.py:132\u001b[0m, in \u001b[0;36mPipeline._fit\u001b[0;34m(self, dataset)\u001b[0m\n\u001b[1;32m    130\u001b[0m \u001b[38;5;28;01mif\u001b[39;00m \u001b[38;5;28misinstance\u001b[39m(stage, Transformer):\n\u001b[1;32m    131\u001b[0m     transformers\u001b[38;5;241m.\u001b[39mappend(stage)\n\u001b[0;32m--> 132\u001b[0m     dataset \u001b[38;5;241m=\u001b[39m \u001b[43mstage\u001b[49m\u001b[38;5;241;43m.\u001b[39;49m\u001b[43mtransform\u001b[49m\u001b[43m(\u001b[49m\u001b[43mdataset\u001b[49m\u001b[43m)\u001b[49m\n\u001b[1;32m    133\u001b[0m \u001b[38;5;28;01melse\u001b[39;00m:  \u001b[38;5;66;03m# must be an Estimator\u001b[39;00m\n\u001b[1;32m    134\u001b[0m     model \u001b[38;5;241m=\u001b[39m stage\u001b[38;5;241m.\u001b[39mfit(dataset)\n",
      "File \u001b[0;32m/usr/local/spark/python/pyspark/ml/base.py:262\u001b[0m, in \u001b[0;36mTransformer.transform\u001b[0;34m(self, dataset, params)\u001b[0m\n\u001b[1;32m    260\u001b[0m         \u001b[38;5;28;01mreturn\u001b[39;00m \u001b[38;5;28mself\u001b[39m\u001b[38;5;241m.\u001b[39mcopy(params)\u001b[38;5;241m.\u001b[39m_transform(dataset)\n\u001b[1;32m    261\u001b[0m     \u001b[38;5;28;01melse\u001b[39;00m:\n\u001b[0;32m--> 262\u001b[0m         \u001b[38;5;28;01mreturn\u001b[39;00m \u001b[38;5;28;43mself\u001b[39;49m\u001b[38;5;241;43m.\u001b[39;49m\u001b[43m_transform\u001b[49m\u001b[43m(\u001b[49m\u001b[43mdataset\u001b[49m\u001b[43m)\u001b[49m\n\u001b[1;32m    263\u001b[0m \u001b[38;5;28;01melse\u001b[39;00m:\n\u001b[1;32m    264\u001b[0m     \u001b[38;5;28;01mraise\u001b[39;00m \u001b[38;5;167;01mTypeError\u001b[39;00m(\u001b[38;5;124m\"\u001b[39m\u001b[38;5;124mParams must be a param map but got \u001b[39m\u001b[38;5;132;01m%s\u001b[39;00m\u001b[38;5;124m.\u001b[39m\u001b[38;5;124m\"\u001b[39m \u001b[38;5;241m%\u001b[39m \u001b[38;5;28mtype\u001b[39m(params))\n",
      "File \u001b[0;32m/usr/local/spark/python/pyspark/ml/wrapper.py:400\u001b[0m, in \u001b[0;36mJavaTransformer._transform\u001b[0;34m(self, dataset)\u001b[0m\n\u001b[1;32m    397\u001b[0m \u001b[38;5;28;01massert\u001b[39;00m \u001b[38;5;28mself\u001b[39m\u001b[38;5;241m.\u001b[39m_java_obj \u001b[38;5;129;01mis\u001b[39;00m \u001b[38;5;129;01mnot\u001b[39;00m \u001b[38;5;28;01mNone\u001b[39;00m\n\u001b[1;32m    399\u001b[0m \u001b[38;5;28mself\u001b[39m\u001b[38;5;241m.\u001b[39m_transfer_params_to_java()\n\u001b[0;32m--> 400\u001b[0m \u001b[38;5;28;01mreturn\u001b[39;00m DataFrame(\u001b[38;5;28;43mself\u001b[39;49m\u001b[38;5;241;43m.\u001b[39;49m\u001b[43m_java_obj\u001b[49m\u001b[38;5;241;43m.\u001b[39;49m\u001b[43mtransform\u001b[49m\u001b[43m(\u001b[49m\u001b[43mdataset\u001b[49m\u001b[38;5;241;43m.\u001b[39;49m\u001b[43m_jdf\u001b[49m\u001b[43m)\u001b[49m, dataset\u001b[38;5;241m.\u001b[39msparkSession)\n",
      "File \u001b[0;32m/usr/local/spark/python/lib/py4j-0.10.9.5-src.zip/py4j/java_gateway.py:1321\u001b[0m, in \u001b[0;36mJavaMember.__call__\u001b[0;34m(self, *args)\u001b[0m\n\u001b[1;32m   1315\u001b[0m command \u001b[38;5;241m=\u001b[39m proto\u001b[38;5;241m.\u001b[39mCALL_COMMAND_NAME \u001b[38;5;241m+\u001b[39m\\\n\u001b[1;32m   1316\u001b[0m     \u001b[38;5;28mself\u001b[39m\u001b[38;5;241m.\u001b[39mcommand_header \u001b[38;5;241m+\u001b[39m\\\n\u001b[1;32m   1317\u001b[0m     args_command \u001b[38;5;241m+\u001b[39m\\\n\u001b[1;32m   1318\u001b[0m     proto\u001b[38;5;241m.\u001b[39mEND_COMMAND_PART\n\u001b[1;32m   1320\u001b[0m answer \u001b[38;5;241m=\u001b[39m \u001b[38;5;28mself\u001b[39m\u001b[38;5;241m.\u001b[39mgateway_client\u001b[38;5;241m.\u001b[39msend_command(command)\n\u001b[0;32m-> 1321\u001b[0m return_value \u001b[38;5;241m=\u001b[39m \u001b[43mget_return_value\u001b[49m\u001b[43m(\u001b[49m\n\u001b[1;32m   1322\u001b[0m \u001b[43m    \u001b[49m\u001b[43manswer\u001b[49m\u001b[43m,\u001b[49m\u001b[43m \u001b[49m\u001b[38;5;28;43mself\u001b[39;49m\u001b[38;5;241;43m.\u001b[39;49m\u001b[43mgateway_client\u001b[49m\u001b[43m,\u001b[49m\u001b[43m \u001b[49m\u001b[38;5;28;43mself\u001b[39;49m\u001b[38;5;241;43m.\u001b[39;49m\u001b[43mtarget_id\u001b[49m\u001b[43m,\u001b[49m\u001b[43m \u001b[49m\u001b[38;5;28;43mself\u001b[39;49m\u001b[38;5;241;43m.\u001b[39;49m\u001b[43mname\u001b[49m\u001b[43m)\u001b[49m\n\u001b[1;32m   1324\u001b[0m \u001b[38;5;28;01mfor\u001b[39;00m temp_arg \u001b[38;5;129;01min\u001b[39;00m temp_args:\n\u001b[1;32m   1325\u001b[0m     temp_arg\u001b[38;5;241m.\u001b[39m_detach()\n",
      "File \u001b[0;32m/usr/local/spark/python/pyspark/sql/utils.py:196\u001b[0m, in \u001b[0;36mcapture_sql_exception.<locals>.deco\u001b[0;34m(*a, **kw)\u001b[0m\n\u001b[1;32m    192\u001b[0m converted \u001b[38;5;241m=\u001b[39m convert_exception(e\u001b[38;5;241m.\u001b[39mjava_exception)\n\u001b[1;32m    193\u001b[0m \u001b[38;5;28;01mif\u001b[39;00m \u001b[38;5;129;01mnot\u001b[39;00m \u001b[38;5;28misinstance\u001b[39m(converted, UnknownException):\n\u001b[1;32m    194\u001b[0m     \u001b[38;5;66;03m# Hide where the exception came from that shows a non-Pythonic\u001b[39;00m\n\u001b[1;32m    195\u001b[0m     \u001b[38;5;66;03m# JVM exception message.\u001b[39;00m\n\u001b[0;32m--> 196\u001b[0m     \u001b[38;5;28;01mraise\u001b[39;00m converted \u001b[38;5;28;01mfrom\u001b[39;00m \u001b[38;5;28mNone\u001b[39m\n\u001b[1;32m    197\u001b[0m \u001b[38;5;28;01melse\u001b[39;00m:\n\u001b[1;32m    198\u001b[0m     \u001b[38;5;28;01mraise\u001b[39;00m\n",
      "\u001b[0;31mIllegalArgumentException\u001b[0m: clean_text does not exist. Available: text, stars, state, mentions_dirty, mentions_authentic, review_id, CrossValidator_4e62581a6a7b_rand, words"
     ]
    }
   ],
   "source": [
    "assembler = VectorAssembler(inputCols=[\"textFeatures\"], outputCol=\"allFeatures\")\n",
    "pipeline = Pipeline(stages=[tokenizer, hashingtf, assembler, mlr])\n",
    "paramGrid = (\n",
    "    ParamGridBuilder().addGrid(mlr.regParam, [1e-5, 1e-4, 1e-3])\n",
    "    .addGrid(hashingtf.numFeatures, [2**12, 2**13, 2**14])\n",
    "    .build()\n",
    ")\n",
    "cv = CrossValidator(\n",
    "    estimator=pipeline,\n",
    "    estimatorParamMaps=paramGrid,\n",
    "    evaluator=RegressionEvaluator(\n",
    "        labelCol=\"stars\", predictionCol=\"prediction\", metricName=\"rmse\"\n",
    "    ),\n",
    "    numFolds=3,\n",
    "    parallelism=1,\n",
    ")\n",
    "\n",
    "# Fit CV model and select best\n",
    "cv_model = cv.fit(raw_train_valid)\n",
    "best_model = cv_model.bestModel"
   ]
  },
  {
   "cell_type": "code",
   "execution_count": 57,
   "id": "772a3b4c-df9c-4ac2-a351-caa0b09a2fa4",
   "metadata": {
    "execution": {
     "iopub.execute_input": "2025-05-24T17:07:28.539839Z",
     "iopub.status.busy": "2025-05-24T17:07:28.539085Z",
     "iopub.status.idle": "2025-05-24T17:07:28.550173Z",
     "shell.execute_reply": "2025-05-24T17:07:28.549132Z",
     "shell.execute_reply.started": "2025-05-24T17:07:28.539777Z"
    },
    "tags": []
   },
   "outputs": [
    {
     "data": {
      "text/plain": [
       "[1.7981911068677103,\n",
       " 1.7981911068677103,\n",
       " 1.7981911068677103,\n",
       " 1.7981911068677103,\n",
       " 1.7981911068677103,\n",
       " 1.7981911068677103,\n",
       " 1.7981911068677103,\n",
       " 1.7981911068677103,\n",
       " 1.7981911068677103]"
      ]
     },
     "execution_count": 57,
     "metadata": {},
     "output_type": "execute_result"
    }
   ],
   "source": [
    "cv_model.avgMetrics"
   ]
  },
  {
   "cell_type": "code",
   "execution_count": 56,
   "id": "dbe74d69-f232-44e0-bb0d-1e0eeb734e08",
   "metadata": {
    "execution": {
     "iopub.execute_input": "2025-05-24T17:07:14.247841Z",
     "iopub.status.busy": "2025-05-24T17:07:14.246910Z",
     "iopub.status.idle": "2025-05-24T17:07:14.258403Z",
     "shell.execute_reply": "2025-05-24T17:07:14.257505Z",
     "shell.execute_reply.started": "2025-05-24T17:07:14.247744Z"
    },
    "tags": []
   },
   "outputs": [
    {
     "data": {
      "text/plain": [
       "[{Param(parent='LogisticRegression_c0720e4be8fd', name='regParam', doc='regularization parameter (>= 0).'): 1e-05,\n",
       "  Param(parent='HashingTF_09da511e2252', name='numFeatures', doc='Number of features. Should be greater than 0.'): 16384},\n",
       " {Param(parent='LogisticRegression_c0720e4be8fd', name='regParam', doc='regularization parameter (>= 0).'): 1e-05,\n",
       "  Param(parent='HashingTF_09da511e2252', name='numFeatures', doc='Number of features. Should be greater than 0.'): 32768},\n",
       " {Param(parent='LogisticRegression_c0720e4be8fd', name='regParam', doc='regularization parameter (>= 0).'): 1e-05,\n",
       "  Param(parent='HashingTF_09da511e2252', name='numFeatures', doc='Number of features. Should be greater than 0.'): 65536},\n",
       " {Param(parent='LogisticRegression_c0720e4be8fd', name='regParam', doc='regularization parameter (>= 0).'): 0.0001,\n",
       "  Param(parent='HashingTF_09da511e2252', name='numFeatures', doc='Number of features. Should be greater than 0.'): 16384},\n",
       " {Param(parent='LogisticRegression_c0720e4be8fd', name='regParam', doc='regularization parameter (>= 0).'): 0.0001,\n",
       "  Param(parent='HashingTF_09da511e2252', name='numFeatures', doc='Number of features. Should be greater than 0.'): 32768},\n",
       " {Param(parent='LogisticRegression_c0720e4be8fd', name='regParam', doc='regularization parameter (>= 0).'): 0.0001,\n",
       "  Param(parent='HashingTF_09da511e2252', name='numFeatures', doc='Number of features. Should be greater than 0.'): 65536},\n",
       " {Param(parent='LogisticRegression_c0720e4be8fd', name='regParam', doc='regularization parameter (>= 0).'): 0.001,\n",
       "  Param(parent='HashingTF_09da511e2252', name='numFeatures', doc='Number of features. Should be greater than 0.'): 16384},\n",
       " {Param(parent='LogisticRegression_c0720e4be8fd', name='regParam', doc='regularization parameter (>= 0).'): 0.001,\n",
       "  Param(parent='HashingTF_09da511e2252', name='numFeatures', doc='Number of features. Should be greater than 0.'): 32768},\n",
       " {Param(parent='LogisticRegression_c0720e4be8fd', name='regParam', doc='regularization parameter (>= 0).'): 0.001,\n",
       "  Param(parent='HashingTF_09da511e2252', name='numFeatures', doc='Number of features. Should be greater than 0.'): 65536}]"
      ]
     },
     "execution_count": 56,
     "metadata": {},
     "output_type": "execute_result"
    }
   ],
   "source": [
    "cv_model.getEstimatorParamMaps()"
   ]
  },
  {
   "cell_type": "code",
   "execution_count": 55,
   "id": "ea8813c4-79cd-408c-9fd7-2ab26c1f054c",
   "metadata": {
    "execution": {
     "iopub.execute_input": "2025-05-24T17:06:35.952256Z",
     "iopub.status.busy": "2025-05-24T17:06:35.951386Z",
     "iopub.status.idle": "2025-05-24T17:06:35.961974Z",
     "shell.execute_reply": "2025-05-24T17:06:35.960963Z",
     "shell.execute_reply.started": "2025-05-24T17:06:35.952193Z"
    },
    "tags": []
   },
   "outputs": [
    {
     "data": {
      "text/plain": [
       "[StringIndexerModel: uid=StringIndexer_1b7666625488, handleInvalid=keep,\n",
       " OneHotEncoderModel: uid=OneHotEncoder_f8ce09f92290, dropLast=true, handleInvalid=error, numInputCols=1, numOutputCols=1,\n",
       " VectorAssembler_a14fd2c14970,\n",
       " LogisticRegressionModel: uid=LogisticRegression_c0720e4be8fd, numClasses=6, numFeatures=16]"
      ]
     },
     "execution_count": 55,
     "metadata": {},
     "output_type": "execute_result"
    }
   ],
   "source": [
    "best_model.stages"
   ]
  },
  {
   "cell_type": "code",
   "execution_count": 145,
   "id": "0c9b22e7-1456-4376-a320-210debf6b525",
   "metadata": {
    "execution": {
     "iopub.execute_input": "2025-05-24T16:04:38.618190Z",
     "iopub.status.busy": "2025-05-24T16:04:38.617569Z",
     "iopub.status.idle": "2025-05-24T16:04:38.625249Z",
     "shell.execute_reply": "2025-05-24T16:04:38.624136Z",
     "shell.execute_reply.started": "2025-05-24T16:04:38.618153Z"
    },
    "tags": []
   },
   "outputs": [
    {
     "name": "stdout",
     "output_type": "stream",
     "text": [
      "Best MLR regParam: 1e-05, numFeatures: 16384\n"
     ]
    }
   ],
   "source": [
    "best_model.stages[-1].getRegParam()\n",
    "best_numFeatures = best_model.stages[1].getNumFeatures()\n",
    "print(f\"Best MLR regParam: {best_regParam}, numFeatures: {best_numFeatures}\")"
   ]
  },
  {
   "cell_type": "code",
   "execution_count": 146,
   "id": "d22a2d22-dd8a-438d-837b-d3707326f7db",
   "metadata": {
    "execution": {
     "iopub.execute_input": "2025-05-24T16:04:59.578428Z",
     "iopub.status.busy": "2025-05-24T16:04:59.577902Z",
     "iopub.status.idle": "2025-05-24T16:04:59.584760Z",
     "shell.execute_reply": "2025-05-24T16:04:59.583990Z",
     "shell.execute_reply.started": "2025-05-24T16:04:59.578395Z"
    },
    "tags": []
   },
   "outputs": [
    {
     "data": {
      "text/plain": [
       "{Param(parent='LogisticRegression_bb8ab41a3990', name='regParam', doc='regularization parameter (>= 0).'): 0.001}"
      ]
     },
     "execution_count": 146,
     "metadata": {},
     "output_type": "execute_result"
    }
   ],
   "source": [
    "import numpy as np\n",
    "\n",
    "cv_model.getEstimatorParamMaps()[np.argmin(cv_model.avgMetrics)]"
   ]
  },
  {
   "cell_type": "code",
   "execution_count": 52,
   "id": "ad93e12f-070e-4f56-a76f-95863fb44d4d",
   "metadata": {
    "execution": {
     "iopub.execute_input": "2025-05-24T17:05:34.166681Z",
     "iopub.status.busy": "2025-05-24T17:05:34.165820Z",
     "iopub.status.idle": "2025-05-24T17:05:34.178157Z",
     "shell.execute_reply": "2025-05-24T17:05:34.176462Z",
     "shell.execute_reply.started": "2025-05-24T17:05:34.166619Z"
    },
    "tags": []
   },
   "outputs": [
    {
     "data": {
      "text/plain": [
       "[{Param(parent='LogisticRegression_c0720e4be8fd', name='regParam', doc='regularization parameter (>= 0).'): 1e-05,\n",
       "  Param(parent='HashingTF_09da511e2252', name='numFeatures', doc='Number of features. Should be greater than 0.'): 16384},\n",
       " {Param(parent='LogisticRegression_c0720e4be8fd', name='regParam', doc='regularization parameter (>= 0).'): 1e-05,\n",
       "  Param(parent='HashingTF_09da511e2252', name='numFeatures', doc='Number of features. Should be greater than 0.'): 32768},\n",
       " {Param(parent='LogisticRegression_c0720e4be8fd', name='regParam', doc='regularization parameter (>= 0).'): 1e-05,\n",
       "  Param(parent='HashingTF_09da511e2252', name='numFeatures', doc='Number of features. Should be greater than 0.'): 65536},\n",
       " {Param(parent='LogisticRegression_c0720e4be8fd', name='regParam', doc='regularization parameter (>= 0).'): 0.0001,\n",
       "  Param(parent='HashingTF_09da511e2252', name='numFeatures', doc='Number of features. Should be greater than 0.'): 16384},\n",
       " {Param(parent='LogisticRegression_c0720e4be8fd', name='regParam', doc='regularization parameter (>= 0).'): 0.0001,\n",
       "  Param(parent='HashingTF_09da511e2252', name='numFeatures', doc='Number of features. Should be greater than 0.'): 32768},\n",
       " {Param(parent='LogisticRegression_c0720e4be8fd', name='regParam', doc='regularization parameter (>= 0).'): 0.0001,\n",
       "  Param(parent='HashingTF_09da511e2252', name='numFeatures', doc='Number of features. Should be greater than 0.'): 65536},\n",
       " {Param(parent='LogisticRegression_c0720e4be8fd', name='regParam', doc='regularization parameter (>= 0).'): 0.001,\n",
       "  Param(parent='HashingTF_09da511e2252', name='numFeatures', doc='Number of features. Should be greater than 0.'): 16384},\n",
       " {Param(parent='LogisticRegression_c0720e4be8fd', name='regParam', doc='regularization parameter (>= 0).'): 0.001,\n",
       "  Param(parent='HashingTF_09da511e2252', name='numFeatures', doc='Number of features. Should be greater than 0.'): 32768},\n",
       " {Param(parent='LogisticRegression_c0720e4be8fd', name='regParam', doc='regularization parameter (>= 0).'): 0.001,\n",
       "  Param(parent='HashingTF_09da511e2252', name='numFeatures', doc='Number of features. Should be greater than 0.'): 65536}]"
      ]
     },
     "execution_count": 52,
     "metadata": {},
     "output_type": "execute_result"
    }
   ],
   "source": [
    "cv_model.getEstimatorParamMaps()"
   ]
  },
  {
   "cell_type": "code",
   "execution_count": 54,
   "id": "e9bdbb39-42c1-477e-aa77-ca1522535ef9",
   "metadata": {
    "execution": {
     "iopub.execute_input": "2025-05-24T17:06:18.078606Z",
     "iopub.status.busy": "2025-05-24T17:06:18.077766Z",
     "iopub.status.idle": "2025-05-24T17:06:18.087952Z",
     "shell.execute_reply": "2025-05-24T17:06:18.087113Z",
     "shell.execute_reply.started": "2025-05-24T17:06:18.078519Z"
    },
    "tags": []
   },
   "outputs": [
    {
     "data": {
      "text/plain": [
       "[1.7981911068677103,\n",
       " 1.7981911068677103,\n",
       " 1.7981911068677103,\n",
       " 1.7981911068677103,\n",
       " 1.7981911068677103,\n",
       " 1.7981911068677103,\n",
       " 1.7981911068677103,\n",
       " 1.7981911068677103,\n",
       " 1.7981911068677103]"
      ]
     },
     "execution_count": 54,
     "metadata": {},
     "output_type": "execute_result"
    }
   ],
   "source": [
    "cv_model.avgMetrics"
   ]
  },
  {
   "cell_type": "code",
   "execution_count": 134,
   "id": "ff6c10a0-cd94-44ce-aaa6-f0c605c11e14",
   "metadata": {
    "execution": {
     "iopub.execute_input": "2025-05-24T15:59:11.816784Z",
     "iopub.status.busy": "2025-05-24T15:59:11.815967Z",
     "iopub.status.idle": "2025-05-24T15:59:15.214195Z",
     "shell.execute_reply": "2025-05-24T15:59:15.212646Z",
     "shell.execute_reply.started": "2025-05-24T15:59:11.816725Z"
    },
    "tags": []
   },
   "outputs": [
    {
     "name": "stdout",
     "output_type": "stream",
     "text": [
      "{'MLR': {'MAE': 0.6873790166473094, 'RMSE': 1.155287127463761, 'accuracy': 0.5307781649245064}}\n"
     ]
    }
   ],
   "source": [
    "# Evaluate best model on test set\n",
    "test_preds = best_model.transform(raw_test)\n",
    "# Create numeric prediction via expectation over probability vector\n",
    "metrics = {\n",
    "    \"MLR\": {\n",
    "        \"MAE\": eval_mae.evaluate(test_preds),\n",
    "        \"RMSE\": eval_rmse.evaluate(test_preds),\n",
    "        \"accuracy\": eval_acc.evaluate(test_preds),\n",
    "    }\n",
    "}\n",
    "\n",
    "print(metrics)"
   ]
  }
 ],
 "metadata": {
  "kernelspec": {
   "display_name": "Python 3 ",
   "language": "python",
   "name": "python3"
  },
  "language_info": {
   "codemirror_mode": {
    "name": "ipython",
    "version": 3
   },
   "file_extension": ".py",
   "mimetype": "text/x-python",
   "name": "python",
   "nbconvert_exporter": "python",
   "pygments_lexer": "ipython3",
   "version": "3.10.6"
  }
 },
 "nbformat": 4,
 "nbformat_minor": 5
}
