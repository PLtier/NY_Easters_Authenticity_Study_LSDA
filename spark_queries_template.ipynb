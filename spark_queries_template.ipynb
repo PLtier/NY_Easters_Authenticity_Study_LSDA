{
 "cells": [
  {
   "cell_type": "markdown",
   "id": "181bbe29-26f4-4c4a-a9e9-0053263bff52",
   "metadata": {},
   "source": [
    "# Assignment: Scalable Processing\n",
    "## Yelp Reviews and Authenticity\n",
    "\n",
    "Large Scale Data Analysis | by Maciej Jalocha | macja@itu.dk | 10.03.2025"
   ]
  },
  {
   "cell_type": "markdown",
   "id": "92690678-bb97-43d7-ab27-4a6f8db87079",
   "metadata": {
    "jp-MarkdownHeadingCollapsed": true,
    "tags": []
   },
   "source": [
    "## Connecting to the Spark Cluster job using the two JobParameters.json\n",
    "\n",
    "To connect this jupyter notebook with your Spark cluster, we need to tell jupyter how it can access the spark cluster. Below code accomplishes that. Do not worry about how it works, just run the cell once to connect. "
   ]
  },
  {
   "cell_type": "code",
   "execution_count": 1,
   "id": "d483a774-a0ca-4873-a2ee-51d2fcd30ead",
   "metadata": {
    "tags": []
   },
   "outputs": [
    {
     "name": "stdout",
     "output_type": "stream",
     "text": [
      "Cell has not been executed before. Please restart the UCloud jobs if any error message pops up. Running setup cell now.\n",
      "Success!\n"
     ]
    }
   ],
   "source": [
    "#####################################################################\n",
    "# DO NOT CHANGE ANYTHING HERE.\n",
    "# IF YOU HAVE PROBLEMS, CHECK THE ASSIGNMENT GUIDE CAREFULLY \n",
    "#####################################################################\n",
    "from IPython.display import Javascript, display\n",
    "import jupyterlab\n",
    "import os, json, pyspark\n",
    "from pyspark.sql import SparkSession, functions as F\n",
    "from pyspark.conf import SparkConf\n",
    "from py4j.protocol import Py4JJavaError\n",
    "\n",
    "\n",
    "def show_popup(message):\n",
    "    display(Javascript(f'alert(\"{message}\")'))\n",
    "\n",
    "def check_correct_file_location():\n",
    "    items = os.listdir('/work')\n",
    "    items_expected = ['yelp', 'Home','JobParameters.json', 'emails']\n",
    "    if sorted(items) != sorted(items_expected):\n",
    "        items_to_be_moved = [item for item in items if item not in items_expected and item[0] != '.'] # Ignore hidden files starting with .\n",
    "        show_popup(f\"Warning: Found these files {items_to_be_moved} that should (most likely) be moved inside your Home folder. Make sure your Git repository and notebooks are all saved inside your Home folder and not at the 'root'/top of filesystem. Please move your files to prevent them from disappearing.\")\n",
    "    if 'emails' not in items_expected:\n",
    "        show_popup(f'Error: the folder \"emails\" does not seem to be accessible - did you remeber to add it to the Spark Cluster job and JupyterLab job?')\n",
    "    \n",
    "check_correct_file_location()\n",
    "\n",
    "SUPPORTED_SPARK_VERSION = \"3.3.1\"\n",
    "SUPPORTED_JUPYTERLAB_VERSION = \"3.5.1\"\n",
    "if jupyterlab.__version__ != SUPPORTED_JUPYTERLAB_VERSION:\n",
    "    show_popup(f\"Wrong JupyterLab version :( When starting the UCloud job you selected {jupyterlab.__version__} but it should have been {SUPPORTED_JUPYTERLAB_VERSION}\")\n",
    "    show_popup(\"Please shutdown this JupyterLab job and follow the instructions carefully in the UCloud setup guide PDF on LearnIT\") \n",
    "elif '_EXECUTED_' in globals(): # Only execute this cell once.\n",
    "    # check if variable '_EXECUTED_' exists in the global variable namespace\n",
    "    print(\"Already been executed once, not running again!\")\n",
    "else:\n",
    "    print(\"Cell has not been executed before. Please restart the UCloud jobs if any error message pops up. Running setup cell now.\")\n",
    "    # Two files are automatically read: JobParameters.json for the Spark Cluster job using a temporary spark instance\n",
    "    # and JobParameters.json for the Jupyter Lab job to extract the hostname of the cluster. \n",
    "\n",
    "    MASTER_HOST_NAME = None\n",
    "\n",
    "    # Open the parameters Jupyter Lab app was launched with\n",
    "    with open('/work/JobParameters.json', 'r') as file:\n",
    "        JUPYTER_LAB_JOB_PARAMS = json.load(file)\n",
    "        # from pprint import pprint; pprint(JUPYTER_LAB_JOB_PARAMS) \n",
    "        for resource in JUPYTER_LAB_JOB_PARAMS['request']['resources']:\n",
    "            if 'hostname' in resource.keys():\n",
    "                MASTER_HOST_NAME = resource['hostname']\n",
    "    \n",
    "    if MASTER_HOST_NAME != \"spark-cluster\":\n",
    "        msg = f\"The JupyterLab job was started using spark hostname {MASTER_HOST_NAME}. This is not recommended, please start it using spark-cluster instead\"\n",
    "        show_popup(msg)\n",
    "        print(msg)\n",
    "    else:\n",
    "        MASTER_HOST = f\"spark://{MASTER_HOST_NAME}:7077\"\n",
    "\n",
    "        conf = SparkConf().setAll([\n",
    "                (\"spark.app.name\", 'reading_job_params_app'), \n",
    "                (\"spark.master\", MASTER_HOST),\n",
    "            ])\n",
    "\n",
    "        spark = SparkSession.builder.config(conf=conf)\\\n",
    "                                    .getOrCreate()\n",
    "        \n",
    "        if spark.version != SUPPORTED_SPARK_VERSION:\n",
    "            show_popup(f\"Wrong Spark Cluster version :( When starting the UCloud job you selected {spark.version} but it should have been {SUPPORTED_SPARK_VERSION}\")\n",
    "            show_popup(\"Please shutdown this JupyterLab job, the Spark Cluster and follow the instructions carefully in the UCloud setup guide PDF on LearnIT\") \n",
    "\n",
    "        CLUSTER_PARAMETERS_JSON_DF = spark.read.option(\"multiline\",\"true\").json('/work/JobParameters.json')\n",
    "        \n",
    "        # Extract cluster info from the specific JobParameters.json\n",
    "        NODES = CLUSTER_PARAMETERS_JSON_DF.select(\"request.replicas\").first()[0]\n",
    "        CPUS_PER_NODE = CLUSTER_PARAMETERS_JSON_DF.select(\"machineType.cpu\").first()[0] - 1\n",
    "        MEM_PER_NODE = CLUSTER_PARAMETERS_JSON_DF.select(\"machineType.memoryInGigs\").first()[0]\n",
    "\n",
    "        CLUSTER_CORES_MAX = CPUS_PER_NODE * NODES\n",
    "        CLUSTER_MEMORY_MAX = MEM_PER_NODE * NODES \n",
    "        \n",
    "        if CPUS_PER_NODE > 1:\n",
    "            EXECUTOR_CORES = CPUS_PER_NODE - 1  # set cores per executor on worker node\n",
    "        else:\n",
    "            EXECUTOR_CORES = CPUS_PER_NODE \n",
    "\n",
    "        try:\n",
    "            EXECUTOR_MEMORY = int(\n",
    "                MEM_PER_NODE / (CPUS_PER_NODE / EXECUTOR_CORES) * 0.5\n",
    "            )  # set executor memory in GB on each worker node\n",
    "        except ZeroDivisionError:\n",
    "            show_popup(f\"Please make sure you selected 3 nodes for the Spark Cluster, each with 24 GB of ram. You selected {MEM_PER_NODE} GB ram and {NODES} node(s)\")\n",
    "            \n",
    "        # Make sure there is a dir for spark logs\n",
    "        if not os.path.exists('spark_logs'):\n",
    "            os.mkdir('spark_logs')\n",
    "        conf = SparkConf().setAll(\n",
    "            [\n",
    "                (\"spark.app.name\", 'spark_assignment'), # Change to your liking \n",
    "                (\"spark.sql.caseSensitive\", False), # Optional: Make queries strings sensitive to captialization\n",
    "                (\"spark.master\", MASTER_HOST),\n",
    "                (\"spark.cores.max\", CLUSTER_CORES_MAX),\n",
    "                (\"spark.executor.cores\", EXECUTOR_CORES),\n",
    "                (\"spark.executor.memory\", str(EXECUTOR_MEMORY) + \"g\"),\n",
    "                (\"spark.eventLog.enabled\", True),\n",
    "                (\"spark.eventLog.dir\", \"spark_logs\"),\n",
    "                (\"spark.history.fs.logDirectory\", \"spark_logs\"),\n",
    "                (\"spark.deploy.mode\", \"cluster\")\n",
    "            ]\n",
    "        )\n",
    "\n",
    "        ## check executor memory, taking into accout 10% of memory overhead (minimum 384 MiB)\n",
    "        CHECK = (CLUSTER_CORES_MAX / EXECUTOR_CORES) * (\n",
    "            EXECUTOR_MEMORY + max(EXECUTOR_MEMORY * 0.10, 0.403)\n",
    "        )\n",
    "\n",
    "        assert (\n",
    "            int(CHECK) <= CLUSTER_MEMORY_MAX\n",
    "        ), \"Executor memory larger than cluster total memory!\"\n",
    "\n",
    "        # Stop previous session that was just for loading cluster params\n",
    "        spark.stop()\n",
    "\n",
    "        # Start new session with above config, that has better resource handling\n",
    "        spark = SparkSession.builder.config(conf=conf)\\\n",
    "                                    .getOrCreate()\n",
    "        sc = spark.sparkContext\n",
    "        _EXECUTED_ = True\n",
    "        print(\"Success!\")"
   ]
  },
  {
   "cell_type": "markdown",
   "id": "93bbb4de-8b40-4364-b8d3-2cc488b16cbf",
   "metadata": {},
   "source": [
    "Click on the \"SparkMonitor\" tab at the top in Jupyter Lab to see the status of running code on the cluster."
   ]
  },
  {
   "cell_type": "markdown",
   "id": "b1de3dec-d95c-44b9-a996-12e97cc34c2b",
   "metadata": {
    "jp-MarkdownHeadingCollapsed": true,
    "tags": []
   },
   "source": [
    "## Loading the data\n",
    "Here we specify where the yelp datasets are located on UCloud and read then using the spark session."
   ]
  },
  {
   "cell_type": "code",
   "execution_count": 2,
   "id": "5fa96702-5902-4482-9cd2-77d6f5da0f75",
   "metadata": {
    "execution": {
     "iopub.execute_input": "2025-04-11T13:08:15.803507Z",
     "iopub.status.busy": "2025-04-11T13:08:15.803317Z",
     "iopub.status.idle": "2025-04-11T13:08:38.881357Z",
     "shell.execute_reply": "2025-04-11T13:08:38.880273Z",
     "shell.execute_reply.started": "2025-04-11T13:08:15.803488Z"
    },
    "tags": []
   },
   "outputs": [],
   "source": [
    "# Read in the business and review files\n",
    "# This is the path to the shared datasets provided by adding an the dataset input folder\n",
    "# when submitting the spark cluster job.\n",
    "business = spark.read.json('file:////work/yelp/yelp_academic_dataset_business.json') # Use the file:/// prefix to indicate we want to read from the cluster's filesystem\n",
    "business = business.persist()\n",
    "# Persist 2 commonly used dataframes since they're used for later computations\n",
    "# https://sparkbyexamples.com/spark/spark-difference-between-cache-and-persist/\n",
    "\n",
    "users = spark.read.json(\"file:////work/yelp/yelp_academic_dataset_user.json\")\n",
    "users = users.persist()\n",
    "\n",
    "reviews = spark.read.json('file:////work/yelp/yelp_academic_dataset_review.json')\n",
    "reviews = reviews.persist()\n",
    "\n",
    "# checkin = spark.read.json('file:////work/yelp/yelp_academic_dataset_checkin.json')\n",
    "# tip = spark.read.json('file:////work/yelp/yelp_academic_dataset_tip.json')\n"
   ]
  },
  {
   "cell_type": "markdown",
   "id": "3a303b5b",
   "metadata": {
    "jp-MarkdownHeadingCollapsed": true,
    "tags": []
   },
   "source": [
    "## PySpark example usage"
   ]
  },
  {
   "cell_type": "code",
   "execution_count": null,
   "id": "235e5257-1a0e-4189-87fc-075ff2858c54",
   "metadata": {
    "execution": {
     "iopub.status.busy": "2025-03-31T13:13:27.689209Z",
     "iopub.status.idle": "2025-03-31T13:13:27.689622Z",
     "shell.execute_reply": "2025-03-31T13:13:27.689433Z",
     "shell.execute_reply.started": "2025-03-31T13:13:27.689413Z"
    },
    "tags": []
   },
   "outputs": [],
   "source": [
    "# Show PySpark dataframes:\n",
    "reviews.columns"
   ]
  },
  {
   "cell_type": "code",
   "execution_count": null,
   "id": "afd9630e-1dd0-4abf-9952-bd7e252a8061",
   "metadata": {
    "tags": []
   },
   "outputs": [],
   "source": [
    "business.show()"
   ]
  },
  {
   "cell_type": "code",
   "execution_count": null,
   "id": "e89f6184-410e-4a04-a4a1-7b080353dc1f",
   "metadata": {
    "tags": []
   },
   "outputs": [],
   "source": [
    "# Get number of rows with no sampling:\n",
    "reviews.count()"
   ]
  },
  {
   "cell_type": "code",
   "execution_count": null,
   "id": "cc31d1a2-3571-49cd-af5a-98d6d23027de",
   "metadata": {
    "tags": []
   },
   "outputs": [],
   "source": [
    "# OPTIONAL:\n",
    "# Reduce resource usage and make queries run faster\n",
    "# by only using a small sample of the dataframe\n",
    "# and overwriting previous variable \"df\".\n",
    "# Useful while developing, not so much to\n",
    "# provide final answers. Therefore: Remember to \n",
    "# to re-read the df when done developing code using\n",
    "# df = spark.read etc like above.\n",
    "\n",
    "\n",
    "# Get number of rows after sampling:\n",
    "reviews.count() "
   ]
  },
  {
   "cell_type": "code",
   "execution_count": 97,
   "id": "20087cdb-d6f2-4aab-9fe2-bf3f072044db",
   "metadata": {
    "execution": {
     "iopub.execute_input": "2025-04-06T15:36:38.329859Z",
     "iopub.status.busy": "2025-04-06T15:36:38.329174Z",
     "iopub.status.idle": "2025-04-06T15:36:38.975600Z",
     "shell.execute_reply": "2025-04-06T15:36:38.973823Z",
     "shell.execute_reply.started": "2025-04-06T15:36:38.329802Z"
    },
    "tags": []
   },
   "outputs": [
    {
     "name": "stdout",
     "output_type": "stream",
     "text": [
      "+--------------------+--------------------+--------------------+--------------------+--------------+--------------------+-------+-------------+--------------+--------------------+-----------+------------+-----+-----+\n",
      "|             address|          attributes|         business_id|          categories|          city|               hours|is_open|     latitude|     longitude|                name|postal_code|review_count|stars|state|\n",
      "+--------------------+--------------------+--------------------+--------------------+--------------+--------------------+-------+-------------+--------------+--------------------+-----------+------------+-----+-----+\n",
      "|1616 Chapala St, ...|{null, null, null...|Pns2l4eNsfO8kk83d...|Doctors, Traditio...| Santa Barbara|                null|      0|   34.4266787|  -119.7111968|Abby Rappoport, L...|      93101|           7|  5.0|   CA|\n",
      "|87 Grasso Plaza S...|{null, null, null...|mpf3x-BjTdTEA3yCZ...|Shipping Centers,...|        Affton|{8:0-18:30, 0:0-0...|      1|    38.551126|    -90.335695|       The UPS Store|      63123|          15|  3.0|   MO|\n",
      "|5255 E Broadway Blvd|{null, null, null...|tUFrWirKiKi_TAnsV...|Department Stores...|        Tucson|{8:0-23:0, 8:0-22...|      0|    32.223236|   -110.880452|              Target|      85711|          22|  3.5|   AZ|\n",
      "|         935 Race St|{null, null, u'no...|MTSW4McQd7CbVtyjq...|Restaurants, Food...|  Philadelphia|{7:0-21:0, 7:0-20...|      1|   39.9555052|   -75.1555641|  St Honore Pastries|      19107|          80|  4.0|   PA|\n",
      "|       101 Walnut St|{null, null, null...|mWMc6_wTdE0EUBKIG...|Brewpubs, Breweri...|    Green Lane|{12:0-22:0, null,...|      1|   40.3381827|   -75.4716585|Perkiomen Valley ...|      18054|          13|  4.5|   PA|\n",
      "|       615 S Main St|{null, null, u'no...|CF33F8-E6oudUQ46H...|Burgers, Fast Foo...|  Ashland City|{9:0-0:0, 0:0-0:0...|      1|    36.269593|    -87.058943|      Sonic Drive-In|      37015|           6|  2.0|   TN|\n",
      "|8522 Eager Road, ...|{null, null, null...|n_0UpQx1hsNbnPUSl...|Sporting Goods, F...|     Brentwood|{10:0-18:0, 0:0-0...|      1|    38.627695|    -90.340465|     Famous Footwear|      63144|          13|  2.5|   MO|\n",
      "|  400 Pasadena Ave S|                null|qkRM_2X51Yqxk3btl...|Synagogues, Relig...|St. Petersburg|{9:0-17:0, 9:0-17...|      1|     27.76659|    -82.732983|      Temple Beth-El|      33707|           5|  3.5|   FL|\n",
      "|   8025 Mackenzie Rd|{null, null, u'fu...|k0hlBqXX-Bt0vf1op...|Pubs, Restaurants...|        Affton|                null|      0|   38.5651648|   -90.3210868|Tsevi's Pub And G...|      63123|          19|  3.0|   MO|\n",
      "| 2312 Dickerson Pike|{null, null, u'no...|bBDDEgkFA1Otx9Lfe...|Ice Cream & Froze...|     Nashville|{6:0-16:0, 0:0-0:...|      1|   36.2081024|   -86.7681696|      Sonic Drive-In|      37207|          10|  1.5|   TN|\n",
      "|21705 Village Lak...|{null, null, null...|UJsufbvfyfONHeWdv...|Department Stores...| Land O' Lakes|{9:30-21:30, 9:30...|      1|28.1904587953|-82.4573802199|           Marshalls|      34639|           6|  3.5|   FL|\n",
      "|                    |{null, null, 'non...|eEOYSgkmpB90uNA7l...|Vietnamese, Food,...|     Tampa Bay|{11:0-14:0, 11:0-...|      1|   27.9552692|   -82.4563199|Vietnamese Food T...|      33602|          10|  4.0|   FL|\n",
      "|        8901 US 31 S|{null, null, 'non...|il_Ro8jwPlHresjw9...|American (Traditi...|  Indianapolis|{6:0-22:0, 6:0-22...|      1|39.6371332838| -86.127217412|             Denny's|      46227|          28|  2.5|   IN|\n",
      "|   15 N Missouri Ave|{null, null, null...|jaxMSoInw8Poo3XeM...|General Dentistry...|    Clearwater|{null, 7:30-15:30...|      1|    27.966235|    -82.787412|        Adams Dental|      33755|          10|  5.0|   FL|\n",
      "|       2575 E Bay Dr|{null, null, u'no...|0bPLkL0QhhPO5kt1_...|Food, Delis, Ital...|         Largo|{10:0-20:0, 10:0-...|      0|   27.9161159|   -82.7604608|Zio's Italian Market|      33771|         100|  4.5|   FL|\n",
      "|         205 Race St|{null, null, 'ful...|MUTTqe8uqyMdBl186...|Sushi Bars, Resta...|  Philadelphia|{13:30-23:0, null...|      1|    39.953949|   -75.1432262|            Tuna Bar|      19106|         245|  4.0|   PA|\n",
      "|     625 N Stone Ave|{null, null, null...|rBmpy_Y1UbBx8ggHl...|Automotive, Auto ...|        Tucson|{8:0-17:0, 0:0-0:...|      1|   32.2298719|  -110.9723419|Arizona Truck Out...|      85705|          10|  4.5|   AZ|\n",
      "|        712 Adams St|{null, null, null...|M0XSSHqrASOnhgbWD...|Vape Shops, Tobac...|   New Orleans|{10:0-19:0, 10:0-...|      1|29.9414679565| -90.129952757|      Herb Import Co|      70118|           5|  4.0|   LA|\n",
      "|     1241 Airline Dr|                null|8wGISYjYkE2tSqn3c...|Automotive, Car R...|        Kenner|{8:0-17:0, 8:0-17...|      1|    29.981183|   -90.2540123|    Nifty Car Rental|      70062|          14|  3.5|   LA|\n",
      "|       1224 South St|{null, null, u'no...|ROeacJQwBeh05Rqg7...| Korean, Restaurants|  Philadelphia|{11:30-20:30, 11:...|      1|    39.943223|    -75.162568|                 BAP|      19147|         205|  4.5|   PA|\n",
      "+--------------------+--------------------+--------------------+--------------------+--------------+--------------------+-------+-------------+--------------+--------------------+-----------+------------+-----+-----+\n",
      "only showing top 20 rows\n",
      "\n"
     ]
    }
   ],
   "source": [
    "business.show()"
   ]
  },
  {
   "cell_type": "markdown",
   "id": "7d258fa6-1402-4c3a-a252-a9dbfd4a87d9",
   "metadata": {},
   "source": [
    "Example: Say we're only interested in reviews of good mexican restaurants in Arizona. You can delete this when you do your own thing. "
   ]
  },
  {
   "cell_type": "markdown",
   "id": "c1d3071b-2f83-4afe-8a37-fe7356757c0e",
   "metadata": {},
   "source": [
    "### Example"
   ]
  },
  {
   "cell_type": "code",
   "execution_count": 110,
   "id": "07983acb-15d8-45ea-9d12-3bc8759280b4",
   "metadata": {
    "execution": {
     "iopub.execute_input": "2025-03-28T17:25:37.811211Z",
     "iopub.status.busy": "2025-03-28T17:25:37.810288Z",
     "iopub.status.idle": "2025-03-28T17:25:39.775805Z",
     "shell.execute_reply": "2025-03-28T17:25:39.774902Z",
     "shell.execute_reply.started": "2025-03-28T17:25:37.811152Z"
    },
    "tags": []
   },
   "outputs": [
    {
     "name": "stdout",
     "output_type": "stream",
     "text": [
      "+--------------------+--------------------+\n",
      "|                name|                text|\n",
      "+--------------------+--------------------+\n",
      "|Casa Molina Del N...|We've been coming...|\n",
      "|               Penca|Wow. That was inc...|\n",
      "|               Penca|Street Tacos in T...|\n",
      "|               Penca|Last minute decis...|\n",
      "|             Micha's|The best Carne Se...|\n",
      "|Street- Taco and ...|Cool lil spot dow...|\n",
      "|               Penca|A little pricey b...|\n",
      "|Taqueria Pico De ...|LOVE THIS PLACE!\\...|\n",
      "|Casa Molina Del N...|I love the margar...|\n",
      "|      El Charro Cafe|Really happy I fo...|\n",
      "|            BK Tacos|Absolutely love t...|\n",
      "|St Mary's Mexican...|Best tortillas I'...|\n",
      "|Charro Steak & De...|Visiting from out...|\n",
      "|            BK Tacos|Most people go fo...|\n",
      "|             Micha's|We travel to Tucs...|\n",
      "|      El Charro Cafe|Had a great dinne...|\n",
      "|Charro Steak & De...|Excellent night a...|\n",
      "|Street- Taco and ...|This is a fabulou...|\n",
      "|Indian Frybread-M...|I love this place...|\n",
      "|               Penca|It was delicious ...|\n",
      "+--------------------+--------------------+\n",
      "only showing top 20 rows\n",
      "\n"
     ]
    }
   ],
   "source": [
    "# Filter to only Arizona businesses with \"Mexican\" as part of their categories\n",
    "az_mex = business.filter(business.state == \"AZ\")\\\n",
    "                .filter(business.categories.rlike(\"Mexican\"))\\\n",
    "                .select(\"business_id\", \"name\", 'categories')\n",
    "az_mex.toPandas().to_csv('az_mex.csv', header=True, index=False, encoding='utf-8')\n",
    "# Join with the reviews\n",
    "az_mex_rs = reviews.join(az_mex, on=\"business_id\", how=\"inner\")\n",
    "\n",
    "# Filter to only 5 star reviews\n",
    "good_az_mex_rs = az_mex_rs.filter(az_mex_rs.stars == 5)\\\n",
    "                        .select(\"name\",\"text\")\n",
    "\n",
    "# Print the top 20 rows of the DataFrame\n",
    "good_az_mex_rs.show()\n",
    "\n",
    "# Convert to pandas (local object) and save to local file system\n",
    "good_az_mex_rs.toPandas().to_csv(\"good_az_reviews.csv\", header=True, index=False, encoding='utf-8')\n"
   ]
  },
  {
   "cell_type": "code",
   "execution_count": 99,
   "id": "b50578b7-eda2-4199-891b-3cdd83957a52",
   "metadata": {
    "execution": {
     "iopub.execute_input": "2025-03-28T17:16:40.495122Z",
     "iopub.status.busy": "2025-03-28T17:16:40.494042Z",
     "iopub.status.idle": "2025-03-28T17:16:41.228524Z",
     "shell.execute_reply": "2025-03-28T17:16:41.165113Z",
     "shell.execute_reply.started": "2025-03-28T17:16:40.495055Z"
    },
    "tags": []
   },
   "outputs": [
    {
     "name": "stdout",
     "output_type": "stream",
     "text": [
      "+--------------------+\n",
      "|            category|\n",
      "+--------------------+\n",
      "|          Acai Bowls|\n",
      "|         Accessories|\n",
      "|         Accountants|\n",
      "|         Active Life|\n",
      "|         Acupuncture|\n",
      "|               Adult|\n",
      "|     Adult Education|\n",
      "| Adult Entertainment|\n",
      "|         Advertising|\n",
      "|       Aestheticians|\n",
      "|             African|\n",
      "|   Air Duct Cleaning|\n",
      "|            Airlines|\n",
      "|    Airport Shuttles|\n",
      "|   Airport Terminals|\n",
      "|            Airports|\n",
      "|          Allergists|\n",
      "|Alternative Medicine|\n",
      "|Amateur Sports Teams|\n",
      "|      American (New)|\n",
      "+--------------------+\n",
      "only showing top 20 rows\n",
      "\n"
     ]
    }
   ],
   "source": [
    "business_sam.select(\n",
    "    explode(split(col(\"categories\"), \",\")).alias(\"category\")\n",
    ").withColumn(\"category\", trim(col(\"category\"))).distinct().sort('category').show()"
   ]
  },
  {
   "cell_type": "markdown",
   "id": "0d9d265d-cba4-4ade-851e-dad67771864b",
   "metadata": {},
   "source": [
    "See assignment PDF for task descriptions."
   ]
  },
  {
   "cell_type": "markdown",
   "id": "8a624efd-902b-4b3a-bda4-0af2c2a27fee",
   "metadata": {},
   "source": [
    "### Samplling"
   ]
  },
  {
   "cell_type": "code",
   "execution_count": 12,
   "id": "9884f3ce-cfdc-4617-8ff8-8b0b59185bef",
   "metadata": {
    "execution": {
     "iopub.execute_input": "2025-04-04T15:20:51.242711Z",
     "iopub.status.busy": "2025-04-04T15:20:51.242132Z",
     "iopub.status.idle": "2025-04-04T15:20:51.254272Z",
     "shell.execute_reply": "2025-04-04T15:20:51.252831Z",
     "shell.execute_reply.started": "2025-04-04T15:20:51.242668Z"
    },
    "tags": []
   },
   "outputs": [],
   "source": [
    "reviews = reviews.sample(withReplacement=False, fraction=1/50)\n",
    "business = business.sample(withReplacement=False, fraction=1/50)"
   ]
  },
  {
   "cell_type": "markdown",
   "id": "1d08a2d0-fba5-402d-bb87-448422312058",
   "metadata": {
    "tags": []
   },
   "source": [
    "# Exercises"
   ]
  },
  {
   "cell_type": "markdown",
   "id": "5b394058",
   "metadata": {
    "jp-MarkdownHeadingCollapsed": true,
    "tags": []
   },
   "source": [
    "### Task 3.1.1:"
   ]
  },
  {
   "cell_type": "code",
   "execution_count": 53,
   "id": "ee564c11",
   "metadata": {
    "execution": {
     "iopub.execute_input": "2025-03-24T15:00:02.788522Z",
     "iopub.status.busy": "2025-03-24T15:00:02.787626Z",
     "iopub.status.idle": "2025-03-24T15:00:03.017043Z",
     "shell.execute_reply": "2025-03-24T15:00:03.015857Z",
     "shell.execute_reply.started": "2025-03-24T15:00:02.788463Z"
    },
    "tags": []
   },
   "outputs": [
    {
     "data": {
      "text/plain": [
       "150346"
      ]
     },
     "execution_count": 53,
     "metadata": {},
     "output_type": "execute_result"
    }
   ],
   "source": [
    "# Write your code here...\n",
    "business.count()"
   ]
  },
  {
   "cell_type": "code",
   "execution_count": null,
   "id": "647cf67c-2499-4c76-9aa9-a2815c322276",
   "metadata": {
    "tags": []
   },
   "outputs": [],
   "source": [
    "business.columns"
   ]
  },
  {
   "cell_type": "markdown",
   "id": "64a546fb",
   "metadata": {
    "jp-MarkdownHeadingCollapsed": true,
    "tags": []
   },
   "source": [
    "### Task 3.1.2:"
   ]
  },
  {
   "cell_type": "code",
   "execution_count": 37,
   "id": "aca680c7",
   "metadata": {
    "execution": {
     "iopub.execute_input": "2025-04-06T18:00:09.232744Z",
     "iopub.status.busy": "2025-04-06T18:00:09.231821Z",
     "iopub.status.idle": "2025-04-06T18:00:09.594566Z",
     "shell.execute_reply": "2025-04-06T18:00:09.593503Z",
     "shell.execute_reply.started": "2025-04-06T18:00:09.232682Z"
    },
    "tags": []
   },
   "outputs": [],
   "source": [
    "# Write your code here...\n",
    "respected_businesses=business.filter((business.stars >= 5) & (business.review_count >= 500)).select(\"name\", \"stars\", \"review_count\")\n",
    "respected_businesses.toPandas().to_csv(\"3_1_2_respected_businesses.csv\", header=True, index=False, encoding='utf-8')"
   ]
  },
  {
   "cell_type": "markdown",
   "id": "b39e2a34",
   "metadata": {
    "jp-MarkdownHeadingCollapsed": true,
    "tags": []
   },
   "source": [
    "### Task 3.1.3: "
   ]
  },
  {
   "cell_type": "code",
   "execution_count": 7,
   "id": "54a849fc",
   "metadata": {
    "execution": {
     "iopub.execute_input": "2025-03-28T16:21:11.600434Z",
     "iopub.status.busy": "2025-03-28T16:21:11.599627Z",
     "iopub.status.idle": "2025-03-28T16:21:19.903533Z",
     "shell.execute_reply": "2025-03-28T16:21:19.902469Z",
     "shell.execute_reply.started": "2025-03-28T16:21:11.600385Z"
    },
    "tags": []
   },
   "outputs": [],
   "source": [
    "# Write your code here...\n",
    "influencers = users.filter(users.review_count >= 1000).select(\"user_id\")\n",
    "influencers.toPandas().to_csv(\"3_1_3_influencers.csv\", header=True, index=False, encoding='utf-8')"
   ]
  },
  {
   "cell_type": "markdown",
   "id": "a773c064",
   "metadata": {
    "jp-MarkdownHeadingCollapsed": true,
    "tags": []
   },
   "source": [
    "### Task 3.1.4: "
   ]
  },
  {
   "cell_type": "code",
   "execution_count": null,
   "id": "fab0d9d0-e011-4e3a-bdaa-7270dcfe83f7",
   "metadata": {},
   "outputs": [],
   "source": [
    "business"
   ]
  },
  {
   "cell_type": "code",
   "execution_count": 2,
   "id": "cb504f36-b931-45aa-a223-703120717228",
   "metadata": {
    "execution": {
     "iopub.execute_input": "2025-03-31T13:13:30.158379Z",
     "iopub.status.busy": "2025-03-31T13:13:30.157853Z",
     "iopub.status.idle": "2025-03-31T13:13:30.183123Z",
     "shell.execute_reply": "2025-03-31T13:13:30.181877Z",
     "shell.execute_reply.started": "2025-03-31T13:13:30.158348Z"
    },
    "tags": []
   },
   "outputs": [
    {
     "ename": "NameError",
     "evalue": "name 'reviews' is not defined",
     "output_type": "error",
     "traceback": [
      "\u001b[0;31m---------------------------------------------------------------------------\u001b[0m",
      "\u001b[0;31mNameError\u001b[0m                                 Traceback (most recent call last)",
      "Cell \u001b[0;32mIn[2], line 3\u001b[0m\n\u001b[1;32m      1\u001b[0m \u001b[38;5;66;03m# Write your code here...\u001b[39;00m\n\u001b[0;32m----> 3\u001b[0m reviews \u001b[38;5;241m=\u001b[39m \u001b[43mreviews\u001b[49m\u001b[38;5;241m.\u001b[39msample(withReplacement\u001b[38;5;241m=\u001b[39m\u001b[38;5;28;01mFalse\u001b[39;00m, fraction\u001b[38;5;241m=\u001b[39m\u001b[38;5;241m1\u001b[39m\u001b[38;5;241m/\u001b[39m\u001b[38;5;241m50\u001b[39m)\n\u001b[1;32m      4\u001b[0m business_sam \u001b[38;5;241m=\u001b[39m business\u001b[38;5;241m.\u001b[39msample(withReplacement\u001b[38;5;241m=\u001b[39m\u001b[38;5;28;01mFalse\u001b[39;00m, fraction\u001b[38;5;241m=\u001b[39m\u001b[38;5;241m1\u001b[39m\u001b[38;5;241m/\u001b[39m\u001b[38;5;241m50\u001b[39m)\n",
      "\u001b[0;31mNameError\u001b[0m: name 'reviews' is not defined"
     ]
    }
   ],
   "source": [
    "# Write your code here...\n",
    "\n",
    "reviews = reviews.sample(withReplacement=False, fraction=1/50)\n",
    "business_sam = business.sample(withReplacement=False, fraction=1/50)"
   ]
  },
  {
   "cell_type": "code",
   "execution_count": 9,
   "id": "3e4cdfdb-dbfa-49a7-b64a-c3d4af91416a",
   "metadata": {
    "execution": {
     "iopub.execute_input": "2025-03-28T16:22:01.068618Z",
     "iopub.status.busy": "2025-03-28T16:22:01.067993Z",
     "iopub.status.idle": "2025-03-28T16:22:10.063720Z",
     "shell.execute_reply": "2025-03-28T16:22:10.062999Z",
     "shell.execute_reply.started": "2025-03-28T16:22:01.068576Z"
    },
    "tags": []
   },
   "outputs": [],
   "source": [
    "from pyspark.sql.functions import col\n",
    "counts = business\\\n",
    ".join(reviews, on=\"business_id\", how=\"inner\")\\\n",
    ".join(influencers, on=\"user_id\", how=\"inner\")\\\n",
    ".select(\"name\", \"user_id\")\\\n",
    ".groupBy('name')\\\n",
    ".count()\\\n",
    ".filter(col('count') >= 5)\\\n",
    ".toPandas().to_csv(\"3_1_4_occupied_businesses.csv\", header=True, index=False, encoding='utf-8')"
   ]
  },
  {
   "cell_type": "markdown",
   "id": "8922a694",
   "metadata": {
    "jp-MarkdownHeadingCollapsed": true,
    "tags": []
   },
   "source": [
    "### Task 3.1.5: "
   ]
  },
  {
   "cell_type": "markdown",
   "id": "a28f8cb8-8bb5-42dc-a45e-82cb4100f1d5",
   "metadata": {
    "execution": {
     "iopub.execute_input": "2025-03-24T14:44:50.164801Z",
     "iopub.status.busy": "2025-03-24T14:44:50.164108Z",
     "iopub.status.idle": "2025-03-24T14:44:50.173820Z",
     "shell.execute_reply": "2025-03-24T14:44:50.172216Z",
     "shell.execute_reply.started": "2025-03-24T14:44:50.164714Z"
    },
    "tags": []
   },
   "source": [
    "Find anordered list of users based on the average star counts they have given in all their reviews."
   ]
  },
  {
   "cell_type": "code",
   "execution_count": null,
   "id": "64233be8",
   "metadata": {
    "execution": {
     "iopub.execute_input": "2025-03-24T15:04:06.902651Z",
     "iopub.status.busy": "2025-03-24T15:04:06.901834Z"
    },
    "tags": []
   },
   "outputs": [],
   "source": [
    "# Write your code here...\n",
    "from pyspark.sql.functions import col\n",
    "counts = reviews\\\n",
    ".join(users, on=\"user_id\", how=\"right\")\\\n",
    ".select(\"stars\", \"user_id\")\\\n",
    ".groupBy('user_id')\\\n",
    ".mean()\\\n",
    ".sort(col('avg(stars)'), ascending=False)\\\n",
    ".show()\n",
    "# .toPandas().to_csv(\"3_1_5_ordered_users.csv\", header=True, index=False, encoding='utf-8')\n",
    "# too big to save haha.\n",
    "#include all users, including with no corresponding reviews."
   ]
  },
  {
   "cell_type": "markdown",
   "id": "6aa6bec7",
   "metadata": {
    "jp-MarkdownHeadingCollapsed": true,
    "tags": []
   },
   "source": [
    "### Task 3.2.1: Data Exploration"
   ]
  },
  {
   "cell_type": "markdown",
   "id": "bfcd6a12-2be7-4211-bf9e-4bd96fa26656",
   "metadata": {
    "execution": {
     "iopub.execute_input": "2025-03-28T16:33:11.675611Z",
     "iopub.status.busy": "2025-03-28T16:33:11.674749Z",
     "iopub.status.idle": "2025-03-28T16:33:11.685599Z",
     "shell.execute_reply": "2025-03-28T16:33:11.683606Z",
     "shell.execute_reply.started": "2025-03-28T16:33:11.675531Z"
    },
    "tags": []
   },
   "source": [
    " What is the percentage of reviews that contain a variant of the word \"authentic\"?"
   ]
  },
  {
   "cell_type": "markdown",
   "id": "57ac5be3-7870-4630-9cc7-2d3655b2f4dd",
   "metadata": {},
   "source": [
    "##### Total counts"
   ]
  },
  {
   "cell_type": "code",
   "execution_count": 14,
   "id": "016117d1-62dc-4463-a24c-069e75801c7a",
   "metadata": {
    "execution": {
     "iopub.execute_input": "2025-04-07T08:42:22.337875Z",
     "iopub.status.busy": "2025-04-07T08:42:22.337026Z",
     "iopub.status.idle": "2025-04-07T08:42:22.914711Z",
     "shell.execute_reply": "2025-04-07T08:42:22.913336Z",
     "shell.execute_reply.started": "2025-04-07T08:42:22.337818Z"
    },
    "tags": []
   },
   "outputs": [
    {
     "data": {
      "text/plain": [
       "6990280"
      ]
     },
     "execution_count": 14,
     "metadata": {},
     "output_type": "execute_result"
    }
   ],
   "source": [
    "reviews.count()"
   ]
  },
  {
   "cell_type": "code",
   "execution_count": 9,
   "id": "6901b6b1-b1a6-4f86-8395-ae94ae05b619",
   "metadata": {
    "execution": {
     "iopub.execute_input": "2025-04-07T08:27:19.608896Z",
     "iopub.status.busy": "2025-04-07T08:27:19.608440Z",
     "iopub.status.idle": "2025-04-07T08:27:21.659350Z",
     "shell.execute_reply": "2025-04-07T08:27:21.657629Z",
     "shell.execute_reply.started": "2025-04-07T08:27:19.608872Z"
    },
    "tags": []
   },
   "outputs": [
    {
     "data": {
      "text/plain": [
       "150346"
      ]
     },
     "execution_count": 9,
     "metadata": {},
     "output_type": "execute_result"
    }
   ],
   "source": [
    "business.count()"
   ]
  },
  {
   "cell_type": "code",
   "execution_count": 11,
   "id": "e3f5f9b3-6206-477d-b719-6bbcf1a43019",
   "metadata": {
    "execution": {
     "iopub.execute_input": "2025-04-07T08:27:26.308525Z",
     "iopub.status.busy": "2025-04-07T08:27:26.307572Z",
     "iopub.status.idle": "2025-04-07T08:27:29.048184Z",
     "shell.execute_reply": "2025-04-07T08:27:29.047043Z",
     "shell.execute_reply.started": "2025-04-07T08:27:26.308466Z"
    },
    "tags": []
   },
   "outputs": [
    {
     "data": {
      "text/plain": [
       "1987897"
      ]
     },
     "execution_count": 11,
     "metadata": {},
     "output_type": "execute_result"
    }
   ],
   "source": [
    "users.count()"
   ]
  },
  {
   "cell_type": "code",
   "execution_count": 4,
   "id": "43907715-2ed7-4a07-be75-67756be1247d",
   "metadata": {
    "execution": {
     "iopub.execute_input": "2025-04-11T13:09:07.427403Z",
     "iopub.status.busy": "2025-04-11T13:09:07.426710Z",
     "iopub.status.idle": "2025-04-11T13:09:07.438149Z",
     "shell.execute_reply": "2025-04-11T13:09:07.436721Z",
     "shell.execute_reply.started": "2025-04-11T13:09:07.427320Z"
    },
    "tags": []
   },
   "outputs": [
    {
     "data": {
      "text/plain": [
       "['business_id',\n",
       " 'cool',\n",
       " 'date',\n",
       " 'funny',\n",
       " 'review_id',\n",
       " 'stars',\n",
       " 'text',\n",
       " 'useful',\n",
       " 'user_id']"
      ]
     },
     "execution_count": 4,
     "metadata": {},
     "output_type": "execute_result"
    }
   ],
   "source": [
    "reviews.columns"
   ]
  },
  {
   "cell_type": "markdown",
   "id": "fd658c34-7a32-4dd8-8597-9bf09bd33be6",
   "metadata": {
    "jp-MarkdownHeadingCollapsed": true,
    "tags": []
   },
   "source": [
    "### Percentage of authentic and legitimate language"
   ]
  },
  {
   "cell_type": "code",
   "execution_count": 5,
   "id": "11450d6b-1c16-455d-963b-5d1b146bc734",
   "metadata": {
    "execution": {
     "iopub.execute_input": "2025-04-11T09:58:40.867034Z",
     "iopub.status.busy": "2025-04-11T09:58:40.866242Z",
     "iopub.status.idle": "2025-04-11T09:58:40.873614Z",
     "shell.execute_reply": "2025-04-11T09:58:40.872253Z",
     "shell.execute_reply.started": "2025-04-11T09:58:40.866980Z"
    },
    "tags": []
   },
   "outputs": [],
   "source": [
    "# Write your code here...\n",
    "from pyspark.sql.functions import col, lower, when, desc, asc"
   ]
  },
  {
   "cell_type": "code",
   "execution_count": 9,
   "id": "0e77a226-4213-4e86-8930-1b5050bde9b8",
   "metadata": {
    "execution": {
     "iopub.execute_input": "2025-04-07T17:19:36.203200Z",
     "iopub.status.busy": "2025-04-07T17:19:36.202383Z",
     "iopub.status.idle": "2025-04-07T17:19:41.501132Z",
     "shell.execute_reply": "2025-04-07T17:19:41.499523Z",
     "shell.execute_reply.started": "2025-04-07T17:19:36.203139Z"
    },
    "tags": []
   },
   "outputs": [
    {
     "name": "stdout",
     "output_type": "stream",
     "text": [
      "124634\n",
      "0.01782961483660168\n"
     ]
    }
   ],
   "source": [
    "c = lower(col('text'))\n",
    "n_authentic = reviews\\\n",
    ".filter(c.contains('authentic'))\\\n",
    ".count()\n",
    "total = reviews.count()\n",
    "percentage_authentic = n_authentic/total\n",
    "print(n_authentic)\n",
    "print(percentage_authentic)"
   ]
  },
  {
   "cell_type": "code",
   "execution_count": 14,
   "id": "68cab270-3c60-4d71-a0f8-b83b3fba8cb1",
   "metadata": {
    "execution": {
     "iopub.execute_input": "2025-04-07T17:22:38.565417Z",
     "iopub.status.busy": "2025-04-07T17:22:38.564624Z",
     "iopub.status.idle": "2025-04-07T17:22:43.274191Z",
     "shell.execute_reply": "2025-04-07T17:22:43.273045Z",
     "shell.execute_reply.started": "2025-04-07T17:22:38.565335Z"
    },
    "tags": []
   },
   "outputs": [
    {
     "name": "stdout",
     "output_type": "stream",
     "text": [
      "5066\n",
      "0.000724720612049875\n"
     ]
    }
   ],
   "source": [
    "c = lower(col('text'))\n",
    "n_authentic = reviews\\\n",
    ".filter(c.contains('legitimate'))\\\n",
    ".count()\n",
    "total = reviews.count()\n",
    "percentage_authentic \\\n",
    "= n_authentic/total\n",
    "print(n_authentic)\n",
    "print(percentage_authentic)"
   ]
  },
  {
   "cell_type": "code",
   "execution_count": 10,
   "id": "53f6f645-d141-4b72-a0d5-76230e0467f5",
   "metadata": {
    "execution": {
     "iopub.execute_input": "2025-04-07T17:19:41.521843Z",
     "iopub.status.busy": "2025-04-07T17:19:41.521638Z",
     "iopub.status.idle": "2025-04-07T17:19:51.559396Z",
     "shell.execute_reply": "2025-04-07T17:19:51.558752Z",
     "shell.execute_reply.started": "2025-04-07T17:19:41.521823Z"
    },
    "tags": []
   },
   "outputs": [
    {
     "name": "stdout",
     "output_type": "stream",
     "text": [
      "129503\n",
      "0.018526153458802794\n"
     ]
    }
   ],
   "source": [
    "c = lower(col('text'))\n",
    "n_authentic = reviews\\\n",
    ".filter(c.contains('authentic') | c.contains('legitimate'))\\\n",
    ".count()\n",
    "total = reviews.count()\n",
    "percentage_authentic = n_authentic/total\n",
    "print(n_authentic)\n",
    "print(percentage_authentic)"
   ]
  },
  {
   "cell_type": "code",
   "execution_count": 7,
   "id": "95d17755-3b4e-4933-9570-754b31db6245",
   "metadata": {
    "execution": {
     "iopub.execute_input": "2025-04-07T08:26:27.349576Z",
     "iopub.status.busy": "2025-04-07T08:26:27.349295Z",
     "iopub.status.idle": "2025-04-07T08:26:27.354271Z",
     "shell.execute_reply": "2025-04-07T08:26:27.353444Z",
     "shell.execute_reply.started": "2025-04-07T08:26:27.349551Z"
    },
    "tags": []
   },
   "outputs": [
    {
     "name": "stdout",
     "output_type": "stream",
     "text": [
      "0.018526153458802794\n"
     ]
    }
   ],
   "source": [
    "print(percentage_authentic)"
   ]
  },
  {
   "cell_type": "code",
   "execution_count": 6,
   "id": "9d3c8926-7dd7-4e57-81cc-50623ca1cde8",
   "metadata": {
    "execution": {
     "iopub.execute_input": "2025-04-04T12:51:39.756550Z",
     "iopub.status.busy": "2025-04-04T12:51:39.755795Z",
     "iopub.status.idle": "2025-04-04T12:51:39.766315Z",
     "shell.execute_reply": "2025-04-04T12:51:39.764905Z",
     "shell.execute_reply.started": "2025-04-04T12:51:39.756494Z"
    },
    "tags": []
   },
   "outputs": [
    {
     "data": {
      "text/plain": [
       "124634"
      ]
     },
     "execution_count": 6,
     "metadata": {},
     "output_type": "execute_result"
    }
   ],
   "source": [
    "n_authentic"
   ]
  },
  {
   "cell_type": "markdown",
   "id": "a236a30d-fe8f-404d-bf43-7e72a40bea7d",
   "metadata": {},
   "source": [
    "Grouped by cuisine"
   ]
  },
  {
   "cell_type": "code",
   "execution_count": 8,
   "id": "87b5e2eb-7666-40fd-915c-0cf65a75a8ea",
   "metadata": {
    "execution": {
     "iopub.execute_input": "2025-04-11T13:10:20.714022Z",
     "iopub.status.busy": "2025-04-11T13:10:20.713155Z",
     "iopub.status.idle": "2025-04-11T13:10:20.773077Z",
     "shell.execute_reply": "2025-04-11T13:10:20.771413Z",
     "shell.execute_reply.started": "2025-04-11T13:10:20.713964Z"
    },
    "tags": []
   },
   "outputs": [],
   "source": [
    "# Filter to only Arizona businesses with \"Mexican\" as part of their categories\n",
    "c = col('categories')\n",
    "business = business.withColumn('cuisine',\n",
    "    when(c.contains(\"Mexican\"), \"Mexican\")\\\n",
    "    .when(c.contains(\"Chinese\"), \"Chinese\")\\\n",
    "    .when(c.contains(\"Thai\"), \"Thai\")\\\n",
    "    .when(c.contains(\"Japanese\"), \"Japanese\")\\\n",
    "    .when(c.contains(\"Indian\"), \"Indian\")\\\n",
    "    .when(c.contains(\"Italian\"), \"Italian\")\\\n",
    "    .when(c.contains(\"French\"), \"French\")\\\n",
    "    .when(c.contains(\"Korean\"), \"Korean\")\\\n",
    "    .when(c.contains(\"Mediterranean\"), \"Mediterranean\")\\\n",
    "    .when(c.contains(\"Soul\"), \"Soul\")\\\n",
    "    #.when(c.contains(\"German\"), \"German\")\\\n",
    "    #.when(c.contains(\"Greek\"), \"Greek\")\\\n",
    "    #.when(c.contains(\"Spanish\"), \"Spanish\")\\\n",
    "    .otherwise('non-restaurant')\n",
    ")\n",
    "\n",
    "#TODO: OVERLAP BETWEEN DIFFERENT CUSINES! especially French/italian!"
   ]
  },
  {
   "cell_type": "code",
   "execution_count": 117,
   "id": "2160f6d1-e0d7-4406-baeb-839725010d67",
   "metadata": {
    "execution": {
     "iopub.execute_input": "2025-04-11T12:09:29.913859Z",
     "iopub.status.busy": "2025-04-11T12:09:29.912876Z",
     "iopub.status.idle": "2025-04-11T12:09:30.696759Z",
     "shell.execute_reply": "2025-04-11T12:09:30.694417Z",
     "shell.execute_reply.started": "2025-04-11T12:09:29.913797Z"
    },
    "tags": []
   },
   "outputs": [
    {
     "name": "stdout",
     "output_type": "stream",
     "text": [
      "+-------------+--------------+-----------+-----+\n",
      "|      cuisine|mentions_count|total_count|ratio|\n",
      "+-------------+--------------+-----------+-----+\n",
      "|      Mexican|         31233|     432248| 0.07|\n",
      "|         Thai|          5605|      93217| 0.06|\n",
      "|       Indian|          5100|      75821| 0.07|\n",
      "|      Chinese|         11906|     223663| 0.05|\n",
      "|     Japanese|          4443|     177474| 0.03|\n",
      "|      Italian|         11145|     431647| 0.03|\n",
      "|       Korean|          2119|      30851| 0.07|\n",
      "|       French|          1243|      82738| 0.02|\n",
      "|         Soul|          1042|      63684| 0.02|\n",
      "|Mediterranean|          4504|     108168| 0.04|\n",
      "+-------------+--------------+-----------+-----+\n",
      "\n"
     ]
    }
   ],
   "source": [
    "from pyspark.sql.functions import round\n",
    "condition = c.contains('legitimate') | c.contains('authentic')\n",
    "reviews_cuisine_text = business\\\n",
    ".filter(col('cuisine')!='non-restaurant')\\\n",
    ".join(reviews, on=\"business_id\", how=\"inner\")\\\n",
    ".select('cuisine', 'text', 'review_id', 'state', 'city')\\\n",
    ".cache()\n",
    "\n",
    "\n",
    "c=col('text')\n",
    "review_mentions_authentic=reviews_cuisine_text\\\n",
    ".withColumn('mentions_authentic', condition)\\\n",
    ".cache()\n",
    "\n",
    "\n",
    "review_mentions_authentic\\\n",
    ".filter(col('mentions_authentic') == True)\\\n",
    ".groupBy('cuisine')\\\n",
    ".count()\\\n",
    ".withColumnRenamed('count', 'mentions_count')\\\n",
    ".join(\n",
    "    reviews_cuisine_text\\\n",
    "    .groupBy('cuisine')\\\n",
    "    .count()\\\n",
    "    .withColumnRenamed('count', 'total_count')\n",
    "    ,\n",
    "    on='cuisine'\n",
    ")\\\n",
    ".withColumn('ratio', round(\n",
    "    col('mentions_count')/col('total_count'),\n",
    "    2))\\\n",
    ".show()"
   ]
  },
  {
   "cell_type": "code",
   "execution_count": 110,
   "id": "0b57970e-35bd-4e02-9a09-ccbdf10aa205",
   "metadata": {
    "execution": {
     "iopub.execute_input": "2025-04-11T12:07:44.437199Z",
     "iopub.status.busy": "2025-04-11T12:07:44.436350Z",
     "iopub.status.idle": "2025-04-11T12:07:44.472805Z",
     "shell.execute_reply": "2025-04-11T12:07:44.471872Z",
     "shell.execute_reply.started": "2025-04-11T12:07:44.437144Z"
    },
    "tags": []
   },
   "outputs": [
    {
     "ename": "NameError",
     "evalue": "name 'Window' is not defined",
     "output_type": "error",
     "traceback": [
      "\u001b[0;31m---------------------------------------------------------------------------\u001b[0m",
      "\u001b[0;31mNameError\u001b[0m                                 Traceback (most recent call last)",
      "Cell \u001b[0;32mIn[110], line 4\u001b[0m\n\u001b[1;32m      1\u001b[0m \u001b[38;5;28;01mfrom\u001b[39;00m \u001b[38;5;21;01mpyspark\u001b[39;00m\u001b[38;5;21;01m.\u001b[39;00m\u001b[38;5;21;01msql\u001b[39;00m\u001b[38;5;21;01m.\u001b[39;00m\u001b[38;5;21;01mfunctions\u001b[39;00m \u001b[38;5;28;01mimport\u001b[39;00m max_by, struct\n\u001b[1;32m      3\u001b[0m restaurant_reviews_on_business \u001b[38;5;241m=\u001b[39m reviews_cuisine_text\n\u001b[0;32m----> 4\u001b[0m window \u001b[38;5;241m=\u001b[39m \u001b[43mWindow\u001b[49m\u001b[38;5;241m.\u001b[39mpartitionBy(\u001b[38;5;124m\"\u001b[39m\u001b[38;5;124mstate\u001b[39m\u001b[38;5;124m\"\u001b[39m)\u001b[38;5;241m.\u001b[39morderBy(col(\u001b[38;5;124m\"\u001b[39m\u001b[38;5;124mcount\u001b[39m\u001b[38;5;124m\"\u001b[39m)\u001b[38;5;241m.\u001b[39mdesc())\n\u001b[1;32m      6\u001b[0m totals \u001b[38;5;241m=\u001b[39m restaurant_reviews_on_business\\\n\u001b[1;32m      7\u001b[0m \u001b[38;5;241m.\u001b[39mrollup(\u001b[38;5;124m'\u001b[39m\u001b[38;5;124mstate\u001b[39m\u001b[38;5;124m'\u001b[39m, \u001b[38;5;124m'\u001b[39m\u001b[38;5;124mcity\u001b[39m\u001b[38;5;124m'\u001b[39m)\\\n\u001b[1;32m      8\u001b[0m \u001b[38;5;241m.\u001b[39mcount()\\\n\u001b[0;32m   (...)\u001b[0m\n\u001b[1;32m     11\u001b[0m \u001b[38;5;241m.\u001b[39mfilter(col(\u001b[38;5;124m'\u001b[39m\u001b[38;5;124mrank\u001b[39m\u001b[38;5;124m'\u001b[39m) \u001b[38;5;241m<\u001b[39m\u001b[38;5;241m=\u001b[39m \u001b[38;5;241m2\u001b[39m)\\\n\u001b[1;32m     12\u001b[0m \u001b[38;5;241m.\u001b[39mselect(\u001b[38;5;124m'\u001b[39m\u001b[38;5;124mstate\u001b[39m\u001b[38;5;124m'\u001b[39m, \u001b[38;5;124m'\u001b[39m\u001b[38;5;124mcity\u001b[39m\u001b[38;5;124m'\u001b[39m, \u001b[38;5;124m'\u001b[39m\u001b[38;5;124mcount\u001b[39m\u001b[38;5;124m'\u001b[39m)\n\u001b[1;32m     14\u001b[0m city_df \u001b[38;5;241m=\u001b[39m totals\u001b[38;5;241m.\u001b[39mfilter(col(\u001b[38;5;124m'\u001b[39m\u001b[38;5;124mcity\u001b[39m\u001b[38;5;124m'\u001b[39m)\u001b[38;5;241m.\u001b[39misNotNull())\u001b[38;5;241m.\u001b[39mselect(\u001b[38;5;124m'\u001b[39m\u001b[38;5;124mstate\u001b[39m\u001b[38;5;124m'\u001b[39m, \u001b[38;5;124m'\u001b[39m\u001b[38;5;124mcity\u001b[39m\u001b[38;5;124m'\u001b[39m, col(\u001b[38;5;124m'\u001b[39m\u001b[38;5;124mcount\u001b[39m\u001b[38;5;124m'\u001b[39m)\u001b[38;5;241m.\u001b[39malias(\u001b[38;5;124m'\u001b[39m\u001b[38;5;124mcity_count\u001b[39m\u001b[38;5;124m'\u001b[39m))\n",
      "\u001b[0;31mNameError\u001b[0m: name 'Window' is not defined"
     ]
    }
   ],
   "source": [
    "from pyspark.sql.functions import max_by, struct\n",
    "\n",
    "restaurant_reviews_on_business = reviews_cuisine_text\n",
    "window = Window.partitionBy(\"state\").orderBy(col(\"count\").desc())\n",
    "\n",
    "totals = restaurant_reviews_on_business\\\n",
    ".rollup('state', 'city')\\\n",
    ".count()\\\n",
    ".filter(col('state').isNotNull())\\\n",
    ".withColumn('rank', row_number().over(window))\\\n",
    ".filter(col('rank') <= 2)\\\n",
    ".select('state', 'city', 'count')\n",
    "\n",
    "city_df = totals.filter(col('city').isNotNull()).select('state', 'city', col('count').alias('city_count'))\n",
    "state_df = totals.filter(col('city').isNull()).select('state', col('count').alias('state_count'))\n",
    "totals = city_df.join(state_df, on='state')\n",
    "\n",
    "auth_totals = restaurant_reviews_on_business\\\n",
    ".filter(condition)\\\n",
    ".rollup('state', 'city')\\\n",
    ".count()\\\n",
    ".filter(col('state').isNotNull())\\\n",
    ".select('state', 'city', 'count')\n",
    "\n",
    "auth_city_df = auth_totals.filter(col('city').isNotNull()).select('state', 'city', col('count').alias('auth_city_count'))\n",
    "auth_state_df = auth_totals.filter(col('city').isNull()).select('state', col('count').alias('auth_state_count'))\n",
    "auth_totals = auth_city_df.join(auth_state_df, on='state')\n",
    "\n",
    "combined = totals.join(auth_totals, on=['state', 'city'], how='left')\n",
    "combined = combined\\\n",
    "    .withColumn('city_auth_ratio', round(col('auth_city_count')/col('city_count'),2))\\\n",
    "    .withColumn('state_auth_ratio', round(col('auth_state_count')/col('state_count'),2))\\\n",
    "    #.select('state', 'state_auth_ratio', 'city', 'city_auth_ratio')\n",
    "\n",
    "combined.show()"
   ]
  },
  {
   "cell_type": "markdown",
   "id": "8517b579",
   "metadata": {
    "jp-MarkdownHeadingCollapsed": true,
    "tags": []
   },
   "source": [
    "### Task 3.2.2: Hypothesis Testing"
   ]
  },
  {
   "cell_type": "code",
   "execution_count": 45,
   "id": "9f8e089e-4dd4-44d5-a06e-d00f9c2c1b23",
   "metadata": {
    "execution": {
     "iopub.execute_input": "2025-04-11T11:23:35.463103Z",
     "iopub.status.busy": "2025-04-11T11:23:35.462247Z",
     "iopub.status.idle": "2025-04-11T11:23:35.501104Z",
     "shell.execute_reply": "2025-04-11T11:23:35.499488Z",
     "shell.execute_reply.started": "2025-04-11T11:23:35.463044Z"
    },
    "tags": []
   },
   "outputs": [],
   "source": [
    "c=col('text')\n",
    "review_mentions_dirty=reviews_cuisine_text\\\n",
    ".withColumn('mentions_dirty', c.contains('dirty') | c.contains('kitsch') | c.contains('cheap') | c.contains('rude') | c.contains('simple'))\\\n",
    ".cache()"
   ]
  },
  {
   "cell_type": "code",
   "execution_count": 113,
   "id": "0a996e19-8fa4-4b0d-ba07-363620aafb0f",
   "metadata": {
    "execution": {
     "iopub.execute_input": "2025-04-11T12:08:22.271610Z",
     "iopub.status.busy": "2025-04-11T12:08:22.270921Z",
     "iopub.status.idle": "2025-04-11T12:08:26.280425Z",
     "shell.execute_reply": "2025-04-11T12:08:26.278307Z",
     "shell.execute_reply.started": "2025-04-11T12:08:22.271523Z"
    },
    "tags": []
   },
   "outputs": [
    {
     "name": "stdout",
     "output_type": "stream",
     "text": [
      "+--------------------+--------------+-------------+--------------------+-----+---------------+------------------+------------------------+\n",
      "|           review_id|mentions_dirty|      cuisine|                text|state|           city|mentions_authentic|mentions_authentic_dirty|\n",
      "+--------------------+--------------+-------------+--------------------+-----+---------------+------------------+------------------------+\n",
      "|-GehB4C8_DeDOjToM...|         false|Mediterranean|The wife and I ag...|   IN|   Indianapolis|              true|                   false|\n",
      "|-LcqwMWUQXjVjE21F...|         false|      Mexican|Taco Bus man o ma...|   FL|Treasure Island|              true|                   false|\n",
      "|-WN9tM07OQF8BjyiV...|         false|      Italian|By far the best a...|   PA|   Philadelphia|              true|                   false|\n",
      "|0AHkb3ZVcGY-bXNNL...|         false|Mediterranean|Tried this place ...|   PA|   Philadelphia|              true|                   false|\n",
      "|0CrvG-_VaGmFbKLJU...|         false|      Mexican|Classic.\\nUnique....|   IN|   Indianapolis|              true|                   false|\n",
      "+--------------------+--------------+-------------+--------------------+-----+---------------+------------------+------------------------+\n",
      "only showing top 5 rows\n",
      "\n"
     ]
    }
   ],
   "source": [
    "# now it contains cuisine and boolean variable if two conditions are fulfilled. We can easily operate on it!\n",
    "c=col('text')\n",
    "review_mentions_authentic_or_dirty=review_mentions_dirty\\\n",
    ".select('review_id', 'mentions_dirty')\\\n",
    ".join(review_mentions_authentic, on='review_id', how='inner')\\\n",
    ".withColumn('mentions_authentic_dirty', col('mentions_dirty') & col('mentions_authentic'))\\\n",
    ".cache()\n",
    "authentic_review_mentions_dirty=review_mentions_authentic_or_dirty.filter(col('mentions_authentic'))\n",
    "authentic_review_mentions_dirty.show(n=5)                                                                                                                      "
   ]
  },
  {
   "cell_type": "markdown",
   "id": "734a8aea-9635-4870-835f-a4faf3ab4bfd",
   "metadata": {},
   "source": [
    "For the 2x2 contigency table we need:\n",
    "- to merge them into European and South America + Asian + Soul (SAAS)\n",
    "- get total\n",
    "- get margin counts for European\n",
    "- get margin counts for SAAS\n",
    "- get margin for 'authenticity + dirty' language\n",
    "- get margin for non 'authenticity + dirty' language"
   ]
  },
  {
   "cell_type": "markdown",
   "id": "abf0eabf-e185-4e1d-8b29-7f6ae4bb0429",
   "metadata": {
    "tags": []
   },
   "source": [
    "##### Total"
   ]
  },
  {
   "cell_type": "code",
   "execution_count": 85,
   "id": "ced91813-fe6c-42c2-bfd6-d77b10185bd3",
   "metadata": {
    "execution": {
     "iopub.execute_input": "2025-04-04T16:19:52.138781Z",
     "iopub.status.busy": "2025-04-04T16:19:52.137678Z",
     "iopub.status.idle": "2025-04-04T16:19:57.182328Z",
     "shell.execute_reply": "2025-04-04T16:19:57.180480Z",
     "shell.execute_reply.started": "2025-04-04T16:19:52.138701Z"
    },
    "tags": []
   },
   "outputs": [
    {
     "data": {
      "text/plain": [
       "1719511"
      ]
     },
     "execution_count": 85,
     "metadata": {},
     "output_type": "execute_result"
    }
   ],
   "source": [
    "total = authentic_review_mentions_dirty.count()\n",
    "total"
   ]
  },
  {
   "cell_type": "markdown",
   "id": "ef79eb10-eef2-4d34-a5b4-93bd0bd8acd7",
   "metadata": {
    "tags": []
   },
   "source": [
    "##### Merge"
   ]
  },
  {
   "cell_type": "code",
   "execution_count": 63,
   "id": "10fc0e55",
   "metadata": {
    "execution": {
     "iopub.execute_input": "2025-04-11T11:31:47.171440Z",
     "iopub.status.busy": "2025-04-11T11:31:47.170658Z",
     "iopub.status.idle": "2025-04-11T11:31:47.277758Z",
     "shell.execute_reply": "2025-04-11T11:31:47.276098Z",
     "shell.execute_reply.started": "2025-04-11T11:31:47.171384Z"
    },
    "tags": []
   },
   "outputs": [
    {
     "name": "stdout",
     "output_type": "stream",
     "text": [
      "+------------------------+--------------------+\n",
      "|mentions_authentic_dirty|      global_cuisine|\n",
      "+------------------------+--------------------+\n",
      "|                   false|            european|\n",
      "|                   false|asian_or_south_am...|\n",
      "|                   false|            european|\n",
      "|                   false|            european|\n",
      "|                   false|asian_or_south_am...|\n",
      "+------------------------+--------------------+\n",
      "only showing top 5 rows\n",
      "\n"
     ]
    }
   ],
   "source": [
    "# Write your code here...\n",
    "c=col('cuisine')\n",
    "european_saas_review_mentions_authentic_dirty = authentic_review_mentions_dirty\\\n",
    ".withColumn('global_cuisine', when(c.contains(\"Italian\") | c.contains(\"French\") | c.contains(\"Mediterranean\"), \"european\")\\\n",
    "            .otherwise(\"asian_or_south_american\"))\\\n",
    ".select('mentions_authentic_dirty', 'global_cuisine')\\\n",
    ".cache()\n",
    "\n",
    "european_saas_review_mentions_authentic_dirty.show(n=5)"
   ]
  },
  {
   "cell_type": "markdown",
   "id": "34b2b0a3-5944-4c2b-921b-c7bea5e1beef",
   "metadata": {},
   "source": [
    "##### Cell Counts"
   ]
  },
  {
   "cell_type": "code",
   "execution_count": 64,
   "id": "37de3824-1a11-43e9-b6b4-6ad407c2be50",
   "metadata": {
    "execution": {
     "iopub.execute_input": "2025-04-11T11:31:49.159787Z",
     "iopub.status.busy": "2025-04-11T11:31:49.159083Z",
     "iopub.status.idle": "2025-04-11T11:31:50.853855Z",
     "shell.execute_reply": "2025-04-11T11:31:50.852160Z",
     "shell.execute_reply.started": "2025-04-11T11:31:49.159729Z"
    },
    "tags": []
   },
   "outputs": [
    {
     "name": "stdout",
     "output_type": "stream",
     "text": [
      "+--------------------+------------------------+-----+\n",
      "|      global_cuisine|mentions_authentic_dirty|count|\n",
      "+--------------------+------------------------+-----+\n",
      "|            european|                    true| 1187|\n",
      "|asian_or_south_am...|                   false|56472|\n",
      "|asian_or_south_am...|                    true| 4976|\n",
      "|            european|                   false|15705|\n",
      "+--------------------+------------------------+-----+\n",
      "\n",
      "[Row(global_cuisine='european', mentions_authentic_dirty=True, count=1187), Row(global_cuisine='asian_or_south_american', mentions_authentic_dirty=False, count=56472), Row(global_cuisine='asian_or_south_american', mentions_authentic_dirty=True, count=4976), Row(global_cuisine='european', mentions_authentic_dirty=False, count=15705)]\n"
     ]
    }
   ],
   "source": [
    "tmp = european_saas_review_mentions_authentic_dirty.groupby('global_cuisine', 'mentions_authentic_dirty').count()\n",
    "tmp.show()\n",
    "tmp=tmp.collect()\n",
    "print(tmp)\n",
    "\n",
    "# i = 0\n",
    "i = 0\n",
    "european_true = tmp[i][-1]\n",
    "assert tmp[i][0] == 'european' and tmp[i][1] == True\n",
    "\n",
    "# i = 1\n",
    "i = 1\n",
    "asian_or_south_american_false = tmp[i][-1]\n",
    "assert tmp[i][0] == 'asian_or_south_american' and tmp[i][1] == False\n",
    "\n",
    "# i = 2\n",
    "i = 2\n",
    "asian_or_south_american_true = tmp[i][-1]\n",
    "assert tmp[i][0] == 'asian_or_south_american' and tmp[i][1] == True\n",
    "\n",
    "# i = 3\n",
    "i = 3\n",
    "european_false = tmp[i][-1]\n",
    "assert tmp[i][0] == 'european' and tmp[i][1] == False\n"
   ]
  },
  {
   "cell_type": "code",
   "execution_count": 16,
   "id": "e7962da5-c408-46a7-ac2b-c94b5bedc2fb",
   "metadata": {
    "execution": {
     "iopub.execute_input": "2025-04-11T10:01:14.323018Z",
     "iopub.status.busy": "2025-04-11T10:01:14.322834Z",
     "iopub.status.idle": "2025-04-11T10:01:28.906811Z",
     "shell.execute_reply": "2025-04-11T10:01:28.904643Z",
     "shell.execute_reply.started": "2025-04-11T10:01:14.323000Z"
    },
    "tags": []
   },
   "outputs": [
    {
     "name": "stdout",
     "output_type": "stream",
     "text": [
      "Collecting scipy\n",
      "  Downloading scipy-1.15.2-cp310-cp310-manylinux_2_17_x86_64.manylinux2014_x86_64.whl (37.6 MB)\n",
      "\u001b[2K     \u001b[90m━━━━━━━━━━━━━━━━━━━━━━━━━━━━━━━━━━━━━━━━\u001b[0m \u001b[32m37.6/37.6 MB\u001b[0m \u001b[31m10.6 MB/s\u001b[0m eta \u001b[36m0:00:00\u001b[0m00:01\u001b[0m00:01\u001b[0m\n",
      "\u001b[?25hRequirement already satisfied: numpy<2.5,>=1.23.5 in /opt/conda/lib/python3.10/site-packages (from scipy) (1.23.5)\n",
      "Installing collected packages: scipy\n",
      "Successfully installed scipy-1.15.2\n"
     ]
    }
   ],
   "source": [
    "!pip install scipy"
   ]
  },
  {
   "cell_type": "markdown",
   "id": "15268b8f-5315-4c57-8255-ff8940aabacc",
   "metadata": {
    "tags": []
   },
   "source": [
    "#### Proper Tests"
   ]
  },
  {
   "cell_type": "markdown",
   "id": "2ccd9c35-7ea2-46a9-b509-5a1201f604cb",
   "metadata": {
    "tags": []
   },
   "source": [
    "#### test for independnce\n",
    "This is just test for independence"
   ]
  },
  {
   "cell_type": "markdown",
   "id": "1cfe607c-2f77-4a5d-b9db-a3cd5c5d220e",
   "metadata": {},
   "source": [
    "$H_0$: The two variables are independent\n",
    "i.e.\n",
    "$H_0: (\\forall i, j)[p_{ij} = p_i \\cdot q_j]$"
   ]
  },
  {
   "cell_type": "code",
   "execution_count": 65,
   "id": "1202aa2e-b1f7-4492-841b-073df7b0435b",
   "metadata": {
    "execution": {
     "iopub.execute_input": "2025-04-11T11:31:51.179359Z",
     "iopub.status.busy": "2025-04-11T11:31:51.178529Z",
     "iopub.status.idle": "2025-04-11T11:31:51.191159Z",
     "shell.execute_reply": "2025-04-11T11:31:51.190321Z",
     "shell.execute_reply.started": "2025-04-11T11:31:51.179303Z"
    },
    "tags": []
   },
   "outputs": [
    {
     "name": "stdout",
     "output_type": "stream",
     "text": [
      "Chi-square statistic: 20.81710344243725\n",
      "p-value: 5.052969628268849e-06\n",
      "Degrees of freedom: 1\n",
      "Expected frequencies:\n",
      "[[ 1328.89195813 15563.10804187]\n",
      " [ 4834.10804187 56613.89195813]]\n",
      "Observed frequencies:\n",
      "[[ 1187 15705]\n",
      " [ 4976 56472]]\n"
     ]
    }
   ],
   "source": [
    "from scipy.stats import chi2_contingency\n",
    "table = np.array([[european_true, european_false],\n",
    "                  [asian_or_south_american_true, asian_or_south_american_false]])\n",
    "chi2, p, dof, expected = chi2_contingency(table)\n",
    "\n",
    "print(\"Chi-square statistic:\", chi2)\n",
    "print(\"p-value:\", p)\n",
    "print(\"Degrees of freedom:\", dof)\n",
    "print(\"Expected frequencies:\")\n",
    "print(expected)\n",
    "print(\"Observed frequencies:\")\n",
    "print(table)"
   ]
  },
  {
   "cell_type": "markdown",
   "id": "7fb28d21-0d99-498e-8957-f5a634e63751",
   "metadata": {
    "execution": {
     "iopub.execute_input": "2025-04-04T16:50:26.922268Z",
     "iopub.status.busy": "2025-04-04T16:50:26.921476Z",
     "iopub.status.idle": "2025-04-04T16:50:26.932081Z",
     "shell.execute_reply": "2025-04-04T16:50:26.929827Z",
     "shell.execute_reply.started": "2025-04-04T16:50:26.922209Z"
    },
    "tags": []
   },
   "source": [
    "Conclusion, is that we reject $H_0$ in favour of $H_1$ so actually these are dependent."
   ]
  },
  {
   "cell_type": "markdown",
   "id": "5fede793-cf67-4cf6-8c59-4a9ed4b86a99",
   "metadata": {},
   "source": [
    "##### Directional test\n",
    "So here, I treat european and asian_or_south_american as population (for 2x2 it's fine), and start with hypothesis that:\n",
    "\n",
    "Probability of Authenticity+Dirty language in SAAS is higher than in European restaurant i.e. \n",
    "\n",
    "$H_0: p_{11} = p_{21}$ vs $H_A:p_{11}<p_{21}$"
   ]
  },
  {
   "cell_type": "code",
   "execution_count": 66,
   "id": "25033be2-b1d2-428c-86c2-a1fccdb1768f",
   "metadata": {
    "execution": {
     "iopub.execute_input": "2025-04-11T11:31:54.769450Z",
     "iopub.status.busy": "2025-04-11T11:31:54.768660Z",
     "iopub.status.idle": "2025-04-11T11:31:54.779226Z",
     "shell.execute_reply": "2025-04-11T11:31:54.778397Z",
     "shell.execute_reply.started": "2025-04-11T11:31:54.769395Z"
    },
    "tags": []
   },
   "outputs": [
    {
     "data": {
      "text/plain": [
       "array([[0.07026995, 0.92973005],\n",
       "       [0.08097904, 0.91902096]])"
      ]
     },
     "execution_count": 66,
     "metadata": {},
     "output_type": "execute_result"
    }
   ],
   "source": [
    "\n",
    "probs = table/table.sum(axis=1)[:,np.newaxis]\n",
    "(p_11, p_12), (p_21, p_22) = probs\n",
    "probs"
   ]
  },
  {
   "cell_type": "markdown",
   "id": "d2ad6523-fb7b-4b6e-b024-837cb41eb24a",
   "metadata": {
    "execution": {
     "iopub.execute_input": "2025-04-04T17:25:34.934085Z",
     "iopub.status.busy": "2025-04-04T17:25:34.933275Z",
     "iopub.status.idle": "2025-04-04T17:25:34.950327Z",
     "shell.execute_reply": "2025-04-04T17:25:34.948619Z",
     "shell.execute_reply.started": "2025-04-04T17:25:34.934023Z"
    },
    "tags": []
   },
   "source": [
    "1 check: if indeed the prob for SAAS is higher"
   ]
  },
  {
   "cell_type": "code",
   "execution_count": 67,
   "id": "18c8c0f8-26a4-4661-b74a-8526b8185ab3",
   "metadata": {
    "execution": {
     "iopub.execute_input": "2025-04-11T11:31:56.171098Z",
     "iopub.status.busy": "2025-04-11T11:31:56.170288Z",
     "iopub.status.idle": "2025-04-11T11:31:56.177772Z",
     "shell.execute_reply": "2025-04-11T11:31:56.176280Z",
     "shell.execute_reply.started": "2025-04-11T11:31:56.171043Z"
    },
    "tags": []
   },
   "outputs": [],
   "source": [
    "assert p_11 < p_21, \"H_A is rejected\""
   ]
  },
  {
   "cell_type": "markdown",
   "id": "1c44a741-0e5b-45b4-92b7-68f7cb8672d0",
   "metadata": {
    "execution": {
     "iopub.execute_input": "2025-04-04T17:25:54.652736Z",
     "iopub.status.busy": "2025-04-04T17:25:54.652084Z",
     "iopub.status.idle": "2025-04-04T17:25:54.659691Z",
     "shell.execute_reply": "2025-04-04T17:25:54.658209Z",
     "shell.execute_reply.started": "2025-04-04T17:25:54.652697Z"
    },
    "tags": []
   },
   "source": [
    "2nd check: divide $p$ value by half and get info"
   ]
  },
  {
   "cell_type": "code",
   "execution_count": 68,
   "id": "0b683a4d-d1e5-42fb-aa0d-b02413177563",
   "metadata": {
    "execution": {
     "iopub.execute_input": "2025-04-11T11:31:59.189691Z",
     "iopub.status.busy": "2025-04-11T11:31:59.188538Z",
     "iopub.status.idle": "2025-04-11T11:31:59.197877Z",
     "shell.execute_reply": "2025-04-11T11:31:59.196179Z",
     "shell.execute_reply.started": "2025-04-11T11:31:59.189598Z"
    },
    "tags": []
   },
   "outputs": [
    {
     "name": "stdout",
     "output_type": "stream",
     "text": [
      "2.5264848141344246e-06\n"
     ]
    }
   ],
   "source": [
    "print(p/2)"
   ]
  },
  {
   "cell_type": "code",
   "execution_count": 43,
   "id": "a27bc4e9-39d8-4697-9ba9-168b170dd7a9",
   "metadata": {
    "execution": {
     "iopub.execute_input": "2025-04-11T10:58:00.616626Z",
     "iopub.status.busy": "2025-04-11T10:58:00.615805Z",
     "iopub.status.idle": "2025-04-11T10:58:00.624937Z",
     "shell.execute_reply": "2025-04-11T10:58:00.623712Z",
     "shell.execute_reply.started": "2025-04-11T10:58:00.616550Z"
    },
    "tags": []
   },
   "outputs": [
    {
     "data": {
      "text/plain": [
       "0.07026995027231826"
      ]
     },
     "execution_count": 43,
     "metadata": {},
     "output_type": "execute_result"
    }
   ],
   "source": [
    "p_11"
   ]
  },
  {
   "cell_type": "code",
   "execution_count": 71,
   "id": "38085218-452a-4819-9950-71b9e89e7f0d",
   "metadata": {
    "execution": {
     "iopub.execute_input": "2025-04-11T11:37:53.263607Z",
     "iopub.status.busy": "2025-04-11T11:37:53.262812Z",
     "iopub.status.idle": "2025-04-11T11:37:53.276997Z",
     "shell.execute_reply": "2025-04-11T11:37:53.275950Z",
     "shell.execute_reply.started": "2025-04-11T11:37:53.263530Z"
    },
    "tags": []
   },
   "outputs": [
    {
     "name": "stdout",
     "output_type": "stream",
     "text": [
      "Group 1 (European):\n",
      "  n = 16892 ; p1 = 0.07026995027231826\n",
      "Group 2 (Asian/South American):\n",
      "  n = 61448 ; p2 = 0.08097903918760578\n",
      "Difference in proportions (p1 - p2): 0.010709088915287518\n",
      "Unpooled Standard Error: 0.002253611170865988\n",
      "95% Confidence Interval for the difference: (0.0063, 0.0151)\n"
     ]
    }
   ],
   "source": [
    "import numpy as np\n",
    "from scipy.stats import norm\n",
    "# Compute sample sizes for each group\n",
    "n1 = european_true + european_false\n",
    "n2 = asian_or_south_american_true + asian_or_south_american_false\n",
    "p_2 = p_21\n",
    "p_1 = p_11\n",
    "diff = p2 - p1\n",
    "SE_unpooled = np.sqrt(p1*(1 - p1)/n1 + p2*(1 - p2)/n2)\n",
    "z_star = norm.ppf(1 - 0.05/2)\n",
    "margin = z_star * SE_unpooled\n",
    "CI_lower = diff - margin\n",
    "CI_upper = diff + margin\n",
    "print(\"Group 1 (European):\")\n",
    "print(\"  n =\", n1, \"; p1 =\", p1)\n",
    "print(\"Group 2 (Asian/South American):\")\n",
    "print(\"  n =\", n2, \"; p2 =\", p2)\n",
    "print(\"Difference in proportions (p1 - p2):\", diff)\n",
    "print(\"Unpooled Standard Error:\", SE_unpooled)\n",
    "print(\"95% Confidence Interval for the difference: ({:.4f}, {:.4f})\".format(CI_lower, CI_upper))"
   ]
  },
  {
   "cell_type": "markdown",
   "id": "10a5f6fc-9449-4844-8779-9f97bf9f3487",
   "metadata": {},
   "source": [
    "As we see, we have enough info to accept H_A in favour of H_0"
   ]
  },
  {
   "cell_type": "markdown",
   "id": "f7e7c1d5",
   "metadata": {
    "tags": []
   },
   "source": [
    "### Task 3.3: Building a Rating Prediction Model"
   ]
  },
  {
   "cell_type": "markdown",
   "id": "864e66f7-824f-42e7-9911-9abe551c2ceb",
   "metadata": {},
   "source": [
    "### Let's recall fields again"
   ]
  },
  {
   "cell_type": "code",
   "execution_count": 39,
   "id": "64bc32e2-67c4-4edd-87f1-c8a6bd8ed56a",
   "metadata": {
    "execution": {
     "iopub.execute_input": "2025-04-06T18:19:36.623020Z",
     "iopub.status.busy": "2025-04-06T18:19:36.622076Z",
     "iopub.status.idle": "2025-04-06T18:19:36.633849Z",
     "shell.execute_reply": "2025-04-06T18:19:36.632375Z",
     "shell.execute_reply.started": "2025-04-06T18:19:36.622958Z"
    },
    "tags": []
   },
   "outputs": [
    {
     "data": {
      "text/plain": [
       "['average_stars',\n",
       " 'compliment_cool',\n",
       " 'compliment_cute',\n",
       " 'compliment_funny',\n",
       " 'compliment_hot',\n",
       " 'compliment_list',\n",
       " 'compliment_more',\n",
       " 'compliment_note',\n",
       " 'compliment_photos',\n",
       " 'compliment_plain',\n",
       " 'compliment_profile',\n",
       " 'compliment_writer',\n",
       " 'cool',\n",
       " 'elite',\n",
       " 'fans',\n",
       " 'friends',\n",
       " 'funny',\n",
       " 'name',\n",
       " 'review_count',\n",
       " 'useful',\n",
       " 'user_id',\n",
       " 'yelping_since']"
      ]
     },
     "execution_count": 39,
     "metadata": {},
     "output_type": "execute_result"
    }
   ],
   "source": [
    "users.columns"
   ]
  },
  {
   "cell_type": "code",
   "execution_count": 5,
   "id": "569abb52-3ba3-49c2-b423-1bf0c95e896d",
   "metadata": {
    "execution": {
     "iopub.execute_input": "2025-04-06T14:48:14.283822Z",
     "iopub.status.busy": "2025-04-06T14:48:14.282945Z",
     "iopub.status.idle": "2025-04-06T14:48:14.292511Z",
     "shell.execute_reply": "2025-04-06T14:48:14.291318Z",
     "shell.execute_reply.started": "2025-04-06T14:48:14.283745Z"
    },
    "tags": []
   },
   "outputs": [
    {
     "data": {
      "text/plain": [
       "['business_id',\n",
       " 'cool',\n",
       " 'date',\n",
       " 'funny',\n",
       " 'review_id',\n",
       " 'stars',\n",
       " 'text',\n",
       " 'useful',\n",
       " 'user_id']"
      ]
     },
     "execution_count": 5,
     "metadata": {},
     "output_type": "execute_result"
    }
   ],
   "source": [
    "reviews.columns"
   ]
  },
  {
   "cell_type": "code",
   "execution_count": 73,
   "id": "3ce41d72-10d2-481d-9da8-5149ea6aaf52",
   "metadata": {
    "execution": {
     "iopub.execute_input": "2025-04-11T11:39:02.556106Z",
     "iopub.status.busy": "2025-04-11T11:39:02.555453Z",
     "iopub.status.idle": "2025-04-11T11:39:02.566143Z",
     "shell.execute_reply": "2025-04-11T11:39:02.565307Z",
     "shell.execute_reply.started": "2025-04-11T11:39:02.556052Z"
    },
    "tags": []
   },
   "outputs": [
    {
     "data": {
      "text/plain": [
       "['address',\n",
       " 'attributes',\n",
       " 'business_id',\n",
       " 'categories',\n",
       " 'city',\n",
       " 'hours',\n",
       " 'is_open',\n",
       " 'latitude',\n",
       " 'longitude',\n",
       " 'name',\n",
       " 'postal_code',\n",
       " 'review_count',\n",
       " 'stars',\n",
       " 'state',\n",
       " 'cuisine']"
      ]
     },
     "execution_count": 73,
     "metadata": {},
     "output_type": "execute_result"
    }
   ],
   "source": [
    "business.columns"
   ]
  },
  {
   "cell_type": "markdown",
   "id": "7d0fb3a9-9a6a-42ff-bd93-145dc8d25838",
   "metadata": {},
   "source": [
    "### Model Training"
   ]
  },
  {
   "cell_type": "code",
   "execution_count": 9,
   "id": "ee871117-ffe6-4072-ab28-b1d2c7d82f8a",
   "metadata": {
    "execution": {
     "iopub.execute_input": "2025-04-11T13:10:35.091414Z",
     "iopub.status.busy": "2025-04-11T13:10:35.090767Z",
     "iopub.status.idle": "2025-04-11T13:10:35.141545Z",
     "shell.execute_reply": "2025-04-11T13:10:35.140006Z",
     "shell.execute_reply.started": "2025-04-11T13:10:35.091357Z"
    },
    "tags": []
   },
   "outputs": [],
   "source": [
    "from pyspark.sql.functions import udf\n",
    "def zero_center_stars(star):\n",
    "    return star - 1\n",
    "\n",
    "zero_center_stars_udf = udf(zero_center_stars)\n",
    "\n",
    "\n",
    "c = col('categories')\n",
    "business = business.withColumn('cuisine',\n",
    "    when(c.contains(\"Mexican\"), \"Mexican\")\\\n",
    "    .when(c.contains(\"Chinese\"), \"Chinese\")\\\n",
    "    .when(c.contains(\"Thai\"), \"Thai\")\\\n",
    "    .when(c.contains(\"Japanese\"), \"Japanese\")\\\n",
    "    .when(c.contains(\"Indian\"), \"Indian\")\\\n",
    "    .when(c.contains(\"Italian\"), \"Italian\")\\\n",
    "    .when(c.contains(\"French\"), \"French\")\\\n",
    "    .when(c.contains(\"Korean\"), \"Korean\")\\\n",
    "    .when(c.contains(\"Mediterranean\"), \"Mediterranean\")\\\n",
    "    .when(c.contains(\"Soul\"), \"Soul\")\\\n",
    "    .otherwise('non-restaurant')\n",
    ")"
   ]
  },
  {
   "cell_type": "code",
   "execution_count": 14,
   "id": "1f4ee73e-1c24-443f-91b3-209a2f84a2a3",
   "metadata": {
    "execution": {
     "iopub.execute_input": "2025-04-11T13:11:31.017693Z",
     "iopub.status.busy": "2025-04-11T13:11:31.016672Z",
     "iopub.status.idle": "2025-04-11T13:11:31.101666Z",
     "shell.execute_reply": "2025-04-11T13:11:31.099649Z",
     "shell.execute_reply.started": "2025-04-11T13:11:31.017613Z"
    },
    "tags": []
   },
   "outputs": [],
   "source": [
    "from pyspark.sql.functions import col, lower, when, desc, asc\n",
    "from pyspark.ml.feature import Tokenizer, HashingTF\n",
    "from pyspark.ml.evaluation import MulticlassClassificationEvaluator, RegressionEvaluator\n",
    "from pyspark.ml import Pipeline\n",
    "from pyspark.sql import functions as f\n",
    "import tempfile\n",
    "from pyspark.ml.classification import LinearSVC, OneVsRest\n",
    "from pyspark.ml.evaluation import MulticlassClassificationEvaluator\n",
    "from pyspark.ml.feature import Tokenizer, HashingTF, StringIndexer, OneHotEncoder, VectorAssembler\n",
    "\n",
    "c=col('text')\n",
    "data = business\\\n",
    ".filter(col('cuisine')!='non-restaurant')\\\n",
    ".select('business_id', 'state')\\\n",
    ".join(reviews, on=\"business_id\", how=\"inner\")\\\n",
    ".withColumn('mentions_dirty', (c.contains('dirty') | c.contains('kitsch') | c.contains('cheap') | c.contains('rude') | c.contains('simple')).cast('integer'))\\\n",
    ".withColumn('mentions_authentic', (c.contains('legitimate') | c.contains('authentic')).cast('integer'))\\\n",
    ".select('text', 'stars', 'state', 'mentions_dirty', 'mentions_authentic', 'review_id')\\\n",
    ".cache()\n",
    "\n",
    "def stratified_train_test_split(df, frac, label, join_on, seed=42):\n",
    "    \"\"\" stratfied split of a dataframe in train and test set.\"\"\"\n",
    "    fractions = df.select(label).distinct().withColumn(\"fraction\", f.lit(frac)).rdd.collectAsMap()\n",
    "    df_frac = df.stat.sampleBy(label, fractions, seed)\n",
    "    df_remaining = df.join(df_frac, on=join_on, how=\"left_anti\")\n",
    "    return df_frac, df_remaining"
   ]
  },
  {
   "cell_type": "code",
   "execution_count": 29,
   "id": "2645b7d9-a010-4c77-bca7-b3376a50f7b8",
   "metadata": {
    "execution": {
     "iopub.execute_input": "2025-04-11T13:29:13.166350Z",
     "iopub.status.busy": "2025-04-11T13:29:13.165139Z",
     "iopub.status.idle": "2025-04-11T13:29:13.983408Z",
     "shell.execute_reply": "2025-04-11T13:29:13.982395Z",
     "shell.execute_reply.started": "2025-04-11T13:29:13.166288Z"
    },
    "tags": []
   },
   "outputs": [],
   "source": [
    "reviews_sam = data#.sample(withReplacement=False, fraction=1/2)\n",
    "reviews_sam = reviews_sam.withColumn('stars', zero_center_stars(reviews_sam['stars']))\n",
    "# reviews_sam.count()\n",
    "\n",
    "raw_train, raw_test = stratified_train_test_split(reviews_sam, 0.7, label='stars', join_on='review_id')\n",
    "# text\n",
    "tokenizer = Tokenizer(inputCol=\"text\", outputCol=\"words\") \n",
    "hashingtf = HashingTF(numFeatures=2**14,inputCol=tokenizer.getOutputCol(), outputCol=\"textFeatures\")\n",
    "\n",
    "feats = {\n",
    "    'featuresCol': 'allFeatures',\n",
    "    'labelCol': 'stars'\n",
    "}\n",
    "lsvc = LinearSVC(maxIter=10, regParam=0.1, **feats)\n",
    "ovr = OneVsRest(classifier=lsvc, **feats)\n",
    "revaluator = RegressionEvaluator(predictionCol='prediction', labelCol='stars')\n",
    "state_indexer = StringIndexer(inputCol=\"state\", outputCol=\"stateIndex\", handleInvalid=\"keep\")\n",
    "state_encoder = OneHotEncoder(inputCols=[\"stateIndex\"], outputCols=[\"stateVec\"])"
   ]
  },
  {
   "cell_type": "markdown",
   "id": "673eafa1-73ae-4418-8f4e-6f39e910c82d",
   "metadata": {},
   "source": [
    "#### Below I compute four model for the four different setups."
   ]
  },
  {
   "cell_type": "code",
   "execution_count": 30,
   "id": "ac034815-a9ef-4210-8719-cb30f7254910",
   "metadata": {
    "execution": {
     "iopub.execute_input": "2025-04-11T13:29:14.497519Z",
     "iopub.status.busy": "2025-04-11T13:29:14.496708Z",
     "iopub.status.idle": "2025-04-11T13:35:05.920313Z",
     "shell.execute_reply": "2025-04-11T13:35:05.918336Z",
     "shell.execute_reply.started": "2025-04-11T13:29:14.497462Z"
    },
    "tags": []
   },
   "outputs": [
    {
     "data": {
      "text/plain": [
       "0.9728175752529415"
      ]
     },
     "execution_count": 30,
     "metadata": {},
     "output_type": "execute_result"
    }
   ],
   "source": [
    "# combine\n",
    "assembler = VectorAssembler(inputCols=[\"textFeatures\"], outputCol=\"allFeatures\")\n",
    "\n",
    "pipeline = Pipeline(stages=[tokenizer, hashingtf, assembler,ovr])\n",
    "\n",
    "trained_model_pipeline = pipeline.fit(raw_train)\n",
    "test_preds = trained_model_pipeline.transform(raw_test)\n",
    "revaluator.evaluate(test_preds, {revaluator.metricName: \"rmse\"})"
   ]
  },
  {
   "cell_type": "code",
   "execution_count": 31,
   "id": "a9eb432b-205f-403e-a188-adcd5bc35842",
   "metadata": {
    "execution": {
     "iopub.execute_input": "2025-04-11T13:35:11.146786Z",
     "iopub.status.busy": "2025-04-11T13:35:11.145886Z",
     "iopub.status.idle": "2025-04-11T13:41:00.121315Z",
     "shell.execute_reply": "2025-04-11T13:41:00.120047Z",
     "shell.execute_reply.started": "2025-04-11T13:35:11.146706Z"
    },
    "tags": []
   },
   "outputs": [
    {
     "data": {
      "text/plain": [
       "0.9730572774864338"
      ]
     },
     "execution_count": 31,
     "metadata": {},
     "output_type": "execute_result"
    }
   ],
   "source": [
    "assembler = VectorAssembler(inputCols=[\"textFeatures\", \"mentions_dirty\", \"mentions_authentic\"], outputCol=\"allFeatures\")\n",
    "\n",
    "pipeline = Pipeline(stages=[tokenizer, hashingtf, assembler,ovr])\n",
    "\n",
    "trained_model_pipeline = pipeline.fit(raw_train)\n",
    "test_preds = trained_model_pipeline.transform(raw_test)\n",
    "revaluator.evaluate(test_preds, {revaluator.metricName: \"rmse\"})"
   ]
  },
  {
   "cell_type": "code",
   "execution_count": 33,
   "id": "8aa3e3e2-210c-4d84-a093-7da2ee810825",
   "metadata": {
    "execution": {
     "iopub.execute_input": "2025-04-11T13:41:59.977221Z",
     "iopub.status.busy": "2025-04-11T13:41:59.976285Z",
     "iopub.status.idle": "2025-04-11T13:52:00.945974Z",
     "shell.execute_reply": "2025-04-11T13:52:00.944607Z",
     "shell.execute_reply.started": "2025-04-11T13:41:59.977138Z"
    },
    "tags": []
   },
   "outputs": [
    {
     "data": {
      "text/plain": [
       "0.9747573691040137"
      ]
     },
     "execution_count": 33,
     "metadata": {},
     "output_type": "execute_result"
    }
   ],
   "source": [
    "\n",
    "assembler = VectorAssembler(inputCols=[\"textFeatures\", \"stateVec\"], outputCol=\"allFeatures\")\n",
    "\n",
    "pipeline = Pipeline(stages=[tokenizer, hashingtf, state_indexer, state_encoder, assembler,ovr])\n",
    "\n",
    "trained_model_pipeline = pipeline.fit(raw_train)\n",
    "test_preds = trained_model_pipeline.transform(raw_test)\n",
    "revaluator.evaluate(test_preds, {revaluator.metricName: \"rmse\"})"
   ]
  },
  {
   "cell_type": "code",
   "execution_count": 34,
   "id": "341c45a9-03b1-4eac-8049-2f52e6372703",
   "metadata": {
    "execution": {
     "iopub.execute_input": "2025-04-11T13:52:01.101032Z",
     "iopub.status.busy": "2025-04-11T13:52:01.100828Z",
     "iopub.status.idle": "2025-04-11T13:57:44.156450Z",
     "shell.execute_reply": "2025-04-11T13:57:44.154748Z",
     "shell.execute_reply.started": "2025-04-11T13:52:01.101013Z"
    },
    "tags": []
   },
   "outputs": [
    {
     "data": {
      "text/plain": [
       "0.9749638409128306"
      ]
     },
     "execution_count": 34,
     "metadata": {},
     "output_type": "execute_result"
    }
   ],
   "source": [
    "assembler = VectorAssembler(inputCols=[\"textFeatures\", \"stateVec\", \"mentions_dirty\", \"mentions_authentic\"], outputCol=\"allFeatures\")\n",
    "\n",
    "\n",
    "pipeline = Pipeline(stages=[tokenizer, hashingtf, state_indexer, state_encoder, assembler,ovr])\n",
    "\n",
    "trained_model_pipeline = pipeline.fit(raw_train)\n",
    "test_preds = trained_model_pipeline.transform(raw_test)\n",
    "revaluator.evaluate(test_preds, {revaluator.metricName: \"rmse\"})"
   ]
  },
  {
   "cell_type": "code",
   "execution_count": 35,
   "id": "f1eb3f6d-8aeb-4a95-97de-342e48b9d85e",
   "metadata": {
    "execution": {
     "iopub.execute_input": "2025-04-11T14:00:28.750190Z",
     "iopub.status.busy": "2025-04-11T14:00:28.749446Z",
     "iopub.status.idle": "2025-04-11T14:01:44.413706Z",
     "shell.execute_reply": "2025-04-11T14:01:44.412369Z",
     "shell.execute_reply.started": "2025-04-11T14:00:28.750132Z"
    },
    "tags": []
   },
   "outputs": [
    {
     "data": {
      "text/plain": [
       "1.7961764340587196"
      ]
     },
     "execution_count": 35,
     "metadata": {},
     "output_type": "execute_result"
    }
   ],
   "source": [
    "assembler = VectorAssembler(inputCols=[\"stateVec\", \"mentions_dirty\", \"mentions_authentic\"], outputCol=\"allFeatures\")\n",
    "\n",
    "\n",
    "pipeline = Pipeline(stages=[state_indexer, state_encoder, assembler,ovr])\n",
    "\n",
    "trained_model_pipeline = pipeline.fit(raw_train)\n",
    "test_preds = trained_model_pipeline.transform(raw_test)\n",
    "revaluator.evaluate(test_preds, {revaluator.metricName: \"rmse\"})"
   ]
  }
 ],
 "metadata": {
  "kernelspec": {
   "display_name": "Python 3 ",
   "language": "python",
   "name": "python3"
  },
  "language_info": {
   "codemirror_mode": {
    "name": "ipython",
    "version": 3
   },
   "file_extension": ".py",
   "mimetype": "text/x-python",
   "name": "python",
   "nbconvert_exporter": "python",
   "pygments_lexer": "ipython3",
   "version": "3.10.6"
  }
 },
 "nbformat": 4,
 "nbformat_minor": 5
}
